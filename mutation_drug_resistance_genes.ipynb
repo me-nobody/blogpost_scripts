{
 "cells": [
  {
   "cell_type": "markdown",
   "metadata": {
    "id": "XBnXP_vJSQ79"
   },
   "source": [
    "## conservation of mutations linked to drug resistance\n",
    "\n",
    "Use the \"Run\" button to execute the code."
   ]
  },
  {
   "cell_type": "code",
   "execution_count": 1,
   "metadata": {
    "executionInfo": {
     "elapsed": 3809,
     "status": "ok",
     "timestamp": 1627366817215,
     "user": {
      "displayName": "Anubrata Das",
      "photoUrl": "https://lh3.googleusercontent.com/a-/AOh14GiI2340pPpSj6e4aG_4urL4HRwW3MRXEf5aoo2_QA=s64",
      "userId": "08781375266004215524"
     },
     "user_tz": -330
    },
    "id": "RC0HPPdZSQ8A"
   },
   "outputs": [],
   "source": [
    "!pip install jovian --upgrade --quiet"
   ]
  },
  {
   "cell_type": "code",
   "execution_count": 2,
   "metadata": {
    "executionInfo": {
     "elapsed": 47,
     "status": "ok",
     "timestamp": 1627366817217,
     "user": {
      "displayName": "Anubrata Das",
      "photoUrl": "https://lh3.googleusercontent.com/a-/AOh14GiI2340pPpSj6e4aG_4urL4HRwW3MRXEf5aoo2_QA=s64",
      "userId": "08781375266004215524"
     },
     "user_tz": -330
    },
    "id": "iCBnhl_6SQ8C"
   },
   "outputs": [],
   "source": [
    "import jovian"
   ]
  },
  {
   "cell_type": "code",
   "execution_count": 3,
   "metadata": {
    "colab": {
     "base_uri": "https://localhost:8080/",
     "height": 86
    },
    "executionInfo": {
     "elapsed": 3419,
     "status": "ok",
     "timestamp": 1627370327692,
     "user": {
      "displayName": "Anubrata Das",
      "photoUrl": "https://lh3.googleusercontent.com/a-/AOh14GiI2340pPpSj6e4aG_4urL4HRwW3MRXEf5aoo2_QA=s64",
      "userId": "08781375266004215524"
     },
     "user_tz": -330
    },
    "id": "wzjCQLrmSQ8F",
    "outputId": "cecd66a9-8cfd-4d92-d183-346e714b4b57"
   },
   "outputs": [
    {
     "data": {
      "application/javascript": [
       "window.require && require([\"base/js/namespace\"],function(Jupyter){Jupyter.notebook.save_checkpoint()})"
      ],
      "text/plain": [
       "<IPython.core.display.Javascript object>"
      ]
     },
     "metadata": {},
     "output_type": "display_data"
    },
    {
     "name": "stdout",
     "output_type": "stream",
     "text": [
      "[jovian] Updating notebook \"anubratadas/mutation-drug-resistance-genes\" on https://jovian.ai\u001b[0m\n",
      "[jovian] Committed successfully! https://jovian.ai/anubratadas/mutation-drug-resistance-genes\u001b[0m\n"
     ]
    },
    {
     "data": {
      "text/plain": [
       "'https://jovian.ai/anubratadas/mutation-drug-resistance-genes'"
      ]
     },
     "execution_count": 3,
     "metadata": {},
     "output_type": "execute_result"
    }
   ],
   "source": [
    "# Execute this to save new versions of the notebook\n",
    "jovian.commit(project=\"mutation_drug_resistance_genes\", filename=\"mutation_drug_resistance_genes\")"
   ]
  },
  {
   "cell_type": "code",
   "execution_count": 4,
   "metadata": {
    "executionInfo": {
     "elapsed": 736,
     "status": "ok",
     "timestamp": 1627366827018,
     "user": {
      "displayName": "Anubrata Das",
      "photoUrl": "https://lh3.googleusercontent.com/a-/AOh14GiI2340pPpSj6e4aG_4urL4HRwW3MRXEf5aoo2_QA=s64",
      "userId": "08781375266004215524"
     },
     "user_tz": -330
    },
    "id": "ZQKcSkowSQ8M"
   },
   "outputs": [],
   "source": [
    "import requests\n",
    "import time\n",
    "import xml.etree.ElementTree as ET\n",
    "import time\n",
    "import pandas as pd\n",
    "import numpy as np\n",
    "import matplotlib.pyplot as plt\n",
    "import seaborn as sns\n",
    "%matplotlib inline"
   ]
  },
  {
   "cell_type": "code",
   "execution_count": 45,
   "metadata": {
    "executionInfo": {
     "elapsed": 22973,
     "status": "ok",
     "timestamp": 1627370067589,
     "user": {
      "displayName": "Anubrata Das",
      "photoUrl": "https://lh3.googleusercontent.com/a-/AOh14GiI2340pPpSj6e4aG_4urL4HRwW3MRXEf5aoo2_QA=s64",
      "userId": "08781375266004215524"
     },
     "user_tz": -330
    },
    "id": "vJLgtSavSQ8O"
   },
   "outputs": [],
   "source": [
    "# from PMC Database\n",
    "url=\"https://eutils.ncbi.nlm.nih.gov/entrez/eutils/esearch.fcgi\" # base url\n",
    "def get_values(): \n",
    "    db_list=[\"pmc\"]\n",
    "    term=[\"TLS polymerase AND 'nuclear localization'\"]  \n",
    "    count_dict={}\n",
    "    count_dict['term']=term # populate the terms in the dictionary      \n",
    "    response_lst=[]\n",
    "    for item in term:\n",
    "        time.sleep(1)\n",
    "        try:\n",
    "            payload={\"db\":\"pmc\",\"term\":item,\"retype\":\"count\",\"retmax\":10000,\"email\":\"anubratadas@gmail.com\",\"api_key\":\"9577c7078191e23dfdd5015746af31abf708\" } # parameters\n",
    "            response=requests.get(url,params=payload) # response object\n",
    "            tree=ET.fromstring(response.content) # tree obtained directly from response.content using fromstring\n",
    "            count=tree.find('Count').text\n",
    "            #print(count)\n",
    "            response_lst.append(count)                \n",
    "        except error:\n",
    "            print(error)  \n",
    "    count_dict['reports']=response_lst   \n",
    "    #mutation_dict= {\"term\":term,str(db):response_lst}    \n",
    "    return  count_dict # return count of listings\n",
    "                   \n",
    "count_dict=get_values()"
   ]
  },
  {
   "cell_type": "code",
   "execution_count": 46,
   "metadata": {
    "colab": {
     "base_uri": "https://localhost:8080/"
    },
    "executionInfo": {
     "elapsed": 484,
     "status": "ok",
     "timestamp": 1627370280202,
     "user": {
      "displayName": "Anubrata Das",
      "photoUrl": "https://lh3.googleusercontent.com/a-/AOh14GiI2340pPpSj6e4aG_4urL4HRwW3MRXEf5aoo2_QA=s64",
      "userId": "08781375266004215524"
     },
     "user_tz": -330
    },
    "id": "CC8d7nZNSQ8R",
    "outputId": "3f9baef8-9933-4dc4-f474-9ca7f093f5d8"
   },
   "outputs": [
    {
     "data": {
      "text/plain": [
       "term       object\n",
       "reports     int64\n",
       "dtype: object"
      ]
     },
     "execution_count": 46,
     "metadata": {},
     "output_type": "execute_result"
    }
   ],
   "source": [
    "df_mutation=pd.DataFrame(count_dict)\n",
    "df_mutation['reports']=pd.to_numeric(df_mutation['reports'])\n",
    "#df_mutation['reports']=df_mutation['reports'].map(lambda x:np.log(x))\n",
    "df_mutation.dtypes"
   ]
  },
  {
   "cell_type": "code",
   "execution_count": 47,
   "metadata": {
    "colab": {
     "base_uri": "https://localhost:8080/",
     "height": 421
    },
    "executionInfo": {
     "elapsed": 492,
     "status": "ok",
     "timestamp": 1627370284905,
     "user": {
      "displayName": "Anubrata Das",
      "photoUrl": "https://lh3.googleusercontent.com/a-/AOh14GiI2340pPpSj6e4aG_4urL4HRwW3MRXEf5aoo2_QA=s64",
      "userId": "08781375266004215524"
     },
     "user_tz": -330
    },
    "id": "GA4lXsYwSQ8W",
    "outputId": "288e841f-4c9d-4960-94a0-7c9f66a27ba0"
   },
   "outputs": [
    {
     "data": {
      "text/html": [
       "<div>\n",
       "<style scoped>\n",
       "    .dataframe tbody tr th:only-of-type {\n",
       "        vertical-align: middle;\n",
       "    }\n",
       "\n",
       "    .dataframe tbody tr th {\n",
       "        vertical-align: top;\n",
       "    }\n",
       "\n",
       "    .dataframe thead th {\n",
       "        text-align: right;\n",
       "    }\n",
       "</style>\n",
       "<table border=\"1\" class=\"dataframe\">\n",
       "  <thead>\n",
       "    <tr style=\"text-align: right;\">\n",
       "      <th></th>\n",
       "      <th>term</th>\n",
       "      <th>reports</th>\n",
       "    </tr>\n",
       "  </thead>\n",
       "  <tbody>\n",
       "    <tr>\n",
       "      <th>0</th>\n",
       "      <td>TLS polymerase AND 'nuclear localization'</td>\n",
       "      <td>1</td>\n",
       "    </tr>\n",
       "  </tbody>\n",
       "</table>\n",
       "</div>"
      ],
      "text/plain": [
       "                                        term  reports\n",
       "0  TLS polymerase AND 'nuclear localization'        1"
      ]
     },
     "execution_count": 47,
     "metadata": {},
     "output_type": "execute_result"
    }
   ],
   "source": [
    "df_mutation"
   ]
  },
  {
   "cell_type": "code",
   "execution_count": 61,
   "metadata": {
    "colab": {
     "base_uri": "https://localhost:8080/",
     "height": 441
    },
    "executionInfo": {
     "elapsed": 972,
     "status": "ok",
     "timestamp": 1627370313223,
     "user": {
      "displayName": "Anubrata Das",
      "photoUrl": "https://lh3.googleusercontent.com/a-/AOh14GiI2340pPpSj6e4aG_4urL4HRwW3MRXEf5aoo2_QA=s64",
      "userId": "08781375266004215524"
     },
     "user_tz": -330
    },
    "id": "e-IlJIAASQ8a",
    "outputId": "add2e719-3514-4817-de7d-49fc51a81c14"
   },
   "outputs": [
    {
     "data": {
      "image/png": "[encoded data removed]",
      "text/plain": [
       "<Figure size 864x432 with 1 Axes>"
      ]
     },
     "metadata": {
      "needs_background": "light",
      "tags": []
     },
     "output_type": "display_data"
    }
   ],
   "source": [
    "plt.figure(figsize=(12, 6))\n",
    "plt.title('')\n",
    "sns.barplot(data=df_mutation,x='term',y='reports');\n",
    "plt.xticks(rotation=70)\n",
    "plt.tight_layout()"
   ]
  },
  {
   "cell_type": "code",
   "execution_count": 57,
   "metadata": {
    "colab": {
     "base_uri": "https://localhost:8080/"
    },
    "executionInfo": {
     "elapsed": 18740,
     "status": "ok",
     "timestamp": 1627371208635,
     "user": {
      "displayName": "Anubrata Das",
      "photoUrl": "https://lh3.googleusercontent.com/a-/AOh14GiI2340pPpSj6e4aG_4urL4HRwW3MRXEf5aoo2_QA=s64",
      "userId": "08781375266004215524"
     },
     "user_tz": -330
    },
    "id": "VifSovs-SQ8d",
    "outputId": "fd2782a8-2103-4759-c8ff-a7824ada8e7a"
   },
   "outputs": [
    {
     "name": "stdout",
     "output_type": "stream",
     "text": [
      " 95 records retrieved\n"
     ]
    }
   ],
   "source": [
    "# from PMC Database\n",
    "url=\"https://eutils.ncbi.nlm.nih.gov/entrez/eutils/esearch.fcgi\" # base url\n",
    "def get_efetch_uids(item): \n",
    "    uid_lst=[] # list object to collect the uids generated by Esearch    \n",
    "    try:\n",
    "        payload={\"db\":\"pmc\",\"term\":item,\"retype\":\"count\",\"retmax\":100000,\"email\":\"anubratadas@gmail.com\",\"api_key\":\"9577c7078191e23dfdd5015746af31abf708\" } # parameters\n",
    "        response=requests.get(url,params=payload) # response object\n",
    "        response.raise_for_status()\n",
    "        root=ET.fromstring(response.content) # tree obtained directly from response.content using fromstring\n",
    "        id_list=root.find('IdList')   \n",
    "        return id_list\n",
    "    except requests.exceptions.HTTPError as err:\n",
    "        raise SystemExit(err)\n",
    "    except requests.exceptions.TooManyRedirects:\n",
    "        print(\"please try a different URL\")\n",
    "            \n",
    "def call_efetch(): # removed \"cancer AND mutations\" and \"cancer AND pathways AND mutations\"\n",
    "    term=[\"DNA polymerase AND 'nuclear localization'\"]  \n",
    "    uid_list=[]\n",
    "    for item in term:\n",
    "        time.sleep(1)\n",
    "        id_list=get_efetch_uids(item)        \n",
    "        for id_num in id_list:\n",
    "            uid_list.append(id_num.text)\n",
    "    uid=\",\".join(uid_list) \n",
    "    print(f' {len(uid_list)} records retrieved')\n",
    "    return uid\n",
    "uid=call_efetch()"
   ]
  },
  {
   "cell_type": "code",
   "execution_count": 43,
   "metadata": {
    "executionInfo": {
     "elapsed": 748,
     "status": "ok",
     "timestamp": 1627366894957,
     "user": {
      "displayName": "Anubrata Das",
      "photoUrl": "https://lh3.googleusercontent.com/a-/AOh14GiI2340pPpSj6e4aG_4urL4HRwW3MRXEf5aoo2_QA=s64",
      "userId": "08781375266004215524"
     },
     "user_tz": -330
    },
    "id": "PQ0VS-1eSQ8h"
   },
   "outputs": [],
   "source": [
    "# Esummary with the string variable from Esearch passed to id parameter of Esummary\n",
    "# since we have more than 200 records we have to use post\n",
    "url_summ=\"https://eutils.ncbi.nlm.nih.gov/entrez/eutils/esummary.fcgi?\"\n",
    "payload={\"db\":\"pmc\",\"id\":uid,\"email\":\"anubratadas@gmail.com\",\"api_key\":\"9577c7078191e23dfdd5015746af31abf708\" } \n",
    "response_esumm_uid=requests.get(url_summ,params=payload) # response object\n",
    "esummary_root_et=ET.fromstring(response_esumm_uid.content)"
   ]
  },
  {
   "cell_type": "code",
   "execution_count": 44,
   "metadata": {
    "colab": {
     "base_uri": "https://localhost:8080/"
    },
    "executionInfo": {
     "elapsed": 28,
     "status": "ok",
     "timestamp": 1627366894960,
     "user": {
      "displayName": "Anubrata Das",
      "photoUrl": "https://lh3.googleusercontent.com/a-/AOh14GiI2340pPpSj6e4aG_4urL4HRwW3MRXEf5aoo2_QA=s64",
      "userId": "08781375266004215524"
     },
     "user_tz": -330
    },
    "id": "TyMp4WgJSQ8i",
    "outputId": "4a05352a-e160-4503-8902-d1520fc8a1dd"
   },
   "outputs": [],
   "source": [
    "with open(\"ploymerase_refs.txt\",\"w\") as fh:\n",
    "    for child in ET.fromstring(response_esumm_uid.content):\n",
    "        for subchild in child:\n",
    "            try:\n",
    "                fh.write(subchild.text)   \n",
    "            except:\n",
    "                continue                "
   ]
  },
  {
   "cell_type": "markdown",
   "metadata": {
    "id": "5RMJAp5dSQ8l"
   },
   "source": [
    "as the list of files were large in number, the server refused connection"
   ]
  },
  {
   "cell_type": "markdown",
   "metadata": {
    "id": "tlK2x9YCSQ8o"
   },
   "source": [
    "now we will chunk up the list of files into units of 1000"
   ]
  },
  {
   "cell_type": "code",
   "execution_count": 15,
   "metadata": {
    "colab": {
     "base_uri": "https://localhost:8080/"
    },
    "executionInfo": {
     "elapsed": 1092,
     "status": "ok",
     "timestamp": 1627366896037,
     "user": {
      "displayName": "Anubrata Das",
      "photoUrl": "https://lh3.googleusercontent.com/a-/AOh14GiI2340pPpSj6e4aG_4urL4HRwW3MRXEf5aoo2_QA=s64",
      "userId": "08781375266004215524"
     },
     "user_tz": -330
    },
    "id": "S_Bm8hSTSQ8r",
    "outputId": "44fb492a-3a31-44ae-faaf-f106be85b2c0"
   },
   "outputs": [
    {
     "name": "stdout",
     "output_type": "stream",
     "text": [
      "5868\n"
     ]
    }
   ],
   "source": [
    "# this function creates sublists of 200 entries each for getting esummary records\n",
    "\n",
    "def chunk_list():\n",
    "    master_list_=[]\n",
    "    add_list=[]  # create a temporary list variable\n",
    "    new_uid_list=uid.split(\",\") # create a list of UIDs back from the string generated earlier by merging the UIDs\n",
    "    print(len(new_uid_list))\n",
    "    a=200 # select the chunk size\n",
    "    while len(new_uid_list)>=0:  # check that input list is nonzero\n",
    "        add_list=new_uid_list[:a]   # append the first 200 entries from input to the temporary list variable\n",
    "        del new_uid_list[:a]        # delete the entries transferred to the temporary list from the input list   \n",
    "        master_list_.append(add_list)    \n",
    "        if len(new_uid_list)<=0:\n",
    "            break   \n",
    "    return master_list_         \n",
    "master_list=chunk_list()"
   ]
  },
  {
   "cell_type": "code",
   "execution_count": 16,
   "metadata": {
    "colab": {
     "base_uri": "https://localhost:8080/"
    },
    "executionInfo": {
     "elapsed": 23,
     "status": "ok",
     "timestamp": 1627366896040,
     "user": {
      "displayName": "Anubrata Das",
      "photoUrl": "https://lh3.googleusercontent.com/a-/AOh14GiI2340pPpSj6e4aG_4urL4HRwW3MRXEf5aoo2_QA=s64",
      "userId": "08781375266004215524"
     },
     "user_tz": -330
    },
    "id": "lC8zI9GoSQ8x",
    "outputId": "39e514ea-634e-40f3-ab67-566a3a5a94cd"
   },
   "outputs": [
    {
     "data": {
      "text/plain": [
       "['8257504',\n",
       " '8287939',\n",
       " '8275338',\n",
       " '8243336',\n",
       " '8265155',\n",
       " '8262728',\n",
       " '8256890',\n",
       " '8248980',\n",
       " '8225391']"
      ]
     },
     "execution_count": 16,
     "metadata": {
      "tags": []
     },
     "output_type": "execute_result"
    }
   ],
   "source": [
    "master_list[0][1:10]"
   ]
  },
  {
   "cell_type": "code",
   "execution_count": 17,
   "metadata": {
    "colab": {
     "base_uri": "https://localhost:8080/"
    },
    "executionInfo": {
     "elapsed": 1342,
     "status": "ok",
     "timestamp": 1627366897367,
     "user": {
      "displayName": "Anubrata Das",
      "photoUrl": "https://lh3.googleusercontent.com/a-/AOh14GiI2340pPpSj6e4aG_4urL4HRwW3MRXEf5aoo2_QA=s64",
      "userId": "08781375266004215524"
     },
     "user_tz": -330
    },
    "id": "Lyj22oZGSQ80",
    "outputId": "6a0527af-458a-4a32-9681-1abe8e4507e3"
   },
   "outputs": [
    {
     "name": "stdout",
     "output_type": "stream",
     "text": [
      "30\n"
     ]
    }
   ],
   "source": [
    "# this code snippet will change the UIDs in the sublist back into strings for searching with esummary as a parameter\n",
    "def uid_string_convert(master_list):\n",
    "    uid_string_list=[]\n",
    "    for sublist in master_list:\n",
    "        str_uid=\",\".join(sublist)\n",
    "        uid_string_list.append(str_uid)\n",
    "    print(len(uid_string_list))\n",
    "    return uid_string_list\n",
    "\n",
    "\n",
    "def get_summary():\n",
    "    uid_string_list=uid_string_convert(master_list)\n",
    "    for uid_string in uid_string_list:    \n",
    "        url_summ=\"https://eutils.ncbi.nlm.nih.gov/entrez/eutils/esummary.fcgi?\"\n",
    "        payload={\"db\":\"pmc\",\"id\":uid_string,\"email\":\"anubratadas@gmail.com\",\"api_key\":\"9577c7078191e23dfdd5015746af31abf708\" } \n",
    "        time.sleep(1)                                              # server throttle\n",
    "        response_esumm_uid=requests.get(url_summ,params=payload)   # response object\n",
    "        esummary_root_et=ET.fromstring(response_esumm_uid.content) # get content\n",
    "        docsum=esummary_root_et.findall('DocSum')                  # find document\n",
    "        return docsum\n",
    "\n",
    "def parse_docsum():\n",
    "    title_dict={\"uid\":[],\"title\":[]}\n",
    "    title_list=[]\n",
    "    uid_list=[]\n",
    "    docsum_list=get_summary()\n",
    "    for entry in docsum_list:\n",
    "        id_=entry.find('Id')\n",
    "        #print(id.text)\n",
    "        uid_list.append(id_.text)\n",
    "        title=entry.find('Item[@Name=\"Title\"]')\n",
    "        #print(title.text)\n",
    "        title_list.append(title.text)\n",
    "    title_dict[\"title\"]=title_list\n",
    "    title_dict[\"uid\"]=uid_list\n",
    "    return title_dict\n",
    "\n",
    "title_dict=parse_docsum()\n",
    "search_title=pd.DataFrame(title_dict)\n",
    "search_title_csv=search_title.to_csv(\"ncbi_search_titles_pmc.csv\")"
   ]
  },
  {
   "cell_type": "code",
   "execution_count": 18,
   "metadata": {
    "colab": {
     "base_uri": "https://localhost:8080/",
     "height": 419
    },
    "executionInfo": {
     "elapsed": 29,
     "status": "ok",
     "timestamp": 1627366897370,
     "user": {
      "displayName": "Anubrata Das",
      "photoUrl": "https://lh3.googleusercontent.com/a-/AOh14GiI2340pPpSj6e4aG_4urL4HRwW3MRXEf5aoo2_QA=s64",
      "userId": "08781375266004215524"
     },
     "user_tz": -330
    },
    "id": "xISEwXyISQ83",
    "outputId": "b7821009-ab3e-434a-fa80-2d34dd4c46b1"
   },
   "outputs": [
    {
     "data": {
      "text/html": [
       "<div>\n",
       "<style scoped>\n",
       "    .dataframe tbody tr th:only-of-type {\n",
       "        vertical-align: middle;\n",
       "    }\n",
       "\n",
       "    .dataframe tbody tr th {\n",
       "        vertical-align: top;\n",
       "    }\n",
       "\n",
       "    .dataframe thead th {\n",
       "        text-align: right;\n",
       "    }\n",
       "</style>\n",
       "<table border=\"1\" class=\"dataframe\">\n",
       "  <thead>\n",
       "    <tr style=\"text-align: right;\">\n",
       "      <th></th>\n",
       "      <th>uid</th>\n",
       "      <th>title</th>\n",
       "    </tr>\n",
       "  </thead>\n",
       "  <tbody>\n",
       "    <tr>\n",
       "      <th>0</th>\n",
       "      <td>8303718</td>\n",
       "      <td>Functional Roles of Bromodomain Proteins in Ca...</td>\n",
       "    </tr>\n",
       "    <tr>\n",
       "      <th>1</th>\n",
       "      <td>8257504</td>\n",
       "      <td>The genome of Nautilus pompilius illuminates e...</td>\n",
       "    </tr>\n",
       "    <tr>\n",
       "      <th>2</th>\n",
       "      <td>8287939</td>\n",
       "      <td>The phase separation-dependent FUS interactome...</td>\n",
       "    </tr>\n",
       "    <tr>\n",
       "      <th>3</th>\n",
       "      <td>8275338</td>\n",
       "      <td>A novel constrained genetic algorithm-based Bo...</td>\n",
       "    </tr>\n",
       "    <tr>\n",
       "      <th>4</th>\n",
       "      <td>8243336</td>\n",
       "      <td>At elevated temperatures, heat shock protein g...</td>\n",
       "    </tr>\n",
       "    <tr>\n",
       "      <th>...</th>\n",
       "      <td>...</td>\n",
       "      <td>...</td>\n",
       "    </tr>\n",
       "    <tr>\n",
       "      <th>195</th>\n",
       "      <td>6916592</td>\n",
       "      <td>Genotype‐guided diagnostic reassessment after ...</td>\n",
       "    </tr>\n",
       "    <tr>\n",
       "      <th>196</th>\n",
       "      <td>6813942</td>\n",
       "      <td>CRISPR’d babies: human germline genome editing...</td>\n",
       "    </tr>\n",
       "    <tr>\n",
       "      <th>197</th>\n",
       "      <td>6785828</td>\n",
       "      <td>Modeling monogenic diabetes using human ES cel...</td>\n",
       "    </tr>\n",
       "    <tr>\n",
       "      <th>198</th>\n",
       "      <td>6715855</td>\n",
       "      <td>The roles of the human SETMAR (Metnase) protei...</td>\n",
       "    </tr>\n",
       "    <tr>\n",
       "      <th>199</th>\n",
       "      <td>6676326</td>\n",
       "      <td>In the search of a ‘fitness gene’: an analysis...</td>\n",
       "    </tr>\n",
       "  </tbody>\n",
       "</table>\n",
       "<p>200 rows × 2 columns</p>\n",
       "</div>"
      ],
      "text/plain": [
       "         uid                                              title\n",
       "0    8303718  Functional Roles of Bromodomain Proteins in Ca...\n",
       "1    8257504  The genome of Nautilus pompilius illuminates e...\n",
       "2    8287939  The phase separation-dependent FUS interactome...\n",
       "3    8275338  A novel constrained genetic algorithm-based Bo...\n",
       "4    8243336  At elevated temperatures, heat shock protein g...\n",
       "..       ...                                                ...\n",
       "195  6916592  Genotype‐guided diagnostic reassessment after ...\n",
       "196  6813942  CRISPR’d babies: human germline genome editing...\n",
       "197  6785828  Modeling monogenic diabetes using human ES cel...\n",
       "198  6715855  The roles of the human SETMAR (Metnase) protei...\n",
       "199  6676326  In the search of a ‘fitness gene’: an analysis...\n",
       "\n",
       "[200 rows x 2 columns]"
      ]
     },
     "execution_count": 18,
     "metadata": {
      "tags": []
     },
     "output_type": "execute_result"
    }
   ],
   "source": [
    "search_title"
   ]
  },
  {
   "cell_type": "code",
   "execution_count": 19,
   "metadata": {
    "executionInfo": {
     "elapsed": 1239,
     "status": "ok",
     "timestamp": 1627366898586,
     "user": {
      "displayName": "Anubrata Das",
      "photoUrl": "https://lh3.googleusercontent.com/a-/AOh14GiI2340pPpSj6e4aG_4urL4HRwW3MRXEf5aoo2_QA=s64",
      "userId": "08781375266004215524"
     },
     "user_tz": -330
    },
    "id": "3_hyhDlzSQ8-"
   },
   "outputs": [],
   "source": [
    "# Esummary with the string variable from Esearch passed to id parameter of Esummary\n",
    "# since we have more than 200 records we have to use post\n",
    "url_summ=\"https://eutils.ncbi.nlm.nih.gov/entrez/eutils/esummary.fcgi?\"\n",
    "payload={\"db\":\"pubmed\",\"id\":\"8021012\",\"email\":\"anubratadas@gmail.com\",\"api_key\":\"9577c7078191e23dfdd5015746af31abf708\" } \n",
    "response_esumm_uid=requests.post(url_summ,params=payload) # response object\n",
    "esummary_root_et=ET.fromstring(response_esumm_uid.content)"
   ]
  },
  {
   "cell_type": "code",
   "execution_count": 20,
   "metadata": {
    "colab": {
     "base_uri": "https://localhost:8080/",
     "height": 35
    },
    "executionInfo": {
     "elapsed": 45,
     "status": "ok",
     "timestamp": 1627366898588,
     "user": {
      "displayName": "Anubrata Das",
      "photoUrl": "https://lh3.googleusercontent.com/a-/AOh14GiI2340pPpSj6e4aG_4urL4HRwW3MRXEf5aoo2_QA=s64",
      "userId": "08781375266004215524"
     },
     "user_tz": -330
    },
    "id": "iyfiUfQNSQ9A",
    "outputId": "bd1f7012-514e-496a-bd80-b1e2ca8e4b84"
   },
   "outputs": [
    {
     "data": {
      "application/vnd.google.colaboratory.intrinsic+json": {
       "type": "string"
      },
      "text/plain": [
       "'Vascular hypertrophy in renal hypertensive spontaneously hypertensive rats.'"
      ]
     },
     "execution_count": 20,
     "metadata": {
      "tags": []
     },
     "output_type": "execute_result"
    }
   ],
   "source": [
    "esummary_root_et.find('DocSum/Item[@Name=\"Title\"]').text"
   ]
  },
  {
   "cell_type": "code",
   "execution_count": 21,
   "metadata": {
    "colab": {
     "base_uri": "https://localhost:8080/",
     "height": 35
    },
    "executionInfo": {
     "elapsed": 39,
     "status": "ok",
     "timestamp": 1627366898590,
     "user": {
      "displayName": "Anubrata Das",
      "photoUrl": "https://lh3.googleusercontent.com/a-/AOh14GiI2340pPpSj6e4aG_4urL4HRwW3MRXEf5aoo2_QA=s64",
      "userId": "08781375266004215524"
     },
     "user_tz": -330
    },
    "id": "EGz-B-ApSQ9D",
    "outputId": "f0144d92-c142-4953-eaf4-aa6ba277e47a"
   },
   "outputs": [
    {
     "data": {
      "application/vnd.google.colaboratory.intrinsic+json": {
       "type": "string"
      },
      "text/plain": [
       "'8021012'"
      ]
     },
     "execution_count": 21,
     "metadata": {
      "tags": []
     },
     "output_type": "execute_result"
    }
   ],
   "source": [
    "esummary_root_et.find('DocSum/Id').text"
   ]
  },
  {
   "cell_type": "code",
   "execution_count": 98,
   "metadata": {
    "colab": {
     "base_uri": "https://localhost:8080/",
     "height": 86
    },
    "executionInfo": {
     "elapsed": 3318,
     "status": "ok",
     "timestamp": 1627376953111,
     "user": {
      "displayName": "Anubrata Das",
      "photoUrl": "https://lh3.googleusercontent.com/a-/AOh14GiI2340pPpSj6e4aG_4urL4HRwW3MRXEf5aoo2_QA=s64",
      "userId": "08781375266004215524"
     },
     "user_tz": -330
    },
    "id": "_eCVgqQ-SQ9E",
    "outputId": "1ec13cc6-373c-436f-f0a9-d5c17900c8c2"
   },
   "outputs": [
    {
     "name": "stdout",
     "output_type": "stream",
     "text": [
      "[jovian] Detected Colab notebook...\u001b[0m\n",
      "[jovian] Uploading colab notebook to Jovian...\u001b[0m\n",
      "Committed successfully! https://jovian.ai/anubratadas/mutation-drug-resistance-genes\n"
     ]
    },
    {
     "data": {
      "application/vnd.google.colaboratory.intrinsic+json": {
       "type": "string"
      },
      "text/plain": [
       "'https://jovian.ai/anubratadas/mutation-drug-resistance-genes'"
      ]
     },
     "execution_count": 98,
     "metadata": {
      "tags": []
     },
     "output_type": "execute_result"
    }
   ],
   "source": [
    "jovian.commit(project=\"mutation_drug_resistance_genes\", filename=\"mutation_drug_resistance_genes\")"
   ]
  },
  {
   "cell_type": "markdown",
   "metadata": {
    "id": "84B3v-mBmvcw"
   },
   "source": [
    "#### now we shall try to get the records"
   ]
  },
  {
   "cell_type": "code",
   "execution_count": 23,
   "metadata": {
    "executionInfo": {
     "elapsed": 42,
     "status": "ok",
     "timestamp": 1627366900872,
     "user": {
      "displayName": "Anubrata Das",
      "photoUrl": "https://lh3.googleusercontent.com/a-/AOh14GiI2340pPpSj6e4aG_4urL4HRwW3MRXEf5aoo2_QA=s64",
      "userId": "08781375266004215524"
     },
     "user_tz": -330
    },
    "id": "4wQo-Uz-mvcx"
   },
   "outputs": [],
   "source": [
    "fetch_url=\",\".join(master_list[0])"
   ]
  },
  {
   "cell_type": "code",
   "execution_count": 24,
   "metadata": {
    "colab": {
     "base_uri": "https://localhost:8080/",
     "height": 137
    },
    "executionInfo": {
     "elapsed": 45,
     "status": "ok",
     "timestamp": 1627366900878,
     "user": {
      "displayName": "Anubrata Das",
      "photoUrl": "https://lh3.googleusercontent.com/a-/AOh14GiI2340pPpSj6e4aG_4urL4HRwW3MRXEf5aoo2_QA=s64",
      "userId": "08781375266004215524"
     },
     "user_tz": -330
    },
    "id": "2WJx8tlOa3fC",
    "outputId": "057f3e9a-52d7-421c-dacf-26593d4bb14b"
   },
   "outputs": [
    {
     "data": {
      "application/vnd.google.colaboratory.intrinsic+json": {
       "type": "string"
      },
      "text/plain": [
       "'8303718,8257504,8287939,8275338,8243336,8265155,8262728,8256890,8248980,8225391,8235170,8232626,8221386,8187381,8077053,8192126,8118313,8151074,8130048,8125410,8082263,8073968,8043407,8066772,7990087,8093989,8021012,7979703,7945669,8088342,7970106,7926393,7898014,7922087,8008486,7925619,7937031,7914857,7913311,7851172,8075535,7865432,7986148,7838904,8131040,8034535,7837469,7877913,7861014,7802155,7794078,7786334,7782688,7943042,7738981,7823342,7785249,7747571,7738555,7744054,7596405,7684970,7904073,7725327,7724325,7966638,7709044,7778899,7689034,7656703,7752041,7651821,7710505,7648144,7604749,7779059,7661550,7591249,7779011,7861016,7576724,7900948,7779053,7557149,8208305,7549480,7509766,7660261,7569937,7790753,7674757,7575970,7555362,7444254,7471748,7464555,7452722,7463534,7710562,7423336,7398276,7116779,7387688,7386301,7397227,7520283,7390454,7404684,7355253,7401007,7335045,7333331,7430637,7680530,7339035,7501820,7293170,7287090,7388439,7252619,7251935,7666068,7216732,7226225,7211031,7279190,7204016,7319464,7181647,7398125,7229836,7211443,7314550,7226376,7162840,7226744,7136154,7418627,7192596,7061090,7067701,7054260,7140413,7140889,7047751,7015314,7144089,7144943,7160665,7158377,7820861,6997577,7845138,6980575,7891839,7102970,7191305,6974404,7203096,7171178,7003088,6917511,6940956,7187197,6901387,7187390,6954439,6889567,6949924,6878945,6877611,6966610,6873570,6872528,7145519,6874469,7145679,6836353,6844065,6824332,6819550,6834290,6812964,6935424,6822486,6943066,6761289,6801978,6943045,6790385,6759317,7946161,6854449,6742441,7004912,6916592,6813942,6785828,6715855,6676326'"
      ]
     },
     "execution_count": 24,
     "metadata": {
      "tags": []
     },
     "output_type": "execute_result"
    }
   ],
   "source": [
    "fetch_url"
   ]
  },
  {
   "cell_type": "code",
   "execution_count": 25,
   "metadata": {
    "executionInfo": {
     "elapsed": 1009,
     "status": "ok",
     "timestamp": 1627366901850,
     "user": {
      "displayName": "Anubrata Das",
      "photoUrl": "https://lh3.googleusercontent.com/a-/AOh14GiI2340pPpSj6e4aG_4urL4HRwW3MRXEf5aoo2_QA=s64",
      "userId": "08781375266004215524"
     },
     "user_tz": -330
    },
    "id": "0Yr7_wbCmvcz"
   },
   "outputs": [],
   "source": [
    "response_efetch=requests.get(\"https://eutils.ncbi.nlm.nih.gov/entrez/eutils/efetch.fcgi\",params={\"db\":\"pmc\",\"id\":'6650054',\"format\":\"xml\"})"
   ]
  },
  {
   "cell_type": "code",
   "execution_count": 26,
   "metadata": {
    "colab": {
     "base_uri": "https://localhost:8080/"
    },
    "executionInfo": {
     "elapsed": 36,
     "status": "ok",
     "timestamp": 1627366901852,
     "user": {
      "displayName": "Anubrata Das",
      "photoUrl": "https://lh3.googleusercontent.com/a-/AOh14GiI2340pPpSj6e4aG_4urL4HRwW3MRXEf5aoo2_QA=s64",
      "userId": "08781375266004215524"
     },
     "user_tz": -330
    },
    "id": "dpZ2PrXamvc0",
    "outputId": "76049596-3ccd-4930-e46b-47bcea0b4d4e"
   },
   "outputs": [
    {
     "name": "stdout",
     "output_type": "stream",
     "text": [
      "None\n"
     ]
    }
   ],
   "source": [
    "print(response_efetch.raise_for_status())"
   ]
  },
  {
   "cell_type": "code",
   "execution_count": 27,
   "metadata": {
    "colab": {
     "base_uri": "https://localhost:8080/"
    },
    "executionInfo": {
     "elapsed": 19,
     "status": "ok",
     "timestamp": 1627366901853,
     "user": {
      "displayName": "Anubrata Das",
      "photoUrl": "https://lh3.googleusercontent.com/a-/AOh14GiI2340pPpSj6e4aG_4urL4HRwW3MRXEf5aoo2_QA=s64",
      "userId": "08781375266004215524"
     },
     "user_tz": -330
    },
    "id": "E1ZBBzA2mvc1",
    "outputId": "4f5700c9-0272-45f0-d8fe-7c026edefd9d"
   },
   "outputs": [
    {
     "name": "stdout",
     "output_type": "stream",
     "text": [
      "/bin/bash: conda: command not found\n"
     ]
    }
   ],
   "source": [
    "!conda install lxml --yes --quiet"
   ]
  },
  {
   "cell_type": "code",
   "execution_count": 28,
   "metadata": {
    "executionInfo": {
     "elapsed": 126,
     "status": "ok",
     "timestamp": 1627366903176,
     "user": {
      "displayName": "Anubrata Das",
      "photoUrl": "https://lh3.googleusercontent.com/a-/AOh14GiI2340pPpSj6e4aG_4urL4HRwW3MRXEf5aoo2_QA=s64",
      "userId": "08781375266004215524"
     },
     "user_tz": -330
    },
    "id": "Frx3QJQvmvc2"
   },
   "outputs": [],
   "source": [
    "from lxml import etree\n",
    "from io import StringIO, BytesIO"
   ]
  },
  {
   "cell_type": "code",
   "execution_count": 29,
   "metadata": {
    "executionInfo": {
     "elapsed": 124,
     "status": "ok",
     "timestamp": 1627366903179,
     "user": {
      "displayName": "Anubrata Das",
      "photoUrl": "https://lh3.googleusercontent.com/a-/AOh14GiI2340pPpSj6e4aG_4urL4HRwW3MRXEf5aoo2_QA=s64",
      "userId": "08781375266004215524"
     },
     "user_tz": -330
    },
    "id": "wiPicaE1mvc3"
   },
   "outputs": [],
   "source": [
    "root=etree.parse(StringIO(response_efetch.text))"
   ]
  },
  {
   "cell_type": "code",
   "execution_count": 30,
   "metadata": {
    "colab": {
     "base_uri": "https://localhost:8080/"
    },
    "executionInfo": {
     "elapsed": 125,
     "status": "ok",
     "timestamp": 1627366903183,
     "user": {
      "displayName": "Anubrata Das",
      "photoUrl": "https://lh3.googleusercontent.com/a-/AOh14GiI2340pPpSj6e4aG_4urL4HRwW3MRXEf5aoo2_QA=s64",
      "userId": "08781375266004215524"
     },
     "user_tz": -330
    },
    "id": "IEqZbiDUmvc4",
    "outputId": "4389dfc0-2e44-46c4-e1b8-d202d5a1d7b0"
   },
   "outputs": [
    {
     "name": "stdout",
     "output_type": "stream",
     "text": [
      "b'<!DOCTYPE pmc-articleset PUBLIC \"-//NLM//DTD ARTICLE SET 2.0//EN\" \"https://dtd.nlm.nih.gov/ncbi/pmc/articleset/nlm-articleset-2.0.dtd\">\\n<pmc-articleset><article xmlns:xlink=\"http://www.w3.org/1999/xlink\" xmlns:mml=\"http://www.w3.org/1998/Math/MathML\" article-type=\"research-article\">\\n  <?properties open_access?>\\n  <front>\\n    <journal-meta>\\n      <journal-id journal-id-type=\"nlm-ta\">PLoS One</journal-id>\\n      <journal-id journal-id-type=\"iso-abbrev\">PLoS ONE</journal-id>\\n      <journal-id journal-id-type=\"publisher-id\">plos</journal-id>\\n      <journal-id journal-id-type=\"pmc\">plosone</journal-id>\\n      <journal-title-group>\\n        <journal-title>PLoS ONE</journal-title>\\n      </journal-title-group>\\n      <issn pub-type=\"epub\">1932-6203</issn>\\n      <publisher>\\n        <publisher-name>Public Library of Science</publisher-name>\\n        <publisher-loc>San Francisco, CA USA</publisher-loc>\\n      </publisher>\\n    </journal-meta>\\n    <article-meta>\\n      <article-id pub-id-type=\"pmid\">31335867</article-id>\\n      <article-id pub-id-type=\"pmc\">6650054</article-id>\\n      <article-id pub-id-type=\"publisher-id\">PONE-D-19-04450</article-id>\\n      <article-id pub-id-type=\"doi\">10.1371/journal.pone.0213221</article-id>\\n      <article-categories>\\n        <subj-group subj-group-type=\"heading\">\\n          <subject>Research Article</subject>\\n        </subj-group>\\n        <subj-group subj-group-type=\"Discipline-v3\">\\n          <subject>Biology and Life Sciences</subject>\\n          <subj-group>\\n            <subject>Genetics</subject>\\n            <subj-group>\\n              <subject>Gene Types</subject>\\n              <subj-group>\\n                <subject>Regulator Genes</subject>\\n              </subj-group>\\n            </subj-group>\\n          </subj-group>\\n        </subj-group>\\n        <subj-group subj-group-type=\"Discipline-v3\">\\n          <subject>Biology and Life Sciences</subject>\\n          <subj-group>\\n            <subject>Genetics</subject>\\n            <subj-group>\\n              <subject>Gene Expression</subject>\\n              <subj-group>\\n                <subject>Gene Regulation</subject>\\n              </subj-group>\\n            </subj-group>\\n          </subj-group>\\n        </subj-group>\\n        <subj-group subj-group-type=\"Discipline-v3\">\\n          <subject>Biology and Life Sciences</subject>\\n          <subj-group>\\n            <subject>Genetics</subject>\\n            <subj-group>\\n              <subject>Gene Expression</subject>\\n            </subj-group>\\n          </subj-group>\\n        </subj-group>\\n        <subj-group subj-group-type=\"Discipline-v3\">\\n          <subject>Biology and Life Sciences</subject>\\n          <subj-group>\\n            <subject>Genetics</subject>\\n            <subj-group>\\n              <subject>Gene Disruption</subject>\\n            </subj-group>\\n          </subj-group>\\n        </subj-group>\\n        <subj-group subj-group-type=\"Discipline-v3\">\\n          <subject>Research and Analysis Methods</subject>\\n          <subj-group>\\n            <subject>Mathematical and Statistical Techniques</subject>\\n            <subj-group>\\n              <subject>Statistical Methods</subject>\\n              <subj-group>\\n                <subject>Metaanalysis</subject>\\n              </subj-group>\\n            </subj-group>\\n          </subj-group>\\n        </subj-group>\\n        <subj-group subj-group-type=\"Discipline-v3\">\\n          <subject>Physical Sciences</subject>\\n          <subj-group>\\n            <subject>Mathematics</subject>\\n            <subj-group>\\n              <subject>Statistics</subject>\\n              <subj-group>\\n                <subject>Statistical Methods</subject>\\n                <subj-group>\\n                  <subject>Metaanalysis</subject>\\n                </subj-group>\\n              </subj-group>\\n            </subj-group>\\n          </subj-group>\\n        </subj-group>\\n        <subj-group subj-group-type=\"Discipline-v3\">\\n          <subject>Biology and Life Sciences</subject>\\n          <subj-group>\\n            <subject>Cell Biology</subject>\\n            <subj-group>\\n              <subject>Signal Transduction</subject>\\n              <subj-group>\\n                <subject>Cell Signaling</subject>\\n                <subj-group>\\n                  <subject>Developmental Signaling</subject>\\n                </subj-group>\\n              </subj-group>\\n            </subj-group>\\n          </subj-group>\\n        </subj-group>\\n        <subj-group subj-group-type=\"Discipline-v3\">\\n          <subject>Engineering and Technology</subject>\\n          <subj-group>\\n            <subject>Signal Processing</subject>\\n          </subj-group>\\n        </subj-group>\\n        <subj-group subj-group-type=\"Discipline-v3\">\\n          <subject>Research and Analysis Methods</subject>\\n          <subj-group>\\n            <subject>Specimen Preparation and Treatment</subject>\\n            <subj-group>\\n              <subject>Mechanical Treatment of Specimens</subject>\\n              <subj-group>\\n                <subject>Specimen Disruption</subject>\\n              </subj-group>\\n            </subj-group>\\n          </subj-group>\\n        </subj-group>\\n      </article-categories>\\n      <title-group>\\n        <article-title>A meta-analysis of multiple matched aCGH/expression cancer datasets reveals regulatory relationships and pathway enrichment of potential oncogenes</article-title>\\n        <alt-title alt-title-type=\"running-head\">A meta-analysis reveals regulatory relationships and pathway enrichment of potential oncogenes</alt-title>\\n      </title-group>\\n      <contrib-group>\\n        <contrib contrib-type=\"author\" equal-contrib=\"yes\">\\n          <contrib-id authenticated=\"true\" contrib-id-type=\"orcid\">http://orcid.org/0000-0002-2782-1664</contrib-id>\\n          <name>\\n            <surname>Newton</surname>\\n            <given-names>Richard</given-names>\\n          </name>\\n          <role content-type=\"http://credit.casrai.org/\">Conceptualization</role>\\n          <role content-type=\"http://credit.casrai.org/\">Data curation</role>\\n          <role content-type=\"http://credit.casrai.org/\">Formal analysis</role>\\n          <role content-type=\"http://credit.casrai.org/\">Investigation</role>\\n          <role content-type=\"http://credit.casrai.org/\">Methodology</role>\\n          <role content-type=\"http://credit.casrai.org/\">Software</role>\\n          <role content-type=\"http://credit.casrai.org/\">Writing &#8211; original draft</role>\\n          <xref ref-type=\"aff\" rid=\"aff001\"/>\\n          <xref ref-type=\"corresp\" rid=\"cor001\">*</xref>\\n        </contrib>\\n        <contrib contrib-type=\"author\" equal-contrib=\"yes\">\\n          <name>\\n            <surname>Wernisch</surname>\\n            <given-names>Lorenz</given-names>\\n          </name>\\n          <role content-type=\"http://credit.casrai.org/\">Conceptualization</role>\\n          <role content-type=\"http://credit.casrai.org/\">Funding acquisition</role>\\n          <role content-type=\"http://credit.casrai.org/\">Investigation</role>\\n          <role content-type=\"http://credit.casrai.org/\">Methodology</role>\\n          <role content-type=\"http://credit.casrai.org/\">Project administration</role>\\n          <role content-type=\"http://credit.casrai.org/\">Supervision</role>\\n          <role content-type=\"http://credit.casrai.org/\">Writing &#8211; review &amp; editing</role>\\n          <xref ref-type=\"aff\" rid=\"aff001\"/>\\n        </contrib>\\n      </contrib-group>\\n      <aff id=\"aff001\">\\n<addr-line>MRC Biostatistics Unit, Cambridge University, Cambridge, United Kingdom</addr-line>\\n</aff>\\n      <contrib-group>\\n        <contrib contrib-type=\"editor\">\\n          <name>\\n            <surname>Hernandez-Lemus</surname>\\n            <given-names>Enrique</given-names>\\n          </name>\\n          <role>Editor</role>\\n          <xref ref-type=\"aff\" rid=\"edit1\"/>\\n        </contrib>\\n      </contrib-group>\\n      <aff id=\"edit1\">\\n<addr-line>Instituto Nacional de Medicina Genomica, MEXICO</addr-line>\\n</aff>\\n      <author-notes>\\n        <fn fn-type=\"COI-statement\" id=\"coi001\">\\n          <p><bold>Competing Interests: </bold>The authors have declared that no competing interests exist.</p>\\n        </fn>\\n        <corresp id=\"cor001\">* E-mail: <email>richardhnewton@gmail.com</email></corresp>\\n      </author-notes>\\n      <pub-date pub-type=\"collection\">\\n        <year>2019</year>\\n      </pub-date>\\n      <pub-date pub-type=\"epub\">\\n        <day>23</day>\\n        <month>7</month>\\n        <year>2019</year>\\n      </pub-date>\\n      <volume>14</volume>\\n      <issue>7</issue>\\n      <elocation-id>e0213221</elocation-id>\\n      <history>\\n        <date date-type=\"received\">\\n          <day>14</day>\\n          <month>2</month>\\n          <year>2019</year>\\n        </date>\\n        <date date-type=\"accepted\">\\n          <day>5</day>\\n          <month>7</month>\\n          <year>2019</year>\\n        </date>\\n      </history>\\n      <permissions>\\n        <copyright-statement>&#169; 2019 Newton, Wernisch</copyright-statement>\\n        <copyright-year>2019</copyright-year>\\n        <copyright-holder>Newton, Wernisch</copyright-holder>\\n        <license xlink:href=\"http://creativecommons.org/licenses/by/4.0/\">\\n          <license-p>This is an open access article distributed under the terms of the <ext-link ext-link-type=\"uri\" xlink:href=\"http://creativecommons.org/licenses/by/4.0/\">Creative Commons Attribution License</ext-link>, which permits unrestricted use, distribution, and reproduction in any medium, provided the original author and source are credited.</license-p>\\n        </license>\\n      </permissions>\\n      <self-uri content-type=\"pdf\" xlink:href=\"pone.0213221.pdf\"/>\\n      <abstract>\\n        <p>The copy numbers of genes in cancer samples are often highly disrupted and form a natural amplification/deletion experiment encompassing multiple genes. Matched array comparative genomics and transcriptomics datasets from such samples can be used to predict inter-chromosomal gene regulatory relationships. Previously we published the database METAMATCHED, comprising the results from such an analysis of a large number of publically available cancer datasets. Here we investigate genes in the database which are unusual in that their copy number exhibits consistent heterogeneous disruption in a high proportion of the cancer datasets. We assess the potential relevance of these genes to the pathology of the cancer samples, in light of their predicted regulatory relationships and enriched biological pathways. A network-based method was used to identify enriched pathways from the genes&#8217; inferred targets. The analysis predicts both known and new regulator-target interactions and pathway memberships. We examine examples in detail, in particular the gene <italic>POGZ</italic>, which is disrupted in many of the cancer datasets and has an unusually large number of predicted targets, from which the network analysis predicts membership of cancer related pathways. The results suggest close involvement in known cancer pathways of genes exhibiting consistent heterogeneous copy number disruption. Further experimental work would clarify their relevance to tumor biology. The results of the analysis presented in the database METAMATCHED, and included here as an R archive file, constitute a large number of predicted regulatory relationships and pathway memberships which we anticipate will be useful in informing such experiments.</p>\\n      </abstract>\\n      <funding-group>\\n        <award-group id=\"award001\">\\n          <funding-source>\\n            <institution-wrap>\\n              <institution-id institution-id-type=\"funder-id\">http://dx.doi.org/10.13039/501100000265</institution-id>\\n              <institution>Medical Research Council</institution>\\n            </institution-wrap>\\n          </funding-source>\\n          <award-id>U105260799</award-id>\\n          <principal-award-recipient>\\n            <name>\\n              <surname>Wernisch</surname>\\n              <given-names>Lorenz</given-names>\\n            </name>\\n          </principal-award-recipient>\\n        </award-group>\\n        <funding-statement>This study was funded by the UK Medical Research Council, Biostatistics Unit (<ext-link ext-link-type=\"uri\" xlink:href=\"http://www.mrc-bsu.cam.ac.uk/\">http://www.mrc-bsu.cam.ac.uk/</ext-link>), Unit Programme number U105260799. The funders had no role in study design, data collection and analysis, decision to publish, or preparation of the manuscript.</funding-statement>\\n      </funding-group>\\n      <counts>\\n        <fig-count count=\"6\"/>\\n        <table-count count=\"4\"/>\\n        <page-count count=\"28\"/>\\n      </counts>\\n      <custom-meta-group>\\n        <custom-meta id=\"data-availability\">\\n          <meta-name>Data Availability</meta-name>\\n          <meta-value>The multiple datasets used in this study were extracted from publicly accessible repositories which are tabulated in the paper. The authors confirm they had no special access or privileges that others would not have.</meta-value>\\n        </custom-meta>\\n      </custom-meta-group>\\n    </article-meta>\\n    <notes>\\n      <title>Data Availability</title>\\n      <p>The multiple datasets used in this study were extracted from publicly accessible repositories which are tabulated in the paper. The authors confirm they had no special access or privileges that others would not have.</p>\\n    </notes>\\n  </front>\\n  <body>\\n    <sec sec-type=\"intro\" id=\"sec001\">\\n      <title>Introduction</title>\\n      <p>Previously we have demonstrated that an analysis of matched array comparative genomics and transcriptomics human cancer datasets can reveal inter-chromosomal acting gene regulatory relationships [<xref rid=\"pone.0213221.ref001\" ref-type=\"bibr\">1</xref>&#8211;<xref rid=\"pone.0213221.ref003\" ref-type=\"bibr\">3</xref>]. By regulatory relationship we are refering to either a direct relationship, of a transcription factor on its target gene, or a very indirect one, through a pathway containing intermediate regulatory steps. We published the database METAMATCHED [<xref rid=\"pone.0213221.ref004\" ref-type=\"bibr\">4</xref>], comprising the results from such an analysis of a large number of publically available cancer datasets. Careful data randomisation ensures statistically significant predictions. Each dataset originated from samples of a particular type of cancer, and the datasets covered a wide range of cancer types.</p>\\n      <p>We noticed that there are genes in the database which have a highly variable copy number amongst samples <italic>within</italic> a dataset and this occurs consistently for these same genes <italic>across many of the datasets</italic> and different cancer types. In this paper we investigate these unusual genes. We investigate their target genes, predicted by the meta-analysis of publically available cancer datasets, the biological pathways enriched in their lists of target genes, and their relevance to the cancer pathology of the samples. Why genes which have a highly variable, inconsistent copy number disruption amongst samples <italic>within</italic> a cancer dataset may, perhaps counter-intuitively, be of relevance to the cancer pathology is examined later in this introduction. Firstly we discuss the background to the meta-analysis and the pathway enrichment analysis.</p>\\n      <p>Array comparative genomics (aCGH) microarrays detect gene deletions or gene amplifications (extra copies) by comparing gene copy numbers in the DNA extracted from test sample cells to the copy numbers in normal control cells. Transcriptomics experiments use microarrays that measure the abundance of mRNA. In matched experiments the two different types of measurement are performed on the same samples. Reviews of matched aCGH and transcriptomics experiments, their analysis and uses can be found in references [<xref rid=\"pone.0213221.ref005\" ref-type=\"bibr\">5</xref>] and [<xref rid=\"pone.0213221.ref006\" ref-type=\"bibr\">6</xref>].</p>\\n      <p>In cancer samples the copy numbers of genes are often greatly altered and are in effect of a natural gene amplification/deletion experiment encompassing many genes. In matched experiments, transcriptomics data is also available for the same samples, and information can be extracted on how changes in a gene&#8217;s copy number affects that gene&#8217;s expression. The analysis can however be extended further, using the measurements to investigate whether a change in a given gene&#8217;s copy number, with an associated change in expression, affects the expression of any of the other genes in the dataset, hence inferring regulatory relationships.</p>\\n      <p>Inference of regulatory relationships from these experiments is not without difficulties. Relationships are masked by the noise in the data and further confounded by the biological complexity of the system being studied. In particular, unlike conventional gene knockdown experiments, the copy number of many genes are being perturbed simultaneously. Coamplification or codeletion of genes situated in the same region of the genome can produce many spurious relationships and it is for this reason that we concentrate on inter-chromosomal acting regulatory relationships.</p>\\n      <p>We validated the hypothesis that useful regulatory information can be extracted from matched datasets, experimentally in Goh et al. [<xref rid=\"pone.0213221.ref001\" ref-type=\"bibr\">1</xref>] and computationally in Newton and Wernisch [<xref rid=\"pone.0213221.ref002\" ref-type=\"bibr\">2</xref>]. We then performed a meta-analysis of 31 publically available datasets [<xref rid=\"pone.0213221.ref003\" ref-type=\"bibr\">3</xref>]. These comprised matched experiments from a variety of different cancer types. Genes that have altered copy number in one cancer type may have altered copy number in other cancer types [<xref rid=\"pone.0213221.ref007\" ref-type=\"bibr\">7</xref>], so combining datasets should help reinforce any information within the data on regulator-target relationships. The results were made available in the METAMATCHED database [<xref rid=\"pone.0213221.ref004\" ref-type=\"bibr\">4</xref>]. For this paper we have extended the meta-analysis to 45 datasets. The 14 extra datasets contain 824 samples, taking the total number of samples in the meta-analysis to 3398 samples.</p>\\n      <p>The meta-analysis predicts target lists for regulatory genes. In this paper, to augment this information, we investigate the enrichment of biological pathways in the target lists. To this end, we used a network-based pathway enrichment approach. An enrichment analysis based on the network of a pathway, rather than simply the gene set of the pathway, takes into consideration the interactions between the genes in the pathway. We use PathwayCommons network databases [<xref rid=\"pone.0213221.ref008\" ref-type=\"bibr\">8</xref>] and the local enrichment analysis (LEAN) method of Gwinner et al. [<xref rid=\"pone.0213221.ref009\" ref-type=\"bibr\">9</xref>] for network analysis of target lists, and then assess the resulting output for biological pathway enrichment using a hypergeometric test. The results of the analysis are presented in the Metamatched database and are also included in this paper&#8217;s supplementary material as an R [<xref rid=\"pone.0213221.ref010\" ref-type=\"bibr\">10</xref>] archive file (<xref ref-type=\"supplementary-material\" rid=\"pone.0213221.s003\">S3 File</xref>).</p>\\n      <p>The aim of the pathway enrichment analysis is three-fold. Firstly, statistically significance enrichments can help to validate the predictions of regulatory relationships generated by the meta-analysis of the matched datasets. Secondly, the enrichment of a regulatory gene&#8217;s predicted target gene list in a particular pathway can be used to augment current knowledge of that pathway. Thirdly, the enrichment analysis can be used to investigate the participation of the regulators in pathways implicated in cancers, which is the main focus of this paper.</p>\\n      <p>We are using cancer samples to predict regulatory relationships because they can be seen as a natural gene amplification/deletion experiment. That the disruptions are outside our control does mean however that inference about regulatory relationships will only be possible for certain genes. Those genes with high variation in their copy number amongst the samples <italic>within</italic> a dataset will show the highest self aCGH/expression correlation, provided of course that there is a concomitant change in expression. Conversely, if a gene is not amplified or deleted in any sample in a dataset, or if it is amplified or deleted by a similar amount in all the samples, then little or no self aCGH/expression correlation will be detected and the analysis will be unable to reveal any regulatory relationships for the gene. This means that any oncogenes which are consistently amplified or deleted in cancer samples are unlikely to feature in the results.</p>\\n      <p>We find that there are a number of genes which have a highly variable copy number amongst samples <italic>within</italic> a dataset and this occurs consistently <italic>across many of the datasets</italic> and a very wide variety of different cancer types. There are 47 genes which have significant self aCGH/expression correlation (and predicted targets) in twenty or more datasets. In this paper we assess the potential relevance to the pathology of the cancer samples of genes exhibiting this unusual, consistent heterogeneous copy number disruption in light of their predicted regulatory relationships and enriched biological pathways. A prominent example of such a gene, that also has an unusually large number of target genes predicted by the meta-analysis, is <italic>POGZ</italic> (Pogo Transposable Element Derived With ZNF Domain) and we examine in detail some of the novel pathway involvements predicted for this interesting gene.</p>\\n      <p>It may appear counter-intuitive that genes whose copy number disruption varies greatly between the different cancer samples within a dataset could be relevant to tumor biology. It would suggest that these genes are located in genomic regions which are prone to disruption in cancer cells, but this disruption occurs only sporadically amongst samples. And this inconsistency would suggest that the disruption of these regulators would have little relevance to the actual cancer pathology. It is known however that few genes are altered in more than 10% of tumors for any type of cancer [<xref rid=\"pone.0213221.ref011\" ref-type=\"bibr\">11</xref>] and there is a complex interplay of alterations within pathways in cancers [<xref rid=\"pone.0213221.ref012\" ref-type=\"bibr\">12</xref>]. So it is possible that disruption of several different gene members of a particular pathway, in an inconsistent manner across the various cancer samples in a dataset could result in that pathway being consistently disrupted in all the samples of that cancer type.</p>\\n      <p>Alternatively, these genes may occur in genomic regions which are disrupted, not sporadically, but consistently in the later stages of tumor development. In general the samples within a dataset will come from tumors at different stages of the disease, so the disruption to these particular genes may reflect changes that take place during the course of tumor development. These points are examined further in the Discussion section.</p>\\n      <p>The aim of the work described in this paper was two-fold. Firstly, to augment the information held in the Metamatched database with a comprehensive pathway enrichment analysis. This has added predictions of pathway memberships, as well as predictions of regulatory relationships to the database, and we give examples of the usefulness of these predictions in the following. Secondly, the aim was to explore the relevance of the information in the database to cancer, concentrating on particular prominent regulators highlighted by the meta-analysis. We present arguments as to why these genes could play a role in tumor biology, which appears to be supported by the pathway enrichment results.</p>\\n    </sec>\\n    <sec sec-type=\"materials|methods\" id=\"sec002\">\\n      <title>Materials and methods</title>\\n      <p>In this section we first give a brief summary of the previously published meta-analysis method we use to predict gene regulatory relationships. We then describe the network-based pathway enrichment approach we use in this paper to analyse the results from the meta-analysis. <xref ref-type=\"fig\" rid=\"pone.0213221.g001\">Fig 1</xref> is a flow chart illustrating all the steps involved in the analysis from array data through to enriched pathways.</p>\\n      <fig id=\"pone.0213221.g001\" orientation=\"portrait\" position=\"float\">\\n        <object-id pub-id-type=\"doi\">10.1371/journal.pone.0213221.g001</object-id>\\n        <label>Fig 1</label>\\n        <caption>\\n          <title>Schematic diagram showing the steps involved in the analysis.</title>\\n        </caption>\\n        <graphic xlink:href=\"pone.0213221.g001\"/>\\n      </fig>\\n      <sec id=\"sec003\">\\n        <title>Prediction of regulatory relationships</title>\\n        <p>We infer inter-chromosomal acting gene regulatory relationships from a meta-analysis of 45 matched aCGH/transcriptomics datasets, which are listed in <xref rid=\"pone.0213221.t001\" ref-type=\"table\">Table 1</xref>. We use a method based on correlations, a robust approach for analysing relationships amongst large amounts of data of unknown complexities. More sophisticated network inference methods are generally more likely to be susceptible to noise and heterogeneity between datasets. A major advantage of our method is that it avoids the risk of confounding that can occur when expression data alone is used in the analysis. Careful data randomisation to generate a null distribution is used to ensure statistically significant predictions. Full details of the algorithm can be found in references [<xref rid=\"pone.0213221.ref003\" ref-type=\"bibr\">3</xref>], [<xref rid=\"pone.0213221.ref002\" ref-type=\"bibr\">2</xref>] and in [<xref rid=\"pone.0213221.ref001\" ref-type=\"bibr\">1</xref>], where the code, written in the R statistical environment [<xref rid=\"pone.0213221.ref010\" ref-type=\"bibr\">10</xref>], can also be found. The details are also provided in supplementary information <xref ref-type=\"supplementary-material\" rid=\"pone.0213221.s001\">S1 File</xref>.</p>\\n        <table-wrap id=\"pone.0213221.t001\" orientation=\"portrait\" position=\"float\">\\n          <object-id pub-id-type=\"doi\">10.1371/journal.pone.0213221.t001</object-id>\\n          <label>Table 1</label>\\n          <caption>\\n            <title>Details of the 45 datasets used in the meta-analysis, the original 31 followed by the 14 new datasets.</title>\\n          </caption>\\n          <alternatives>\\n            <graphic id=\"pone.0213221.t001g\" xlink:href=\"pone.0213221.t001\"/>\\n            <table frame=\"box\" rules=\"all\" border=\"0\">\\n              <colgroup span=\"1\">\\n                <col align=\"left\" valign=\"middle\" span=\"1\"/>\\n                <col align=\"left\" valign=\"middle\" span=\"1\"/>\\n                <col align=\"left\" valign=\"middle\" span=\"1\"/>\\n                <col align=\"left\" valign=\"middle\" span=\"1\"/>\\n                <col align=\"left\" valign=\"middle\" span=\"1\"/>\\n                <col align=\"left\" valign=\"middle\" span=\"1\"/>\\n              </colgroup>\\n              <thead>\\n                <tr>\\n                  <th align=\"left\" style=\"border-bottom:thick\" rowspan=\"1\" colspan=\"1\">Code</th>\\n                  <th align=\"left\" style=\"border-bottom:thick\" rowspan=\"1\" colspan=\"1\">GEO</th>\\n                  <th align=\"left\" style=\"border-bottom:thick\" rowspan=\"1\" colspan=\"1\">Publication</th>\\n                  <th align=\"left\" style=\"border-bottom:thick\" rowspan=\"1\" colspan=\"1\">N</th>\\n                  <th align=\"left\" style=\"border-bottom:thick\" rowspan=\"1\" colspan=\"1\">P</th>\\n                  <th align=\"left\" style=\"border-bottom:thick\" rowspan=\"1\" colspan=\"1\">Pathology</th>\\n                </tr>\\n              </thead>\\n              <tbody>\\n                <tr>\\n                  <td align=\"left\" rowspan=\"1\" colspan=\"1\">parr</td>\\n                  <td align=\"left\" rowspan=\"1\" colspan=\"1\">GSE20486</td>\\n                  <td align=\"left\" rowspan=\"1\" colspan=\"1\">[<xref rid=\"pone.0213221.ref013\" ref-type=\"bibr\">13</xref>]</td>\\n                  <td align=\"left\" rowspan=\"1\" colspan=\"1\">97</td>\\n                  <td align=\"left\" rowspan=\"1\" colspan=\"1\">18616</td>\\n                  <td align=\"left\" rowspan=\"1\" colspan=\"1\">Breast Cancer (Diploid)</td>\\n                </tr>\\n                <tr>\\n                  <td align=\"left\" rowspan=\"1\" colspan=\"1\">crow</td>\\n                  <td align=\"left\" rowspan=\"1\" colspan=\"1\">GSE15134</td>\\n                  <td align=\"left\" rowspan=\"1\" colspan=\"1\">[<xref rid=\"pone.0213221.ref014\" ref-type=\"bibr\">14</xref>]</td>\\n                  <td align=\"left\" rowspan=\"1\" colspan=\"1\">31</td>\\n                  <td align=\"left\" rowspan=\"1\" colspan=\"1\">16153</td>\\n                  <td align=\"left\" rowspan=\"1\" colspan=\"1\">Breast Cancer (ER+)</td>\\n                </tr>\\n                <tr>\\n                  <td align=\"left\" rowspan=\"1\" colspan=\"1\">sirc</td>\\n                  <td align=\"left\" rowspan=\"1\" colspan=\"1\">GSE17907</td>\\n                  <td align=\"left\" rowspan=\"1\" colspan=\"1\">[<xref rid=\"pone.0213221.ref015\" ref-type=\"bibr\">15</xref>]</td>\\n                  <td align=\"left\" rowspan=\"1\" colspan=\"1\">51</td>\\n                  <td align=\"left\" rowspan=\"1\" colspan=\"1\">14689</td>\\n                  <td align=\"left\" rowspan=\"1\" colspan=\"1\">Breast Cancer (ERBB2 amplified)</td>\\n                </tr>\\n                <tr>\\n                  <td align=\"left\" rowspan=\"1\" colspan=\"1\">myll</td>\\n                  <td align=\"left\" rowspan=\"1\" colspan=\"1\">\\n                    <xref ref-type=\"table-fn\" rid=\"t001fn002\">*</xref>\\n                  </td>\\n                  <td align=\"left\" rowspan=\"1\" colspan=\"1\">[<xref rid=\"pone.0213221.ref016\" ref-type=\"bibr\">16</xref>]</td>\\n                  <td align=\"left\" rowspan=\"1\" colspan=\"1\">46</td>\\n                  <td align=\"left\" rowspan=\"1\" colspan=\"1\">17050</td>\\n                  <td align=\"left\" rowspan=\"1\" colspan=\"1\">Gastric Cancer</td>\\n                </tr>\\n                <tr>\\n                  <td align=\"left\" rowspan=\"1\" colspan=\"1\">junn</td>\\n                  <td align=\"left\" rowspan=\"1\" colspan=\"1\">\\n                    <xref ref-type=\"table-fn\" rid=\"t001fn002\">*</xref>\\n                  </td>\\n                  <td align=\"left\" rowspan=\"1\" colspan=\"1\">[<xref rid=\"pone.0213221.ref017\" ref-type=\"bibr\">17</xref>]</td>\\n                  <td align=\"left\" rowspan=\"1\" colspan=\"1\">10</td>\\n                  <td align=\"left\" rowspan=\"1\" colspan=\"1\">16844</td>\\n                  <td align=\"left\" rowspan=\"1\" colspan=\"1\">Gastric Cancer</td>\\n                </tr>\\n                <tr>\\n                  <td align=\"left\" rowspan=\"1\" colspan=\"1\">ch.w</td>\\n                  <td align=\"left\" rowspan=\"1\" colspan=\"1\">\\n                    <xref ref-type=\"table-fn\" rid=\"t001fn003\">&#8224;</xref>\\n                  </td>\\n                  <td align=\"left\" rowspan=\"1\" colspan=\"1\">[<xref rid=\"pone.0213221.ref018\" ref-type=\"bibr\">18</xref>]</td>\\n                  <td align=\"left\" rowspan=\"1\" colspan=\"1\">91</td>\\n                  <td align=\"left\" rowspan=\"1\" colspan=\"1\">10285</td>\\n                  <td align=\"left\" rowspan=\"1\" colspan=\"1\">Lung adenocarcinoma</td>\\n                </tr>\\n                <tr>\\n                  <td align=\"left\" rowspan=\"1\" colspan=\"1\">ch.s</td>\\n                  <td align=\"left\" rowspan=\"1\" colspan=\"1\">\\n                    <xref ref-type=\"table-fn\" rid=\"t001fn003\">&#8224;</xref>\\n                  </td>\\n                  <td align=\"left\" rowspan=\"1\" colspan=\"1\">[<xref rid=\"pone.0213221.ref018\" ref-type=\"bibr\">18</xref>]</td>\\n                  <td align=\"left\" rowspan=\"1\" colspan=\"1\">94</td>\\n                  <td align=\"left\" rowspan=\"1\" colspan=\"1\">10285</td>\\n                  <td align=\"left\" rowspan=\"1\" colspan=\"1\">Lung adenocarcinoma</td>\\n                </tr>\\n                <tr>\\n                  <td align=\"left\" rowspan=\"1\" colspan=\"1\">hoac</td>\\n                  <td align=\"left\" rowspan=\"1\" colspan=\"1\">GSE20154</td>\\n                  <td align=\"left\" rowspan=\"1\" colspan=\"1\">[<xref rid=\"pone.0213221.ref019\" ref-type=\"bibr\">19</xref>]</td>\\n                  <td align=\"left\" rowspan=\"1\" colspan=\"1\">54</td>\\n                  <td align=\"left\" rowspan=\"1\" colspan=\"1\">14388</td>\\n                  <td align=\"left\" rowspan=\"1\" colspan=\"1\">Oesophageal adenocarcinoma</td>\\n                </tr>\\n                <tr>\\n                  <td align=\"left\" rowspan=\"1\" colspan=\"1\">zho</td>\\n                  <td align=\"left\" rowspan=\"1\" colspan=\"1\">GSE29023</td>\\n                  <td align=\"left\" rowspan=\"1\" colspan=\"1\">[<xref rid=\"pone.0213221.ref020\" ref-type=\"bibr\">20</xref>]</td>\\n                  <td align=\"left\" rowspan=\"1\" colspan=\"1\">115</td>\\n                  <td align=\"left\" rowspan=\"1\" colspan=\"1\">13697</td>\\n                  <td align=\"left\" rowspan=\"1\" colspan=\"1\">Multiple Myeloma</td>\\n                </tr>\\n                <tr>\\n                  <td align=\"left\" rowspan=\"1\" colspan=\"1\">shai</td>\\n                  <td align=\"left\" rowspan=\"1\" colspan=\"1\">GSE26089</td>\\n                  <td align=\"left\" rowspan=\"1\" colspan=\"1\">[<xref rid=\"pone.0213221.ref021\" ref-type=\"bibr\">21</xref>]</td>\\n                  <td align=\"left\" rowspan=\"1\" colspan=\"1\">68</td>\\n                  <td align=\"left\" rowspan=\"1\" colspan=\"1\">14201</td>\\n                  <td align=\"left\" rowspan=\"1\" colspan=\"1\">Pancreatic Cancer</td>\\n                </tr>\\n                <tr>\\n                  <td align=\"left\" rowspan=\"1\" colspan=\"1\">vain</td>\\n                  <td align=\"left\" rowspan=\"1\" colspan=\"1\">GSE28403</td>\\n                  <td align=\"left\" rowspan=\"1\" colspan=\"1\">[<xref rid=\"pone.0213221.ref022\" ref-type=\"bibr\">22</xref>]</td>\\n                  <td align=\"left\" rowspan=\"1\" colspan=\"1\">13</td>\\n                  <td align=\"left\" rowspan=\"1\" colspan=\"1\">10107</td>\\n                  <td align=\"left\" rowspan=\"1\" colspan=\"1\">Prostate Cancer</td>\\n                </tr>\\n                <tr>\\n                  <td align=\"left\" rowspan=\"1\" colspan=\"1\">bott</td>\\n                  <td align=\"left\" rowspan=\"1\" colspan=\"1\">GSE29211</td>\\n                  <td align=\"left\" rowspan=\"1\" colspan=\"1\">[<xref rid=\"pone.0213221.ref023\" ref-type=\"bibr\">23</xref>]</td>\\n                  <td align=\"left\" rowspan=\"1\" colspan=\"1\">53</td>\\n                  <td align=\"left\" rowspan=\"1\" colspan=\"1\">10321</td>\\n                  <td align=\"left\" rowspan=\"1\" colspan=\"1\">Pleural Mesothelioma</td>\\n                </tr>\\n                <tr>\\n                  <td align=\"left\" rowspan=\"1\" colspan=\"1\">bekh</td>\\n                  <td align=\"left\" rowspan=\"1\" colspan=\"1\">GSE23720</td>\\n                  <td align=\"left\" rowspan=\"1\" colspan=\"1\">[<xref rid=\"pone.0213221.ref024\" ref-type=\"bibr\">24</xref>]</td>\\n                  <td align=\"left\" rowspan=\"1\" colspan=\"1\">173</td>\\n                  <td align=\"left\" rowspan=\"1\" colspan=\"1\">13682</td>\\n                  <td align=\"left\" rowspan=\"1\" colspan=\"1\">Breast Cancer (Inflammatory)</td>\\n                </tr>\\n                <tr>\\n                  <td align=\"left\" rowspan=\"1\" colspan=\"1\">chap</td>\\n                  <td align=\"left\" rowspan=\"1\" colspan=\"1\">GSE26863</td>\\n                  <td align=\"left\" rowspan=\"1\" colspan=\"1\">[<xref rid=\"pone.0213221.ref025\" ref-type=\"bibr\">25</xref>]</td>\\n                  <td align=\"left\" rowspan=\"1\" colspan=\"1\">245</td>\\n                  <td align=\"left\" rowspan=\"1\" colspan=\"1\">13667</td>\\n                  <td align=\"left\" rowspan=\"1\" colspan=\"1\">Multiple Myeloma</td>\\n                </tr>\\n                <tr>\\n                  <td align=\"left\" rowspan=\"1\" colspan=\"1\">ooi</td>\\n                  <td align=\"left\" rowspan=\"1\" colspan=\"1\">GSE22785</td>\\n                  <td align=\"left\" rowspan=\"1\" colspan=\"1\">[<xref rid=\"pone.0213221.ref026\" ref-type=\"bibr\">26</xref>]</td>\\n                  <td align=\"left\" rowspan=\"1\" colspan=\"1\">14</td>\\n                  <td align=\"left\" rowspan=\"1\" colspan=\"1\">10091</td>\\n                  <td align=\"left\" rowspan=\"1\" colspan=\"1\">Neuroblastoma</td>\\n                </tr>\\n                <tr>\\n                  <td align=\"left\" rowspan=\"1\" colspan=\"1\">brag</td>\\n                  <td align=\"left\" rowspan=\"1\" colspan=\"1\">GSE12668</td>\\n                  <td align=\"left\" rowspan=\"1\" colspan=\"1\">[<xref rid=\"pone.0213221.ref027\" ref-type=\"bibr\">27</xref>]</td>\\n                  <td align=\"left\" rowspan=\"1\" colspan=\"1\">11</td>\\n                  <td align=\"left\" rowspan=\"1\" colspan=\"1\">10310</td>\\n                  <td align=\"left\" rowspan=\"1\" colspan=\"1\">Waldenstr&#246;m&#8217;s Macroglobulinemia</td>\\n                </tr>\\n                <tr>\\n                  <td align=\"left\" rowspan=\"1\" colspan=\"1\">jons</td>\\n                  <td align=\"left\" rowspan=\"1\" colspan=\"1\">GSE22133</td>\\n                  <td align=\"left\" rowspan=\"1\" colspan=\"1\">[<xref rid=\"pone.0213221.ref028\" ref-type=\"bibr\">28</xref>]</td>\\n                  <td align=\"left\" rowspan=\"1\" colspan=\"1\">356</td>\\n                  <td align=\"left\" rowspan=\"1\" colspan=\"1\">4183</td>\\n                  <td align=\"left\" rowspan=\"1\" colspan=\"1\">Breast Cancer</td>\\n                </tr>\\n                <tr>\\n                  <td align=\"left\" rowspan=\"1\" colspan=\"1\">mura</td>\\n                  <td align=\"left\" rowspan=\"1\" colspan=\"1\">GSE24707</td>\\n                  <td align=\"left\" rowspan=\"1\" colspan=\"1\">[<xref rid=\"pone.0213221.ref029\" ref-type=\"bibr\">29</xref>]</td>\\n                  <td align=\"left\" rowspan=\"1\" colspan=\"1\">47</td>\\n                  <td align=\"left\" rowspan=\"1\" colspan=\"1\">4472</td>\\n                  <td align=\"left\" rowspan=\"1\" colspan=\"1\">Breast Cancer</td>\\n                </tr>\\n                <tr>\\n                  <td align=\"left\" rowspan=\"1\" colspan=\"1\">lin1</td>\\n                  <td align=\"left\" rowspan=\"1\" colspan=\"1\">GSE19915</td>\\n                  <td align=\"left\" rowspan=\"1\" colspan=\"1\">[<xref rid=\"pone.0213221.ref030\" ref-type=\"bibr\">30</xref>]</td>\\n                  <td align=\"left\" rowspan=\"1\" colspan=\"1\">72</td>\\n                  <td align=\"left\" rowspan=\"1\" colspan=\"1\">4965</td>\\n                  <td align=\"left\" rowspan=\"1\" colspan=\"1\">Urothelial Carcinoma</td>\\n                </tr>\\n                <tr>\\n                  <td align=\"left\" rowspan=\"1\" colspan=\"1\">beck</td>\\n                  <td align=\"left\" rowspan=\"1\" colspan=\"1\">GSE17555</td>\\n                  <td align=\"left\" rowspan=\"1\" colspan=\"1\">[<xref rid=\"pone.0213221.ref031\" ref-type=\"bibr\">31</xref>]</td>\\n                  <td align=\"left\" rowspan=\"1\" colspan=\"1\">18</td>\\n                  <td align=\"left\" rowspan=\"1\" colspan=\"1\">12174</td>\\n                  <td align=\"left\" rowspan=\"1\" colspan=\"1\">Leiomyosarcoma</td>\\n                </tr>\\n                <tr>\\n                  <td align=\"left\" rowspan=\"1\" colspan=\"1\">toed</td>\\n                  <td align=\"left\" rowspan=\"1\" colspan=\"1\">GSE18166</td>\\n                  <td align=\"left\" rowspan=\"1\" colspan=\"1\">[<xref rid=\"pone.0213221.ref032\" ref-type=\"bibr\">32</xref>]</td>\\n                  <td align=\"left\" rowspan=\"1\" colspan=\"1\">74</td>\\n                  <td align=\"left\" rowspan=\"1\" colspan=\"1\">4289</td>\\n                  <td align=\"left\" rowspan=\"1\" colspan=\"1\">Astrocytic Gliomas</td>\\n                </tr>\\n                <tr>\\n                  <td align=\"left\" rowspan=\"1\" colspan=\"1\">ell</td>\\n                  <td align=\"left\" rowspan=\"1\" colspan=\"1\">GSE35191</td>\\n                  <td align=\"left\" rowspan=\"1\" colspan=\"1\">[<xref rid=\"pone.0213221.ref033\" ref-type=\"bibr\">33</xref>]</td>\\n                  <td align=\"left\" rowspan=\"1\" colspan=\"1\">124</td>\\n                  <td align=\"left\" rowspan=\"1\" colspan=\"1\">13569</td>\\n                  <td align=\"left\" rowspan=\"1\" colspan=\"1\">Breast Cancer</td>\\n                </tr>\\n                <tr>\\n                  <td align=\"left\" rowspan=\"1\" colspan=\"1\">gra.1</td>\\n                  <td align=\"left\" rowspan=\"1\" colspan=\"1\">GSE35988</td>\\n                  <td align=\"left\" rowspan=\"1\" colspan=\"1\">[<xref rid=\"pone.0213221.ref034\" ref-type=\"bibr\">34</xref>]</td>\\n                  <td align=\"left\" rowspan=\"1\" colspan=\"1\">85</td>\\n                  <td align=\"left\" rowspan=\"1\" colspan=\"1\">12849</td>\\n                  <td align=\"left\" rowspan=\"1\" colspan=\"1\">Prostate Cancer</td>\\n                </tr>\\n                <tr>\\n                  <td align=\"left\" rowspan=\"1\" colspan=\"1\">gra.2</td>\\n                  <td align=\"left\" rowspan=\"1\" colspan=\"1\">GSE35988</td>\\n                  <td align=\"left\" rowspan=\"1\" colspan=\"1\">[<xref rid=\"pone.0213221.ref034\" ref-type=\"bibr\">34</xref>]</td>\\n                  <td align=\"left\" rowspan=\"1\" colspan=\"1\">34</td>\\n                  <td align=\"left\" rowspan=\"1\" colspan=\"1\">12813</td>\\n                  <td align=\"left\" rowspan=\"1\" colspan=\"1\">Prostate Cancer</td>\\n                </tr>\\n                <tr>\\n                  <td align=\"left\" rowspan=\"1\" colspan=\"1\">lenz</td>\\n                  <td align=\"left\" rowspan=\"1\" colspan=\"1\">GSE11318</td>\\n                  <td align=\"left\" rowspan=\"1\" colspan=\"1\">[<xref rid=\"pone.0213221.ref035\" ref-type=\"bibr\">35</xref>]</td>\\n                  <td align=\"left\" rowspan=\"1\" colspan=\"1\">203</td>\\n                  <td align=\"left\" rowspan=\"1\" colspan=\"1\">15212</td>\\n                  <td align=\"left\" rowspan=\"1\" colspan=\"1\">Lymphoma</td>\\n                </tr>\\n                <tr>\\n                  <td align=\"left\" rowspan=\"1\" colspan=\"1\">lin2</td>\\n                  <td align=\"left\" rowspan=\"1\" colspan=\"1\">GSE32549</td>\\n                  <td align=\"left\" rowspan=\"1\" colspan=\"1\">[<xref rid=\"pone.0213221.ref036\" ref-type=\"bibr\">36</xref>]</td>\\n                  <td align=\"left\" rowspan=\"1\" colspan=\"1\">131</td>\\n                  <td align=\"left\" rowspan=\"1\" colspan=\"1\">8450</td>\\n                  <td align=\"left\" rowspan=\"1\" colspan=\"1\">Urothelial Carcinoma</td>\\n                </tr>\\n                <tr>\\n                  <td align=\"left\" rowspan=\"1\" colspan=\"1\">micc</td>\\n                  <td align=\"left\" rowspan=\"1\" colspan=\"1\">GSE38230</td>\\n                  <td align=\"left\" rowspan=\"1\" colspan=\"1\">[<xref rid=\"pone.0213221.ref037\" ref-type=\"bibr\">37</xref>]</td>\\n                  <td align=\"left\" rowspan=\"1\" colspan=\"1\">12</td>\\n                  <td align=\"left\" rowspan=\"1\" colspan=\"1\">16657</td>\\n                  <td align=\"left\" rowspan=\"1\" colspan=\"1\">Vulva Squamous Cell Carcinoma</td>\\n                </tr>\\n                <tr>\\n                  <td align=\"left\" rowspan=\"1\" colspan=\"1\">tayl</td>\\n                  <td align=\"left\" rowspan=\"1\" colspan=\"1\">GSE21032</td>\\n                  <td align=\"left\" rowspan=\"1\" colspan=\"1\">[<xref rid=\"pone.0213221.ref038\" ref-type=\"bibr\">38</xref>]</td>\\n                  <td align=\"left\" rowspan=\"1\" colspan=\"1\">155</td>\\n                  <td align=\"left\" rowspan=\"1\" colspan=\"1\">14572</td>\\n                  <td align=\"left\" rowspan=\"1\" colspan=\"1\">Prostate Cancer</td>\\n                </tr>\\n                <tr>\\n                  <td align=\"left\" rowspan=\"1\" colspan=\"1\">coco</td>\\n                  <td align=\"left\" rowspan=\"1\" colspan=\"1\">GSE25711 <xref ref-type=\"table-fn\" rid=\"t001fn004\">&#8225;</xref></td>\\n                  <td align=\"left\" rowspan=\"1\" colspan=\"1\">[<xref rid=\"pone.0213221.ref039\" ref-type=\"bibr\">39</xref>]</td>\\n                  <td align=\"left\" rowspan=\"1\" colspan=\"1\">36</td>\\n                  <td align=\"left\" rowspan=\"1\" colspan=\"1\">4394</td>\\n                  <td align=\"left\" rowspan=\"1\" colspan=\"1\">Neuroblastoma</td>\\n                </tr>\\n                <tr>\\n                  <td align=\"left\" rowspan=\"1\" colspan=\"1\">med</td>\\n                  <td align=\"left\" rowspan=\"1\" colspan=\"1\">GSE14079</td>\\n                  <td align=\"left\" rowspan=\"1\" colspan=\"1\">[<xref rid=\"pone.0213221.ref040\" ref-type=\"bibr\">40</xref>]</td>\\n                  <td align=\"left\" rowspan=\"1\" colspan=\"1\">8</td>\\n                  <td align=\"left\" rowspan=\"1\" colspan=\"1\">6376</td>\\n                  <td align=\"left\" rowspan=\"1\" colspan=\"1\">Lung Cancer</td>\\n                </tr>\\n                <tr>\\n                  <td align=\"left\" rowspan=\"1\" colspan=\"1\">przy</td>\\n                  <td align=\"left\" rowspan=\"1\" colspan=\"1\">GSE54188</td>\\n                  <td align=\"left\" rowspan=\"1\" colspan=\"1\">[<xref rid=\"pone.0213221.ref041\" ref-type=\"bibr\">41</xref>]</td>\\n                  <td align=\"left\" rowspan=\"1\" colspan=\"1\">53</td>\\n                  <td align=\"left\" rowspan=\"1\" colspan=\"1\">17032</td>\\n                  <td align=\"left\" rowspan=\"1\" colspan=\"1\">Synovial Sarcoma</td>\\n                </tr>\\n                <tr>\\n                  <td align=\"left\" rowspan=\"1\" colspan=\"1\">huang</td>\\n                  <td align=\"left\" rowspan=\"1\" colspan=\"1\">GSE30311</td>\\n                  <td align=\"left\" rowspan=\"1\" colspan=\"1\">[<xref rid=\"pone.0213221.ref042\" ref-type=\"bibr\">42</xref>]</td>\\n                  <td align=\"left\" rowspan=\"1\" colspan=\"1\">98</td>\\n                  <td align=\"left\" rowspan=\"1\" colspan=\"1\">14927</td>\\n                  <td align=\"left\" rowspan=\"1\" colspan=\"1\">Ovarian Cancer</td>\\n                </tr>\\n                <tr>\\n                  <td align=\"left\" rowspan=\"1\" colspan=\"1\">lira</td>\\n                  <td align=\"left\" rowspan=\"1\" colspan=\"1\">GSE34211</td>\\n                  <td align=\"left\" rowspan=\"1\" colspan=\"1\">[<xref rid=\"pone.0213221.ref043\" ref-type=\"bibr\">43</xref>]</td>\\n                  <td align=\"left\" rowspan=\"1\" colspan=\"1\">89</td>\\n                  <td align=\"left\" rowspan=\"1\" colspan=\"1\">14907</td>\\n                  <td align=\"left\" rowspan=\"1\" colspan=\"1\">Cancer Cell lines</td>\\n                </tr>\\n                <tr>\\n                  <td align=\"left\" rowspan=\"1\" colspan=\"1\">chpy.1</td>\\n                  <td align=\"left\" rowspan=\"1\" colspan=\"1\">GSE34171</td>\\n                  <td align=\"left\" rowspan=\"1\" colspan=\"1\">[<xref rid=\"pone.0213221.ref044\" ref-type=\"bibr\">44</xref>]</td>\\n                  <td align=\"left\" rowspan=\"1\" colspan=\"1\">87</td>\\n                  <td align=\"left\" rowspan=\"1\" colspan=\"1\">14907</td>\\n                  <td align=\"left\" rowspan=\"1\" colspan=\"1\">Diffuse Large B-cell Lymphoma</td>\\n                </tr>\\n                <tr>\\n                  <td align=\"left\" rowspan=\"1\" colspan=\"1\">chpy.2</td>\\n                  <td align=\"left\" rowspan=\"1\" colspan=\"1\">GSE34171</td>\\n                  <td align=\"left\" rowspan=\"1\" colspan=\"1\">[<xref rid=\"pone.0213221.ref044\" ref-type=\"bibr\">44</xref>]</td>\\n                  <td align=\"left\" rowspan=\"1\" colspan=\"1\">78</td>\\n                  <td align=\"left\" rowspan=\"1\" colspan=\"1\">10437</td>\\n                  <td align=\"left\" rowspan=\"1\" colspan=\"1\">Diffuse Large B-cell Lymphoma</td>\\n                </tr>\\n                <tr>\\n                  <td align=\"left\" rowspan=\"1\" colspan=\"1\">ross</td>\\n                  <td align=\"left\" rowspan=\"1\" colspan=\"1\">GSE70770</td>\\n                  <td align=\"left\" rowspan=\"1\" colspan=\"1\">[<xref rid=\"pone.0213221.ref045\" ref-type=\"bibr\">45</xref>]</td>\\n                  <td align=\"left\" rowspan=\"1\" colspan=\"1\">78</td>\\n                  <td align=\"left\" rowspan=\"1\" colspan=\"1\">15150</td>\\n                  <td align=\"left\" rowspan=\"1\" colspan=\"1\">Prostate Cancer</td>\\n                </tr>\\n                <tr>\\n                  <td align=\"left\" rowspan=\"1\" colspan=\"1\">ochs</td>\\n                  <td align=\"left\" rowspan=\"1\" colspan=\"1\">GSE33232</td>\\n                  <td align=\"left\" rowspan=\"1\" colspan=\"1\"/>\\n                  <td align=\"left\" rowspan=\"1\" colspan=\"1\">69</td>\\n                  <td align=\"left\" rowspan=\"1\" colspan=\"1\">14489</td>\\n                  <td align=\"left\" rowspan=\"1\" colspan=\"1\">Head and Neck Squamous Cell Carcinoma</td>\\n                </tr>\\n                <tr>\\n                  <td align=\"left\" rowspan=\"1\" colspan=\"1\">rama</td>\\n                  <td align=\"left\" rowspan=\"1\" colspan=\"1\">GSE19539</td>\\n                  <td align=\"left\" rowspan=\"1\" colspan=\"1\">[<xref rid=\"pone.0213221.ref046\" ref-type=\"bibr\">46</xref>]</td>\\n                  <td align=\"left\" rowspan=\"1\" colspan=\"1\">67</td>\\n                  <td align=\"left\" rowspan=\"1\" colspan=\"1\">14972</td>\\n                  <td align=\"left\" rowspan=\"1\" colspan=\"1\">Ovarian Cancer</td>\\n                </tr>\\n                <tr>\\n                  <td align=\"left\" rowspan=\"1\" colspan=\"1\">guar</td>\\n                  <td align=\"left\" rowspan=\"1\" colspan=\"1\">GSE66399</td>\\n                  <td align=\"left\" rowspan=\"1\" colspan=\"1\">[<xref rid=\"pone.0213221.ref047\" ref-type=\"bibr\">47</xref>]</td>\\n                  <td align=\"left\" rowspan=\"1\" colspan=\"1\">65</td>\\n                  <td align=\"left\" rowspan=\"1\" colspan=\"1\">14833</td>\\n                  <td align=\"left\" rowspan=\"1\" colspan=\"1\">Breast Cancer</td>\\n                </tr>\\n                <tr>\\n                  <td align=\"left\" rowspan=\"1\" colspan=\"1\">wilk</td>\\n                  <td align=\"left\" rowspan=\"1\" colspan=\"1\">GSE36471</td>\\n                  <td align=\"left\" rowspan=\"1\" colspan=\"1\">[<xref rid=\"pone.0213221.ref048\" ref-type=\"bibr\">48</xref>]</td>\\n                  <td align=\"left\" rowspan=\"1\" colspan=\"1\">47</td>\\n                  <td align=\"left\" rowspan=\"1\" colspan=\"1\">13681</td>\\n                  <td align=\"left\" rowspan=\"1\" colspan=\"1\">Lung Adenocarcinoma</td>\\n                </tr>\\n                <tr>\\n                  <td align=\"left\" rowspan=\"1\" colspan=\"1\">dona</td>\\n                  <td align=\"left\" rowspan=\"1\" colspan=\"1\">GSE32688</td>\\n                  <td align=\"left\" rowspan=\"1\" colspan=\"1\">[<xref rid=\"pone.0213221.ref049\" ref-type=\"bibr\">49</xref>]</td>\\n                  <td align=\"left\" rowspan=\"1\" colspan=\"1\">32</td>\\n                  <td align=\"left\" rowspan=\"1\" colspan=\"1\">14833</td>\\n                  <td align=\"left\" rowspan=\"1\" colspan=\"1\">Pancreatic Cancer</td>\\n                </tr>\\n                <tr>\\n                  <td align=\"left\" rowspan=\"1\" colspan=\"1\">zhu</td>\\n                  <td align=\"left\" rowspan=\"1\" colspan=\"1\">GSE12805</td>\\n                  <td align=\"left\" rowspan=\"1\" colspan=\"1\"/>\\n                  <td align=\"left\" rowspan=\"1\" colspan=\"1\">31</td>\\n                  <td align=\"left\" rowspan=\"1\" colspan=\"1\">11639</td>\\n                  <td align=\"left\" rowspan=\"1\" colspan=\"1\">Osteosarcoma</td>\\n                </tr>\\n                <tr>\\n                  <td align=\"left\" rowspan=\"1\" colspan=\"1\">kuij</td>\\n                  <td align=\"left\" rowspan=\"1\" colspan=\"1\">GSE33383</td>\\n                  <td align=\"left\" rowspan=\"1\" colspan=\"1\">[<xref rid=\"pone.0213221.ref050\" ref-type=\"bibr\">50</xref>]</td>\\n                  <td align=\"left\" rowspan=\"1\" colspan=\"1\">29</td>\\n                  <td align=\"left\" rowspan=\"1\" colspan=\"1\">14339</td>\\n                  <td align=\"left\" rowspan=\"1\" colspan=\"1\">Osteosarcoma</td>\\n                </tr>\\n                <tr>\\n                  <td align=\"left\" rowspan=\"1\" colspan=\"1\">pau</td>\\n                  <td align=\"left\" rowspan=\"1\" colspan=\"1\">GSE26576</td>\\n                  <td align=\"left\" rowspan=\"1\" colspan=\"1\">[<xref rid=\"pone.0213221.ref051\" ref-type=\"bibr\">51</xref>]</td>\\n                  <td align=\"left\" rowspan=\"1\" colspan=\"1\">29</td>\\n                  <td align=\"left\" rowspan=\"1\" colspan=\"1\">14883</td>\\n                  <td align=\"left\" rowspan=\"1\" colspan=\"1\">Diffuse Intrinsic Pontine Glioma</td>\\n                </tr>\\n                <tr>\\n                  <td align=\"left\" rowspan=\"1\" colspan=\"1\">weig</td>\\n                  <td align=\"left\" rowspan=\"1\" colspan=\"1\">GSE57549</td>\\n                  <td align=\"left\" rowspan=\"1\" colspan=\"1\">[<xref rid=\"pone.0213221.ref052\" ref-type=\"bibr\">52</xref>]</td>\\n                  <td align=\"left\" rowspan=\"1\" colspan=\"1\">25</td>\\n                  <td align=\"left\" rowspan=\"1\" colspan=\"1\">15150</td>\\n                  <td align=\"left\" rowspan=\"1\" colspan=\"1\">Breast Cancer</td>\\n                </tr>\\n              </tbody>\\n            </table>\\n          </alternatives>\\n          <table-wrap-foot>\\n            <fn id=\"t001fn001\">\\n              <p>GEO = Gene Expression Omnibus dataset reference (<ext-link ext-link-type=\"uri\" xlink:href=\"http://www.ncbi.nlm.nih.gov/geo/\">http://www.ncbi.nlm.nih.gov/geo/</ext-link>), N = Number of samples, P = Number of matched probes,</p>\\n            </fn>\\n            <fn id=\"t001fn002\">\\n              <p>* <ext-link ext-link-type=\"uri\" xlink:href=\"http://www.cangem.org/\">http://www.cangem.org/</ext-link>,</p>\\n            </fn>\\n            <fn id=\"t001fn003\">\\n              <p><sup>&#8224;</sup>\\n<ext-link ext-link-type=\"uri\" xlink:href=\"http://cbio.mskcc.org/Public/lung_array_data/\">http://cbio.mskcc.org/Public/lung_array_data/</ext-link>,</p>\\n            </fn>\\n            <fn id=\"t001fn004\">\\n              <p><sup>&#8225;</sup> Expression data in ArrayExpress (<ext-link ext-link-type=\"uri\" xlink:href=\"http://www.ebi.ac.uk/arrayexpress/\">http://www.ebi.ac.uk/arrayexpress/</ext-link>): E-TABM-38, E-MTAB-161. Expts. ch, gra &amp; chpy use 2 expr. platforms, so samples from each platform treated as separate dataset, to avoid spurious correlations which may be caused by systematic shifts between the 2 sets of expr. data. Each contributes 2 datasets to study, resulting in 45 d&#8217;sets from 42 expts.</p>\\n            </fn>\\n          </table-wrap-foot>\\n        </table-wrap>\\n        <p>We refer to a &#8216;regulating gene&#8217; or &#8216;regulator&#8217; as one whose up or down expression change has a direct or indirect effect on the up or down regulation of a &#8216;target gene&#8217;. Any gene whose mRNA expression levels are significantly correlated with changes in its own copy number is considered worth investigating as a potential regulating gene. A potential target gene of a regulating gene has expression levels which are significantly correlated with the copy number alterations of the regulating gene.</p>\\n        <p>A gene appearing in a regulator&#8217;s list of predicted targets, does not mean that regulator is the most probable regulator for that target. Therefore, for each potential regulator, all predicted targets were assessed to see if the data indicated a more probable gene as its regulator. There are two possible criteria for assigning the best regulator for a target gene: either by minimum <italic>p</italic>-value from the meta-analysis or by the maximum number of datasets where there is significant correlation between the target&#8217;s expression and the regulator&#8217;s aCGH.</p>\\n        <p>In the following we use the short-hand &#8216;significant best target&#8217; to refer to a predicted target of a regulator which is first of all significant (<italic>p</italic>-value &lt; 0.05). Moreover this regulator is predicted to be the best regulator for the target out of all the regulators in the Metamatched analysis by way of <italic>both</italic> minimum <italic>p</italic>-value <italic>and</italic> having the maximum number of datasets where there is significant correlation between the target&#8217;s expression and the regulator&#8217;s aCGH. We use the short-hand &#8216;less stringent condition for best regulator&#8217; to refer to assigning a regulator as the best regulator of a target by way of <italic>either</italic> minimum <italic>p</italic>-value <italic>or</italic> having the maximum number of datasets where there is significant correlation between the target&#8217;s expression and the regulator&#8217;s aCGH.</p>\\n      </sec>\\n      <sec id=\"sec004\">\\n        <title>Network-based pathway enrichment analysis</title>\\n        <sec id=\"sec005\">\\n          <title>Introduction</title>\\n          <p>For each regulator, pathway enrichment was investigated separately using a network based analysis of the list of its target genes. The networks used were four databases of gene interactions in PathwayCommons [<xref rid=\"pone.0213221.ref008\" ref-type=\"bibr\">8</xref>], namely Humancyc (v20; 2016) [<xref rid=\"pone.0213221.ref053\" ref-type=\"bibr\">53</xref>], Panther (v3.6.1; 25-Jan-2018) [<xref rid=\"pone.0213221.ref054\" ref-type=\"bibr\">54</xref>], Pid (NCI Curated Human Pathways; 27-Jul-2015) [<xref rid=\"pone.0213221.ref055\" ref-type=\"bibr\">55</xref>] and Reactome (v64; 26-Mar-2018) [<xref rid=\"pone.0213221.ref056\" ref-type=\"bibr\">56</xref>], in the SIF (Simple interaction file) format. In the four databases there are a total of 9849 pathways, whose membership ranged from 2 to 2405 genes.</p>\\n          <p>The SIF format is a flat-file compendium of pairwise gene interactions documenting on each line two genes, the nature of their interaction (comprising one of eight different interaction types), and a biological pathway annotation for the interaction and/or a Pubmed ID (PMID) [<xref rid=\"pone.0213221.ref057\" ref-type=\"bibr\">57</xref>]. Not all interactions are annotated with a pathway or PMID and the pathway annotations may be composite pathways, each member in the list being separated by a semi-colon. We use the term node of the network to refer to a gene and the term edge of the network to refer to the undirected interaction between two genes. In the following pathway analysis we will make use of this annotation of edges by pathways. We refer to a gene as being annotated with a pathway if at least one of the edges connected to the gene is annotated with the pathway.</p>\\n          <p>The analysis consisted of two steps. Firstly the target gene list of the regulator was analysed in order to find enrichment of local subnetworks within the given PathwayCommons network database. This step uses the network structure encapsulated in the PathwayCommons database. Then the set of enriched local subnetworks discovered in the first step were investigated for the presence of enriched biological pathways according to the pathway annotations in the PathwayCommons database. <xref ref-type=\"fig\" rid=\"pone.0213221.g002\">Fig 2</xref> shows a flow diagram of the different steps in the analysis, which are described in the following two sections.</p>\\n          <fig id=\"pone.0213221.g002\" orientation=\"portrait\" position=\"float\">\\n            <object-id pub-id-type=\"doi\">10.1371/journal.pone.0213221.g002</object-id>\\n            <label>Fig 2</label>\\n            <caption>\\n              <title>Schematic diagram showing the steps involved in the network-based pathway enrichment analysis.</title>\\n            </caption>\\n            <graphic xlink:href=\"pone.0213221.g002\"/>\\n          </fig>\\n        </sec>\\n        <sec id=\"sec006\">\\n          <title>Network analysis</title>\\n          <p>The local enrichment analysis (LEAN) method of Gwinner et al. [<xref rid=\"pone.0213221.ref009\" ref-type=\"bibr\">9</xref>] was used for the network analysis. The purpose of this analysis is to find subnetworks of genes which together have unusually low <italic>p</italic>-values. The LEAN method examines <italic>local</italic> subnetworks, each of which comprises a single centre gene and its direct neighbours in a network database. All possible local subnetworks (centre genes) are evaluated. Evaluation of a local subnetwork takes as input the <italic>p</italic>-values of the centre gene and its direct neighbours, calculates an enrichment score and uses a null distribution derived from random sampling to return an enrichment <italic>p</italic>-value. The parameter free and exhaustive aspect of the LEAN method makes it particularly suitable for a comprehensive analysis of large numbers of disparate gene lists.</p>\\n          <p>For a regulator, the input to the LEAN algorithm was the complete list of target gene <italic>p</italic>-values from the meta-analysis for this regulator. That is, the <italic>p</italic>-values for the correlation between the regulator&#8217;s aCGH and the target genes&#8217; expression. For each target gene the minimum of the <italic>p</italic>-value for activation by the regulator and the <italic>p</italic>-value for repression by the regulator was selected.</p>\\n          <p>A gene was considered to be an enriched centre gene, at the centre of a significantly enriched subnetwork, if the LEAN <italic>p</italic>-value for the local subnetwork was less than 0.05.</p>\\n        </sec>\\n        <sec id=\"sec007\">\\n          <title>Pathway enrichment analysis</title>\\n          <p>The LEAN analysis of a regulator&#8217;s target gene list generates a number of significantly enriched local subnetworks for a given PathwayCommons network database. In this step the results of the network analysis are summarised and condensed in order to extract significantly enriched biological pathways.</p>\\n          <p>The following procedure was carried out for each regulator in each PathwayCommons network database in which the regulator shows significant enrichment of its target list. For each significantly enriched local subnetwork found for the regulator, biological pathways associated with the subnetwork were recorded by noting the pathways assigned to the edges of the subnetwork in the PathwayCommons network database. Not all edges were included; only the edges attached to a gene for which the regulator is predicted to be the best regulator and where this regulator-target relationship is significant (<italic>p</italic>-value &lt; 0.05). The stringent rule was applied as to whether a regulator is predicted to be the best regulator for a target gene.</p>\\n          <p>The results of applying this procedure for all the significantly enriched local subnetworks of the regulator were collated to give a list of pathways and the number of enriched centre genes associated with each of the pathways. The hypergeometric distribution was then used to test whether the number of occurences for a particular pathway was more than expected by chance.</p>\\n          <p>The hypergeometric distribution provides the distribution of finding <italic>k</italic> objects with a certain feature in a random sample of size <italic>n</italic> out of a population of <italic>N</italic> objects where a total of <italic>K</italic> objects has this feature. Here <italic>k</italic> is the number of enriched centre genes associated with a pathway, <italic>n</italic> is the total number of enriched centre genes in the LEAN analysis for this regulator, <italic>K</italic> is the number of genes recorded as being members of this pathway in the PathwayCommons database and <italic>N</italic> is the total number of genes in the PathwayCommons database. Significantly enriched pathways were selected as those with adjusted <italic>p</italic>-value from the hypergeometric test less than 0.05.</p>\\n          <p>The pathway with the minimum hypergeometric <italic>p</italic>-value was recorded as the main pathway for the regulator. As well as using the pathways in the PathwayCommons databases, the analysis used the Pubmed Ids if an interaction was not annotated with an actual pathway name.</p>\\n          <p>If a regulator itself was not annotated on any of its edges with one of its significantly enriched pathways then the R package igraph [<xref rid=\"pone.0213221.ref058\" ref-type=\"bibr\">58</xref>] was used to discover whether the regulator had any path in the network database to any of the genes whose edges were annotated with the pathway. The package igraph was also used to create plots of the significantly enriched pathways for a regulator. The biological pathways derived from the combined local subnetworks could be too large for plotting and required some pruning. <xref ref-type=\"supplementary-material\" rid=\"pone.0213221.s001\">S1 File</xref> contains details of how this was performed.</p>\\n        </sec>\\n      </sec>\\n    </sec>\\n    <sec sec-type=\"results\" id=\"sec008\">\\n      <title>Results</title>\\n      <p>In this section we first summarize the results of the meta-analysis. We then describe the primary results of the paper, namely the outcome of the network-based pathway enrichment anaysis. We first provide an overview of these results and then concentrate on genes exhibiting consistent heterogeneous copy number disruption, examining some of their enriched pathways in detail and their relevance to cancer biology.</p>\\n      <sec id=\"sec009\">\\n        <title>Meta-analysis</title>\\n        <p>From the meta-analysis of 45 matched aCGH/transcriptomics datasets we infer inter-chromosomal acting gene regulatory relationships. The complete results of the analysis can be found in the METAMATCHED database [<xref rid=\"pone.0213221.ref004\" ref-type=\"bibr\">4</xref>]. A description of the composition of the database can be found in <xref ref-type=\"supplementary-material\" rid=\"pone.0213221.s001\">S1 File</xref>. The analysis found 15496 genes considered worth investigating as potential regulators; that is, having significant correlation (adjusted <italic>p</italic>-value &lt; 0.05) between their copy number profile and gene expression profile in at least one of the datasets. Of the 15496 potential regulators, 1176 were found to have at least one significant predicted target (adjusted <italic>p</italic>-value &lt; 0.05). <xref ref-type=\"supplementary-material\" rid=\"pone.0213221.s002\">S2 File</xref> is a spreadsheet that summarises the results for the regulatory genes. The complete results, in R archive format are available for download from the Metamatched website, and are also included here as supplementary file <xref ref-type=\"supplementary-material\" rid=\"pone.0213221.s003\">S3 File</xref>.</p>\\n      </sec>\\n      <sec id=\"sec010\">\\n        <title>Network analysis</title>\\n        <p>The target gene list of each regulator was analysed for enrichment of local subnetworks within four PathwayCommons network databases using the LEAN method [<xref rid=\"pone.0213221.ref009\" ref-type=\"bibr\">9</xref>]. The set of enriched local subnetworks were then investigated for the presence of enriched biological pathways using a hypergeometric test. After the results from the LEAN analysis have been summarised and condensed in this way a total of 250 regulators show significant pathway enrichment of their target gene lists. Each regulator that demonstrates some pathway enrichment is assigned a main pathway (or Pubmed ID) as described in the Methods section. The 250 regulators have a total of 152 unique main pathways (see Table A in <xref ref-type=\"supplementary-material\" rid=\"pone.0213221.s004\">S4 File</xref>). The number of genes assigned to the 152 main pathways in the PathwayCommons database ranged from 5 to 262 genes, with a mean of 65.</p>\\n        <p>Each regulator will, in general, have a number of significantly enriched pathways besides a main pathway; the number ranges from 1 to 89 pathways, with a mean of 5. The 250 regulators between them have a total of 663 unique enriched pathways (see Table B in <xref ref-type=\"supplementary-material\" rid=\"pone.0213221.s004\">S4 File</xref>).</p>\\n        <p>Summary pathway enrichment information is displayed for each of the regulators on its webpage in the Metamatched database. More detailed information can be downloaded from the web page; a spreadsheet summarises the pathway enrichment results, an R archive file contains comprehensive information on the enrichment of each of the pathways and plots on the web page illustrate these pathways.</p>\\n        <p>We classified the enriched pathways into twenty major pathway types based on the top-level pathway classifications in Reactome. We assessed the frequency of occurrence of each pathway type by counting the number of regulators with target lists which are enriched with at least one pathway of the pathway type. In the sum of the number of regulators enriched with a particular pathway type the values were weighted by the number of datasets in which each regulator showed significant self aCGH/expression correlation. However, the number of genes annotated with a top-level pathway type in the PathwayCommons databases vary greatly, so the frequencies of occurrence of a pathway type were corrected for the number of annotated genes. Frequencies of occurrence were normalised so that the highest value was one.</p>\\n        <p>A pathway type will feature high in the ranking if it is enriched in the target lists of many regulators and these regulators have self aCGH/expression correlation in many datasets, and hence many types of cancer. The results are shown in <xref ref-type=\"fig\" rid=\"pone.0213221.g003\">Fig 3</xref>. The most frequently occurring pathway types were Metabolism of RNA, Gene Expression (primarily RNA Polymerase II Transcription) and DNA Repair (primarily DNA Double-Strand Break Repair).</p>\\n        <fig id=\"pone.0213221.g003\" orientation=\"portrait\" position=\"float\">\\n          <object-id pub-id-type=\"doi\">10.1371/journal.pone.0213221.g003</object-id>\\n          <label>Fig 3</label>\\n          <caption>\\n            <title>Frequency of occurrence of the major types of pathway amongst the enriched pathways of the 250 regulators.</title>\\n          </caption>\\n          <graphic xlink:href=\"pone.0213221.g003\"/>\\n        </fig>\\n      </sec>\\n      <sec id=\"sec011\">\\n        <title>Genes exhibiting consistent heterogeneous copy number disruption</title>\\n        <p>We focus on those regulatory genes which have significant correlation between their aCGH profiles and their own expression profiles in the highest number of datasets. The top genes in this respect are listed in <xref rid=\"pone.0213221.t002\" ref-type=\"table\">Table 2</xref>, which gives the number of datasets in which significant self aCGH/expression correlation is found, the number of significant targets for which the gene is the best regulator from the meta-analysis and the main pathway for the gene from the network analysis.</p>\\n        <table-wrap id=\"pone.0213221.t002\" orientation=\"portrait\" position=\"float\">\\n          <object-id pub-id-type=\"doi\">10.1371/journal.pone.0213221.t002</object-id>\\n          <label>Table 2</label>\\n          <caption>\\n            <title>Regulatory genes with self aCGH/expression correlation in the greatest number of datasets.</title>\\n          </caption>\\n          <alternatives>\\n            <graphic id=\"pone.0213221.t002g\" xlink:href=\"pone.0213221.t002\"/>\\n            <table frame=\"box\" rules=\"all\" border=\"0\">\\n              <colgroup span=\"1\">\\n                <col align=\"left\" valign=\"middle\" span=\"1\"/>\\n                <col align=\"left\" valign=\"middle\" span=\"1\"/>\\n                <col align=\"left\" valign=\"middle\" span=\"1\"/>\\n                <col align=\"left\" valign=\"middle\" span=\"1\"/>\\n              </colgroup>\\n              <thead>\\n                <tr>\\n                  <th align=\"left\" style=\"border-bottom:thick\" rowspan=\"1\" colspan=\"1\">Regulator</th>\\n                  <th align=\"center\" style=\"border-bottom:thick\" rowspan=\"1\" colspan=\"1\">Targs</th>\\n                  <th align=\"center\" style=\"border-bottom:thick\" rowspan=\"1\" colspan=\"1\">D&#8217;sets</th>\\n                  <th align=\"left\" style=\"border-bottom:thick\" rowspan=\"1\" colspan=\"1\">Main pathway</th>\\n                </tr>\\n              </thead>\\n              <tbody>\\n                <tr>\\n                  <td align=\"left\" rowspan=\"1\" colspan=\"1\">AZIN1</td>\\n                  <td align=\"center\" rowspan=\"1\" colspan=\"1\">2</td>\\n                  <td align=\"center\" rowspan=\"1\" colspan=\"1\">22</td>\\n                  <td align=\"left\" rowspan=\"1\" colspan=\"1\">Regulation of ornithine decarboxylase (ODC)</td>\\n                </tr>\\n                <tr>\\n                  <td align=\"left\" rowspan=\"1\" colspan=\"1\">AGO2</td>\\n                  <td align=\"center\" rowspan=\"1\" colspan=\"1\">7</td>\\n                  <td align=\"center\" rowspan=\"1\" colspan=\"1\">21</td>\\n                  <td align=\"left\" rowspan=\"1\" colspan=\"1\">Transcriptional regulation by small RNAs</td>\\n                </tr>\\n                <tr>\\n                  <td align=\"left\" rowspan=\"1\" colspan=\"1\">DERL1</td>\\n                  <td align=\"center\" rowspan=\"1\" colspan=\"1\">3</td>\\n                  <td align=\"center\" rowspan=\"1\" colspan=\"1\">21</td>\\n                  <td align=\"left\" rowspan=\"1\" colspan=\"1\">E3 ubiquitin ligases ubiquitinate target proteins</td>\\n                </tr>\\n                <tr>\\n                  <td align=\"left\" rowspan=\"1\" colspan=\"1\">PTK2</td>\\n                  <td align=\"center\" rowspan=\"1\" colspan=\"1\">3</td>\\n                  <td align=\"center\" rowspan=\"1\" colspan=\"1\">21</td>\\n                  <td align=\"left\" rowspan=\"1\" colspan=\"1\">PMID: 9187108 [<xref rid=\"pone.0213221.ref059\" ref-type=\"bibr\">59</xref>] <xref ref-type=\"table-fn\" rid=\"t002fn002\">*</xref>; 9256433 [<xref rid=\"pone.0213221.ref060\" ref-type=\"bibr\">60</xref>] <xref ref-type=\"table-fn\" rid=\"t002fn003\">**</xref></td>\\n                </tr>\\n                <tr>\\n                  <td align=\"left\" rowspan=\"1\" colspan=\"1\">BCL9</td>\\n                  <td align=\"center\" rowspan=\"1\" colspan=\"1\">1</td>\\n                  <td align=\"center\" rowspan=\"1\" colspan=\"1\">21</td>\\n                  <td align=\"left\" rowspan=\"1\" colspan=\"1\">Formation of the beta-catenin:TCF transactivating complex</td>\\n                </tr>\\n                <tr>\\n                  <td align=\"left\" rowspan=\"1\" colspan=\"1\">POGZ</td>\\n                  <td align=\"center\" rowspan=\"1\" colspan=\"1\">33</td>\\n                  <td align=\"center\" rowspan=\"1\" colspan=\"1\">20</td>\\n                  <td align=\"left\" rowspan=\"1\" colspan=\"1\">RNA polymerase II transcribes snRNA genes</td>\\n                </tr>\\n                <tr>\\n                  <td align=\"left\" rowspan=\"1\" colspan=\"1\">MRPS28</td>\\n                  <td align=\"center\" rowspan=\"1\" colspan=\"1\">4</td>\\n                  <td align=\"center\" rowspan=\"1\" colspan=\"1\">19</td>\\n                  <td align=\"left\" rowspan=\"1\" colspan=\"1\">Mitochondrial translation termination</td>\\n                </tr>\\n                <tr>\\n                  <td align=\"left\" rowspan=\"1\" colspan=\"1\">YWHAZ</td>\\n                  <td align=\"center\" rowspan=\"1\" colspan=\"1\">4</td>\\n                  <td align=\"center\" rowspan=\"1\" colspan=\"1\">19</td>\\n                  <td align=\"left\" rowspan=\"1\" colspan=\"1\">ATR signaling pathway</td>\\n                </tr>\\n                <tr>\\n                  <td align=\"left\" rowspan=\"1\" colspan=\"1\">CHD1</td>\\n                  <td align=\"center\" rowspan=\"1\" colspan=\"1\">2</td>\\n                  <td align=\"center\" rowspan=\"1\" colspan=\"1\">18</td>\\n                  <td align=\"left\" rowspan=\"1\" colspan=\"1\">Estrogen-dependent gene expression</td>\\n                </tr>\\n                <tr>\\n                  <td align=\"left\" rowspan=\"1\" colspan=\"1\">ZC3H3</td>\\n                  <td align=\"center\" rowspan=\"1\" colspan=\"1\">1</td>\\n                  <td align=\"center\" rowspan=\"1\" colspan=\"1\">18</td>\\n                  <td align=\"left\" rowspan=\"1\" colspan=\"1\">Cleavage of Growing Transcript in the Termination Region;Transport of Mature mRNA derived from an Intron-Containing Transcript;mRNA 3&#8217;-end processing</td>\\n                </tr>\\n                <tr>\\n                  <td align=\"left\" rowspan=\"1\" colspan=\"1\">HSBP1</td>\\n                  <td align=\"center\" rowspan=\"1\" colspan=\"1\">5</td>\\n                  <td align=\"center\" rowspan=\"1\" colspan=\"1\">17</td>\\n                  <td align=\"left\" rowspan=\"1\" colspan=\"1\">CXCR4-mediated signaling events;IL12 signaling mediated by STAT4;IL12-mediated signaling events;TCR signaling in na&#239;ve CD4+ T cells</td>\\n                </tr>\\n                <tr>\\n                  <td align=\"left\" rowspan=\"1\" colspan=\"1\">ANKRD46</td>\\n                  <td align=\"center\" rowspan=\"1\" colspan=\"1\">4</td>\\n                  <td align=\"center\" rowspan=\"1\" colspan=\"1\">17</td>\\n                  <td align=\"left\" rowspan=\"1\" colspan=\"1\">RUNX1 regulates genes involved in megakaryocyte differentiation and platelet function</td>\\n                </tr>\\n                <tr>\\n                  <td align=\"left\" rowspan=\"1\" colspan=\"1\">RABGAP1</td>\\n                  <td align=\"center\" rowspan=\"1\" colspan=\"1\">1</td>\\n                  <td align=\"center\" rowspan=\"1\" colspan=\"1\">17</td>\\n                  <td align=\"left\" rowspan=\"1\" colspan=\"1\">Regulation of gene expression in beta cells</td>\\n                </tr>\\n                <tr>\\n                  <td align=\"left\" rowspan=\"1\" colspan=\"1\">TRAK1</td>\\n                  <td align=\"center\" rowspan=\"1\" colspan=\"1\">1</td>\\n                  <td align=\"center\" rowspan=\"1\" colspan=\"1\">17</td>\\n                  <td align=\"left\" rowspan=\"1\" colspan=\"1\">Signaling by BRAF and RAF fusions</td>\\n                </tr>\\n                <tr>\\n                  <td align=\"left\" rowspan=\"1\" colspan=\"1\">TERF2IP</td>\\n                  <td align=\"center\" rowspan=\"1\" colspan=\"1\">8</td>\\n                  <td align=\"center\" rowspan=\"1\" colspan=\"1\">16</td>\\n                  <td align=\"left\" rowspan=\"1\" colspan=\"1\">Acetylcholine regulates insulin secretion;Activation of &#8230; <xref ref-type=\"table-fn\" rid=\"t002fn004\">***</xref></td>\\n                </tr>\\n                <tr>\\n                  <td align=\"left\" rowspan=\"1\" colspan=\"1\">RBBP5</td>\\n                  <td align=\"center\" rowspan=\"1\" colspan=\"1\">2</td>\\n                  <td align=\"center\" rowspan=\"1\" colspan=\"1\">16</td>\\n                  <td align=\"left\" rowspan=\"1\" colspan=\"1\">Activation of anterior HOX genes in hindbrain development during early embryogenesis;RUNX1 regulates genes involved in megakaryocyte differentiation and platelet function</td>\\n                </tr>\\n                <tr>\\n                  <td align=\"left\" rowspan=\"1\" colspan=\"1\">ATG7</td>\\n                  <td align=\"center\" rowspan=\"1\" colspan=\"1\">1</td>\\n                  <td align=\"center\" rowspan=\"1\" colspan=\"1\">16</td>\\n                  <td align=\"left\" rowspan=\"1\" colspan=\"1\">Antigen processing: Ubiquitination and Proteasome degradation;Interconversion of nucleotide di- and triphosphates</td>\\n                </tr>\\n                <tr>\\n                  <td align=\"left\" rowspan=\"1\" colspan=\"1\">NCOA6</td>\\n                  <td align=\"center\" rowspan=\"1\" colspan=\"1\">1</td>\\n                  <td align=\"center\" rowspan=\"1\" colspan=\"1\">16</td>\\n                  <td align=\"left\" rowspan=\"1\" colspan=\"1\">Activation of anterior HOX genes in hindbrain development during early embryogenesis</td>\\n                </tr>\\n                <tr>\\n                  <td align=\"left\" rowspan=\"1\" colspan=\"1\">SLC30A5</td>\\n                  <td align=\"center\" rowspan=\"1\" colspan=\"1\">1</td>\\n                  <td align=\"center\" rowspan=\"1\" colspan=\"1\">16</td>\\n                  <td align=\"left\" rowspan=\"1\" colspan=\"1\">NEP/NS2 Interacts with the Cellular Export Machinery;NS1 Mediated &#8230; <xref ref-type=\"table-fn\" rid=\"t002fn005\">****</xref></td>\\n                </tr>\\n                <tr>\\n                  <td align=\"left\" rowspan=\"1\" colspan=\"1\">VCPIP1</td>\\n                  <td align=\"center\" rowspan=\"1\" colspan=\"1\">1</td>\\n                  <td align=\"center\" rowspan=\"1\" colspan=\"1\">16</td>\\n                  <td align=\"left\" rowspan=\"1\" colspan=\"1\">Ovarian tumor domain proteases</td>\\n                </tr>\\n                <tr>\\n                  <td align=\"left\" rowspan=\"1\" colspan=\"1\">WWOX</td>\\n                  <td align=\"center\" rowspan=\"1\" colspan=\"1\">1</td>\\n                  <td align=\"center\" rowspan=\"1\" colspan=\"1\">16</td>\\n                  <td align=\"left\" rowspan=\"1\" colspan=\"1\">Formation of the beta-catenin:TCF transactivating complex</td>\\n                </tr>\\n                <tr>\\n                  <td align=\"left\" rowspan=\"1\" colspan=\"1\">PTS</td>\\n                  <td align=\"center\" rowspan=\"1\" colspan=\"1\">6</td>\\n                  <td align=\"center\" rowspan=\"1\" colspan=\"1\">15</td>\\n                  <td align=\"left\" rowspan=\"1\" colspan=\"1\">tetrahydrobiopterin biosynthesis I;tetrahydrobiopterin biosynthesis II</td>\\n                </tr>\\n                <tr>\\n                  <td align=\"left\" rowspan=\"1\" colspan=\"1\">DOCK1</td>\\n                  <td align=\"center\" rowspan=\"1\" colspan=\"1\">1</td>\\n                  <td align=\"center\" rowspan=\"1\" colspan=\"1\">15</td>\\n                  <td align=\"left\" rowspan=\"1\" colspan=\"1\">Integrin signalling pathway</td>\\n                </tr>\\n              </tbody>\\n            </table>\\n          </alternatives>\\n          <table-wrap-foot>\\n            <fn id=\"t002fn001\">\\n              <p>Targs = Number of significant targets for which regulator is the best regulator <italic>p</italic>-value &lt; 0.05, D&#8217;sets = Number of datasets in which the regulator has significant correlation between its aCGH profile and its own expression profile</p>\\n            </fn>\\n            <fn id=\"t002fn002\">\\n              <p>* TEP1, encoded by a candidate tumor suppressor locus, is a novel protein tyrosine phosphatase regulated by transforming growth factor beta.</p>\\n            </fn>\\n            <fn id=\"t002fn003\">\\n              <p>** P-TEN, the tumor suppressor from human chromosome 10q23, is a dual-specificity phosphatase.</p>\\n            </fn>\\n            <fn id=\"t002fn004\">\\n              <p>*** Acetylcholine regulates insulin secretion;Activation of NF-kappaB in B cells;Activation of RAS in B cells;Antigen activates B Cell Receptor (BCR) leading to generation of second messengers;Arachidonate production from DAG;Ca2+ pathway;EGFR Transactivation by Gastrin;Effects of PIP2 hydrolysis;Elevation of cytosolic Ca2+ levels;Fatty Acids bound to GPR40 (FFAR1) regulate insulin secretion;G alpha (q) signalling events;G beta:gamma signalling through PLC beta;GPVI-mediated activation cascade;Rap1 signalling;Response to elevated platelet cytosolic Ca2+;Syndecan interactions;Synthesis of IP3 and IP4 in the cytosol.</p>\\n            </fn>\\n            <fn id=\"t002fn005\">\\n              <p>****NEP/NS2 Interacts with the Cellular Export Machinery;NS1 Mediated Effects on Host Pathways;Nuclear Pore Complex (NPC) Disassembly;Nuclear import of Rev protein;Regulation of Glucokinase by Glucokinase Regulatory Protein;Regulation of HSF1-mediated heat shock response;Rev-mediated nuclear export of HIV RNA;SUMOylation of DNA damage response and repair proteins;SUMOylation of DNA replication proteins;SUMOylation of RNA binding proteins;SUMOylation of chromatin organization proteins;Transcriptional regulation by small RNAs;Transport of Mature mRNA Derived from an Intronless Transcript;Transport of Mature mRNA derived from an Intron-Containing Transcript;Transport of Ribonucleoproteins into the Host Nucleus;Transport of the SLBP Dependant Mature mRNA;Transport of the SLBP independent Mature mRNA;Viral Messenger RNA Synthesis;Vpr-mediated nuclear import of PICs;snRNP Assembly;tRNA processing in the nucleus.</p>\\n            </fn>\\n          </table-wrap-foot>\\n        </table-wrap>\\n        <p>The full list can be found in Table D in <xref ref-type=\"supplementary-material\" rid=\"pone.0213221.s004\">S4 File</xref>. This information is also displayed graphically in <xref ref-type=\"fig\" rid=\"pone.0213221.g004\">Fig 4</xref> which plots for each regulator the number of significant best targets against the number of datasets in which it shows significant self aCGH/expression correlation. There are genes in the Metamatched analysis which show significant self correlation in a higher number of datasets (up to 28 datasets, see <xref ref-type=\"supplementary-material\" rid=\"pone.0213221.s002\">S2 File</xref>), but which do not have significantly enriched pathways so are not included in <xref ref-type=\"fig\" rid=\"pone.0213221.g004\">Fig 4</xref>.</p>\\n        <fig id=\"pone.0213221.g004\" orientation=\"portrait\" position=\"float\">\\n          <object-id pub-id-type=\"doi\">10.1371/journal.pone.0213221.g004</object-id>\\n          <label>Fig 4</label>\\n          <caption>\\n            <title>For regulators, number of significant best targets against number of datasets.</title>\\n            <p>For each regulator, plotting the number of their predicted significant best targets against the number of datasets in which they show significant self aCGH/expression correlation. Showing only regulators with self-correlation in 8 or more datasets and regulators with at least one enriched pathway. The regulator with the maximum number of targets at each number of datasets is annotated.</p>\\n          </caption>\\n          <graphic xlink:href=\"pone.0213221.g004\"/>\\n        </fig>\\n        <p>In the following we examine some of the enriched pathways of these regulatory genes in detail in order to assess their potential relevance to tumor biology. Enrichment of a pathway in a gene&#8217;s target list can also provide further evidence for previously known interactions amongst genes or validate the predictions made by the Metamatched analysis. In addition it can be used to predict novel participants in pathways in two ways.</p>\\n        <p>Firstly, if a regulator is not currently known to participate in a pathway, but the regulator&#8217;s target list is enriched in that pathway, the enrichment suggests that the regulator has a connection with the pathway and some effect on the pathway&#8217;s function. We investigated whether each regulator was already known to be part of its enriched pathways or had any network path to any known member of the pathways in the relevant PathwayCommons database. We found that 118 of the regulators are known to be connected to all their enriched pathways, 100 to none, and the remaining 32 to some of their enriched pathways. In Table B in <xref ref-type=\"supplementary-material\" rid=\"pone.0213221.s004\">S4 File</xref>, which tabulates each of the 663 enriched pathways, the regulators associated with a pathway are divided into those that are known to be connected to the pathway and those that are not known to be connected to the pathway.</p>\\n        <p>Secondly, even if a regulator is already known to be part of a pathway for which its target gene list is enriched, in general there will be genes in its target gene list which are not known to be associated with the pathway. The prediction of these genes as targets of the regulator suggests they may be participants in the pathway. In general, the majority of a regulator&#8217;s significant best targets are not known to be involved in its enriched pathways (see <xref ref-type=\"sec\" rid=\"sec002\">Methods</xref> section for definition of &#8216;significant best target&#8217;). The details of the network analysis for each regulator that can be downloaded from the Metamatched website includes, for each enriched pathway, those significant best targets which are known to be connected to the pathway and those which are not known to be connected.</p>\\n        <p>In the examples we concentrate on some of the pathways found to be the most disrupted pathways in the 45 datasets used in the analysis. As a measure of the disruption of a pathway we used the number of datasets in which at least one regulator associated by enrichment with this pathway has significant copy number disruption, with a concomitant change in expression. The top disrupted pathways are listed in <xref rid=\"pone.0213221.t003\" ref-type=\"table\">Table 3</xref> and the full list is given in Table C in <xref ref-type=\"supplementary-material\" rid=\"pone.0213221.s004\">S4 File</xref>. Note that the pathway entries for gene pairs in PathwayCommons may be composite pathways, separated by a semi-colon. In the LEAN analysis these composite pathways have been used, but in compiling <xref rid=\"pone.0213221.t003\" ref-type=\"table\">Table 3</xref> composite entries have first been split into their component pathways. For brevity in the table, if two pathways are found to have exactly the same complement of regulators associated with them by enrichment then the pathways have been concatenated by a vertical-bar symbol. This generates 353 unique pathways, or pathway combinations, from the 663 composite pathways.</p>\\n        <table-wrap id=\"pone.0213221.t003\" orientation=\"portrait\" position=\"float\">\\n          <object-id pub-id-type=\"doi\">10.1371/journal.pone.0213221.t003</object-id>\\n          <label>Table 3</label>\\n          <caption>\\n            <title>Most disrupted pathways in the 45 datasets used in the analysis.</title>\\n          </caption>\\n          <alternatives>\\n            <graphic id=\"pone.0213221.t003g\" xlink:href=\"pone.0213221.t003\"/>\\n            <table frame=\"box\" rules=\"all\" border=\"0\">\\n              <colgroup span=\"1\">\\n                <col align=\"left\" valign=\"middle\" span=\"1\"/>\\n                <col align=\"left\" valign=\"middle\" span=\"1\"/>\\n                <col align=\"left\" valign=\"middle\" span=\"1\"/>\\n              </colgroup>\\n              <thead>\\n                <tr>\\n                  <th align=\"left\" style=\"border-bottom:thick\" rowspan=\"1\" colspan=\"1\">Pathway</th>\\n                  <th align=\"left\" style=\"border-bottom:thick\" rowspan=\"1\" colspan=\"1\">Regulators</th>\\n                  <th align=\"center\" style=\"border-bottom:thick\" rowspan=\"1\" colspan=\"1\">N</th>\\n                </tr>\\n              </thead>\\n              <tbody>\\n                <tr>\\n                  <td align=\"left\" rowspan=\"1\" colspan=\"1\">Downstream TCR signaling</td>\\n                  <td align=\"left\" rowspan=\"1\" colspan=\"1\">ABCC12 ARHGEF4 ATXN7L2 HSBP1 IGSF9 MEF2C MNS1 PBXIP1 PIK3R1 PIP5K1A PLCG2 POGZ PSMB10 PTK2 RASGRF2 TERF2IP VHL</td>\\n                  <td align=\"center\" rowspan=\"1\" colspan=\"1\">33</td>\\n                </tr>\\n                <tr>\\n                  <td align=\"left\" rowspan=\"1\" colspan=\"1\">Generation of second messenger molecules</td>\\n                  <td align=\"left\" rowspan=\"1\" colspan=\"1\">ARHGEF4 ATXN7L2 HSBP1 PIP5K1A PLCG2 POGZ PTK2 TERF2IP VHL</td>\\n                  <td align=\"center\" rowspan=\"1\" colspan=\"1\">33</td>\\n                </tr>\\n                <tr>\\n                  <td align=\"left\" rowspan=\"1\" colspan=\"1\">Antigen activates B Cell Receptor (BCR) leading to generation of second messengers</td>\\n                  <td align=\"left\" rowspan=\"1\" colspan=\"1\">ABCC12 ARHGEF4 ATXN7L2 ETV7 GALE IGSF9 INTS8 MCMDC2 MEF2C MNS1 PBXIP1 PEBP4 PIK3R1 PIP5K1A PLCG2 PTK2 RASGRF2 TERF2IP</td>\\n                  <td align=\"center\" rowspan=\"1\" colspan=\"1\">31</td>\\n                </tr>\\n                <tr>\\n                  <td align=\"left\" rowspan=\"1\" colspan=\"1\">Formation of the beta-catenin:TCF transactivating complex</td>\\n                  <td align=\"left\" rowspan=\"1\" colspan=\"1\">BCL9 CPEB4 HIST2H2BE HOXD9 LYL1 MYC NIPAL4 POGZ PYGO2 RAB3A RBBP5 WWOX ZNF446</td>\\n                  <td align=\"center\" rowspan=\"1\" colspan=\"1\">31</td>\\n                </tr>\\n                <tr>\\n                  <td align=\"left\" rowspan=\"1\" colspan=\"1\">RUNX1 regulates genes involved in megakaryocyte differentiation and platelet function</td>\\n                  <td align=\"left\" rowspan=\"1\" colspan=\"1\">ANKRD46 DAAM2 HIST2H2BE HOXD9 KMT2E LYL1 NIPAL4 POGZ RAB3A RBBP5 ZNF446</td>\\n                  <td align=\"center\" rowspan=\"1\" colspan=\"1\">31</td>\\n                </tr>\\n                <tr>\\n                  <td align=\"left\" rowspan=\"1\" colspan=\"1\">PD-1 signaling</td>\\n                  <td align=\"left\" rowspan=\"1\" colspan=\"1\">ARHGEF4 ATXN7L2 HSBP1 MNS1 POGZ VHL</td>\\n                  <td align=\"center\" rowspan=\"1\" colspan=\"1\">31</td>\\n                </tr>\\n                <tr>\\n                  <td align=\"left\" rowspan=\"1\" colspan=\"1\">Phosphorylation of CD3 and TCR zeta chains &#8739; Translocation of ZAP-70 to Immunological synapse</td>\\n                  <td align=\"left\" rowspan=\"1\" colspan=\"1\">ARHGEF4 ATXN7L2 HSBP1 POGZ VHL</td>\\n                  <td align=\"center\" rowspan=\"1\" colspan=\"1\">31</td>\\n                </tr>\\n                <tr>\\n                  <td align=\"left\" rowspan=\"1\" colspan=\"1\">FCERI mediated Ca+2 mobilization &#8739; Role of phospholipids in phagocytosis</td>\\n                  <td align=\"left\" rowspan=\"1\" colspan=\"1\">ABCC12 ETV7 IGSF9 MCMDC2 MEF2C MNS1 PBXIP1 PEBP4 PIK3R1 PIP5K1A PLCG2 PTK2 RASGRF2 TERF2IP</td>\\n                  <td align=\"center\" rowspan=\"1\" colspan=\"1\">30</td>\\n                </tr>\\n                <tr>\\n                  <td align=\"left\" rowspan=\"1\" colspan=\"1\">SUMOylation of DNA damage response and repair proteins</td>\\n                  <td align=\"left\" rowspan=\"1\" colspan=\"1\">ASNSD1 GUCA2B HOXD9 LINC01587 NR3C2 NSMCE2 PHC3 SLC30A5 SSB TNNT2 TSPAN7 XRCC4</td>\\n                  <td align=\"center\" rowspan=\"1\" colspan=\"1\">30</td>\\n                </tr>\\n                <tr>\\n                  <td align=\"left\" rowspan=\"1\" colspan=\"1\">Ca2+ pathway</td>\\n                  <td align=\"left\" rowspan=\"1\" colspan=\"1\">ETV7 GALE INTS8 MCMDC2 PEBP4 PIP5K1A PLCG2 PTK2 TERF2IP</td>\\n                  <td align=\"center\" rowspan=\"1\" colspan=\"1\">30</td>\\n                </tr>\\n                <tr>\\n                  <td align=\"left\" rowspan=\"1\" colspan=\"1\">DAG and IP3 signaling &#8739; PLC beta mediated events &#8739; VEGFR2 mediated cell proliferation</td>\\n                  <td align=\"left\" rowspan=\"1\" colspan=\"1\">ETV7 MCMDC2 PEBP4 PIP5K1A PLCG2 PTK2 TERF2IP</td>\\n                  <td align=\"center\" rowspan=\"1\" colspan=\"1\">30</td>\\n                </tr>\\n                <tr>\\n                  <td align=\"left\" rowspan=\"1\" colspan=\"1\">Major pathway of rRNA processing in the nucleolus and cytosol</td>\\n                  <td align=\"left\" rowspan=\"1\" colspan=\"1\">AGO2 BCAN CDX1 CFHR4 DENND1C DUOX1 FAM212B FCRL5 GKN1 IDH1 KCNK4 KDELR1 KLK6 MYC NIP7 PDE4C PRKACA PROCR RIPK3 RPL13A RPS23 RPS4X SEC24D SF3B4 STARD4 TLE2 ZCCHC9</td>\\n                  <td align=\"center\" rowspan=\"1\" colspan=\"1\">29</td>\\n                </tr>\\n                <tr>\\n                  <td align=\"left\" rowspan=\"1\" colspan=\"1\">Transcriptional regulation by small RNAs</td>\\n                  <td align=\"left\" rowspan=\"1\" colspan=\"1\">AGO2 ASNSD1 BCAN GIMAP2 GUCA2B HIST2H2BE HOXD9 LINC01587 LYL1 NIPAL4 NR3C2 RAB3A SLC30A5 SSB TNNT2 TSPAN7 ZNF446</td>\\n                  <td align=\"center\" rowspan=\"1\" colspan=\"1\">29</td>\\n                </tr>\\n                <tr>\\n                  <td align=\"left\" rowspan=\"1\" colspan=\"1\">snRNP Assembly</td>\\n                  <td align=\"left\" rowspan=\"1\" colspan=\"1\">ASNSD1 CFHR4 FIGF GCG GEMIN7 GEMIN8 GUCA2B HOXD9 LINC01587 NR3C2 POGZ SLC30A5 SSB TNNT2 TSPAN7</td>\\n                  <td align=\"center\" rowspan=\"1\" colspan=\"1\">29</td>\\n                </tr>\\n                <tr>\\n                  <td align=\"left\" rowspan=\"1\" colspan=\"1\">GPVI-mediated activation cascade</td>\\n                  <td align=\"left\" rowspan=\"1\" colspan=\"1\">ABCC12 GALE IGSF9 INTS8 MEF2C MNS1 PBXIP1 PIK3R1 PIP5K1A PLCG2 PTK2 RASGRF2 TERF2IP</td>\\n                  <td align=\"center\" rowspan=\"1\" colspan=\"1\">29</td>\\n                </tr>\\n                <tr>\\n                  <td align=\"left\" rowspan=\"1\" colspan=\"1\">Estrogen-dependent gene expression</td>\\n                  <td align=\"left\" rowspan=\"1\" colspan=\"1\">AGO2 CHD1 HIST2H2BE IQGAP2 LYL1 MYC NIPAL4 PIEZO1 POGZ RAB3A ZNF446</td>\\n                  <td align=\"center\" rowspan=\"1\" colspan=\"1\">29</td>\\n                </tr>\\n                <tr>\\n                  <td align=\"left\" rowspan=\"1\" colspan=\"1\">FGF signaling pathway</td>\\n                  <td align=\"left\" rowspan=\"1\" colspan=\"1\">ARHGEF4 COTL1 GAB2 PIK3R1 PLCG2 POGZ PTK2 SELPLG TNFSF10</td>\\n                  <td align=\"center\" rowspan=\"1\" colspan=\"1\">29</td>\\n                </tr>\\n                <tr>\\n                  <td align=\"left\" rowspan=\"1\" colspan=\"1\">G alpha (q) signalling events</td>\\n                  <td align=\"left\" rowspan=\"1\" colspan=\"1\">INTS8 MNS1 NPY4R PIP5K1A PLCG2 PTK2 TERF2IP</td>\\n                  <td align=\"center\" rowspan=\"1\" colspan=\"1\">29</td>\\n                </tr>\\n                <tr>\\n                  <td align=\"left\" rowspan=\"1\" colspan=\"1\">Activation of anterior HOX genes in hindbrain development during early embryogenesis</td>\\n                  <td align=\"left\" rowspan=\"1\" colspan=\"1\">DAAM2 HIST2H2BE LYL1 NCOA6 NIPAL4 PARP10 PAX6 PLCG2 POGZ RAB3A RBBP5 VHL ZNF446</td>\\n                  <td align=\"center\" rowspan=\"1\" colspan=\"1\">28</td>\\n                </tr>\\n                <tr>\\n                  <td align=\"left\" rowspan=\"1\" colspan=\"1\">PKMTs methylate histone lysines</td>\\n                  <td align=\"left\" rowspan=\"1\" colspan=\"1\">ASH1L DAAM2 DQX1 KMT2E LYL1 MECOM PARP10 POGZ RBBP5</td>\\n                  <td align=\"center\" rowspan=\"1\" colspan=\"1\">28</td>\\n                </tr>\\n                <tr>\\n                  <td align=\"left\" rowspan=\"1\" colspan=\"1\">G beta:gamma signalling through PLC beta</td>\\n                  <td align=\"left\" rowspan=\"1\" colspan=\"1\">GALE INTS8 PIP5K1A PLCG2 PTK2 TERF2IP</td>\\n                  <td align=\"center\" rowspan=\"1\" colspan=\"1\">28</td>\\n                </tr>\\n                <tr>\\n                  <td align=\"left\" rowspan=\"1\" colspan=\"1\">MHC class II antigen presentation</td>\\n                  <td align=\"left\" rowspan=\"1\" colspan=\"1\">DCTN4 GIMAP2 HSBP1 POGZ RASGRF2 RILP</td>\\n                  <td align=\"center\" rowspan=\"1\" colspan=\"1\">28</td>\\n                </tr>\\n              </tbody>\\n            </table>\\n          </alternatives>\\n          <table-wrap-foot>\\n            <fn id=\"t003fn001\">\\n              <p>N = Total number of datasets in which pathway potentially disrupted</p>\\n            </fn>\\n          </table-wrap-foot>\\n        </table-wrap>\\n        <p>We now look at three examples of enriched pathways in detail (a further two are given in supplementary information <xref ref-type=\"supplementary-material\" rid=\"pone.0213221.s005\">S5 File</xref>):</p>\\n        <sec id=\"sec012\">\\n          <title>Pathway example 1: Formation of the beta-catenin:TCF transactivating complex</title>\\n          <p>Beta-catenin plays an important part in the Wnt-signaling pathway and is itself controlled by binding partners such as the TCF family of transcription factors that affect its stability and localization. It participates in various processes such as gene expression and cell adhesion. Mutations in beta-catenin and the partners regulating its stability can contribute to tumorgenesis [<xref rid=\"pone.0213221.ref061\" ref-type=\"bibr\">61</xref>].</p>\\n          <p>Thirteen regulators have this pathway as one of their enriched pathways, namely <italic>BCL9</italic> (21), <italic>POGZ</italic> (20), <italic>RBBP5</italic> (16), <italic>WWOX</italic> (16), <italic>CPEB4</italic> (9), <italic>MYC</italic> (8), <italic>PYGO2</italic> (7), <italic>LYL1</italic> (3), <italic>ZNF446</italic> (3), <italic>HOXD9</italic> (2), <italic>NIPAL4</italic> (2), <italic>RAB3A</italic> (2) and <italic>HIST2H2BE</italic> (2). The numbers in brackets indicate the number of datasets in which the regulator has significant self aCGH/expression correlation.</p>\\n          <p><italic>BCL9 (B Cell CLL/Lymphoma 9)</italic> has significant self-correlation in 21 datasets. It is known to be part of this pathway, being annotated with the pathway in Reactome.</p>\\n          <p><italic>POGZ (Pogo Transposable Element Derived With ZNF Domain)</italic>, a protein coding gene, has significant self-correlation in 20 of the datasets in Metamatched (<xref rid=\"pone.0213221.t002\" ref-type=\"table\">Table 2</xref>). It also has an unusually high number of significant targets for which it is predicted to be the best regulator; 33 in total (see <xref ref-type=\"fig\" rid=\"pone.0213221.g004\">Fig 4</xref>). It is not annotated with this pathway, and there is no path in Reactome from <italic>POGZ</italic> to known members of this pathway, so the pathway enrichment analysis is suggesting a novel involvement of <italic>POGZ</italic> in the pathway &#8216;Formation of the beta-catenin:TCF transactivating complex&#8217;, disruption of which is of relevance to tumor biology.</p>\\n          <p>The pathway enrichment analysis of the predicted targets for <italic>POGZ</italic> infers a total of 17 enriched pathways (<xref rid=\"pone.0213221.t004\" ref-type=\"table\">Table 4</xref>), fifteen of them in Reactome and two in Panther. The functional role of <italic>POGZ</italic> is, as yet, not well characterised in the literature and it is not annotated with these pathways, neither is there any path in Reactome or Panther from <italic>POGZ</italic> to known members of the pathways, so the enrichment analysis in conjunction with the meta-analysis is suggesting a novel involvement of <italic>POGZ</italic> in all of these pathways.</p>\\n          <table-wrap id=\"pone.0213221.t004\" orientation=\"portrait\" position=\"float\">\\n            <object-id pub-id-type=\"doi\">10.1371/journal.pone.0213221.t004</object-id>\\n            <label>Table 4</label>\\n            <caption>\\n              <title>Enriched pathways of POGZ with associated significant best targets.</title>\\n            </caption>\\n            <alternatives>\\n              <graphic id=\"pone.0213221.t004g\" xlink:href=\"pone.0213221.t004\"/>\\n              <table frame=\"box\" rules=\"all\" border=\"0\">\\n                <colgroup span=\"1\">\\n                  <col align=\"left\" valign=\"middle\" span=\"1\"/>\\n                  <col align=\"left\" valign=\"middle\" span=\"1\"/>\\n                </colgroup>\\n                <thead>\\n                  <tr>\\n                    <th align=\"left\" style=\"border-bottom:thick\" rowspan=\"1\" colspan=\"1\">Pathway</th>\\n                    <th align=\"left\" style=\"border-bottom:thick\" rowspan=\"1\" colspan=\"1\">Targets</th>\\n                  </tr>\\n                </thead>\\n                <tbody>\\n                  <tr>\\n                    <td align=\"left\" rowspan=\"1\" colspan=\"1\">TGF-beta signaling pathway</td>\\n                    <td align=\"left\" rowspan=\"1\" colspan=\"1\">ACVR2B EP400</td>\\n                  </tr>\\n                  <tr>\\n                    <td align=\"left\" rowspan=\"1\" colspan=\"1\">EGF receptor signaling pathway;FGF signaling pathway</td>\\n                    <td align=\"left\" rowspan=\"1\" colspan=\"1\">RASA1</td>\\n                  </tr>\\n                  <tr>\\n                    <td align=\"left\" rowspan=\"1\" colspan=\"1\">RNA polymerase II transcribes snRNA genes</td>\\n                    <td align=\"left\" rowspan=\"1\" colspan=\"1\">SP1 YY1 TRRAP EP400</td>\\n                  </tr>\\n                  <tr>\\n                    <td align=\"left\" rowspan=\"1\" colspan=\"1\">RUNX1 regulates genes involved in megakaryocyte differentiation and platelet function;RUNX1 regulates transcription of genes involved in differentiation of HSCs</td>\\n                    <td align=\"left\" rowspan=\"1\" colspan=\"1\">YY1 TRRAP KMT2A SMC4 EP400</td>\\n                  </tr>\\n                  <tr>\\n                    <td align=\"left\" rowspan=\"1\" colspan=\"1\">Activation of anterior HOX genes in hindbrain development during early embryogenesis;Estrogen-dependent gene expression</td>\\n                    <td align=\"left\" rowspan=\"1\" colspan=\"1\">YY1 TRRAP KMT2A SMC4 EP400</td>\\n                  </tr>\\n                  <tr>\\n                    <td align=\"left\" rowspan=\"1\" colspan=\"1\">Condensation of Prophase Chromosomes</td>\\n                    <td align=\"left\" rowspan=\"1\" colspan=\"1\">YY1 TRRAP KMT2A SMC4 EP400</td>\\n                  </tr>\\n                  <tr>\\n                    <td align=\"left\" rowspan=\"1\" colspan=\"1\">snRNP Assembly</td>\\n                    <td align=\"left\" rowspan=\"1\" colspan=\"1\">GEMIN5</td>\\n                  </tr>\\n                  <tr>\\n                    <td align=\"left\" rowspan=\"1\" colspan=\"1\">MHC class II antigen presentation</td>\\n                    <td align=\"left\" rowspan=\"1\" colspan=\"1\">SP1 HLA-DPA1</td>\\n                  </tr>\\n                  <tr>\\n                    <td align=\"left\" rowspan=\"1\" colspan=\"1\">Formation of the beta-catenin:TCF transactivating complex;Ub-specific processing proteases</td>\\n                    <td align=\"left\" rowspan=\"1\" colspan=\"1\">YY1 TRRAP KMT2A SMC4 EP400</td>\\n                  </tr>\\n                  <tr>\\n                    <td align=\"left\" rowspan=\"1\" colspan=\"1\">PKMTs methylate histone lysines;RUNX1 regulates genes involved in megakaryocyte differentiation and platelet function;RUNX1 regulates transcription of genes involved in differentiation of HSCs</td>\\n                    <td align=\"left\" rowspan=\"1\" colspan=\"1\">YY1 TRRAP KMT2A SMC4 EP400</td>\\n                  </tr>\\n                  <tr>\\n                    <td align=\"left\" rowspan=\"1\" colspan=\"1\">Formation of the beta-catenin:TCF transactivating complex;HATs acetylate histones</td>\\n                    <td align=\"left\" rowspan=\"1\" colspan=\"1\">YY1 TRRAP KMT2A SMC4 EP400 NAT8L</td>\\n                  </tr>\\n                  <tr>\\n                    <td align=\"left\" rowspan=\"1\" colspan=\"1\">HATs acetylate histones</td>\\n                    <td align=\"left\" rowspan=\"1\" colspan=\"1\">SP1 YY1 TRRAP KMT2A SMC4 EP400 NAT8L</td>\\n                  </tr>\\n                  <tr>\\n                    <td align=\"left\" rowspan=\"1\" colspan=\"1\">DNA Damage Recognition in GG-NER</td>\\n                    <td align=\"left\" rowspan=\"1\" colspan=\"1\">YY1</td>\\n                  </tr>\\n                  <tr>\\n                    <td align=\"left\" rowspan=\"1\" colspan=\"1\">HATs acetylate histones;Ub-specific processing proteases</td>\\n                    <td align=\"left\" rowspan=\"1\" colspan=\"1\">TRRAP EP400</td>\\n                  </tr>\\n                  <tr>\\n                    <td align=\"left\" rowspan=\"1\" colspan=\"1\">Formation of the beta-catenin:TCF transactivating complex;HATs acetylate histones;Ub-specific processing proteases</td>\\n                    <td align=\"left\" rowspan=\"1\" colspan=\"1\">YY1 TRRAP KMT2A SMC4 EP400</td>\\n                  </tr>\\n                  <tr>\\n                    <td align=\"left\" rowspan=\"1\" colspan=\"1\">Downstream TCR signaling;Generation of second messenger molecules;Interferon gamma signaling;MHC class II antigen presentation;PD-1 signaling;Phosphorylation of CD3 and TCR zeta chains;Translocation of ZAP-70 to Immunological synapse</td>\\n                    <td align=\"left\" rowspan=\"1\" colspan=\"1\">HLA-DPA1</td>\\n                  </tr>\\n                  <tr>\\n                    <td align=\"left\" rowspan=\"1\" colspan=\"1\">Downstream TCR signaling;Generation of second messenger molecules;PD-1 signaling;Phosphorylation of CD3 and TCR zeta chains;Translocation of ZAP-70 to Immunological synapse</td>\\n                    <td align=\"left\" rowspan=\"1\" colspan=\"1\">HLA-DPA1</td>\\n                  </tr>\\n                </tbody>\\n              </table>\\n            </alternatives>\\n          </table-wrap>\\n          <p><italic>POGZ</italic> is known to encode a protein containing a zinc-finger cluster, an HP1-binding motif, a centromere protein-B-like DNA-binding (CENPB-DB) domain, and a transposase-derived DDE domain [<xref rid=\"pone.0213221.ref062\" ref-type=\"bibr\">62</xref>]. The HP1-binding domain of POGZ is required for mitotic progression and dissociation of HP1<italic>&#945;</italic> from mitotic chromosome arms and for activation and dissociation of Aurora B kinase from chromosome arms at M phase [<xref rid=\"pone.0213221.ref063\" ref-type=\"bibr\">63</xref>]. POGZ has also been found to interact with glucocorticoid receptors, which regulate various metabolic, homeostatic and differentiation processes [<xref rid=\"pone.0213221.ref064\" ref-type=\"bibr\">64</xref>], and with the C terminus of LEDGF/p75 via its DDE domain [<xref rid=\"pone.0213221.ref065\" ref-type=\"bibr\">65</xref>, <xref rid=\"pone.0213221.ref066\" ref-type=\"bibr\">66</xref>], and with trimethyl-lysine modifications on histones that control chromatin-mediated regulation of gene expression, and with the mitotic spindle checkpoint protein MAD2L2 [<xref rid=\"pone.0213221.ref067\" ref-type=\"bibr\">67</xref>].</p>\\n          <p><italic>POGZ</italic> has six significant best targets associated with the pathway &#8216;Formation of the beta-catenin:TCF transactivating complex&#8217; in the enrichment analysis. <italic>TTRAP</italic> is annotated with this pathway in Reactome, <italic>EP400</italic> and <italic>YY1</italic> are centres of enriched local subnetworks, and <italic>SMC4</italic>, <italic>KMT2A</italic> and <italic>NAT8L</italic> are part of enriched local subnetworks.</p>\\n          <p>If the stringency of the best regulator condition is relaxed (see <xref ref-type=\"sec\" rid=\"sec002\">Methods</xref> section for details), then more significant targets of <italic>POGZ</italic> appear in the pathway. <xref ref-type=\"fig\" rid=\"pone.0213221.g005\">Fig 5</xref> plots the enriched network when the less stringent condition is applied. The enrichment analysis now associates sixteen significant targets for which <italic>POGZ</italic> is the best predicted regulator with the pathway.</p>\\n          <fig id=\"pone.0213221.g005\" orientation=\"portrait\" position=\"float\">\\n            <object-id pub-id-type=\"doi\">10.1371/journal.pone.0213221.g005</object-id>\\n            <label>Fig 5</label>\\n            <caption>\\n              <title>POGZ: Formation of the beta-catenin:TCF transactivating complex.</title>\\n              <p>Simplified diagram of the pathway &#8216;Formation of the beta-catenin:TCF transactivating complex&#8217; as enriched in the target list of the gene POGZ. Applying the less stringent criterion for a regulator to be the best regulator of targets. Nodes: Green = significant target, Red border = regulator is best regulator for target Dark Blue = enriched centre also significant target, Light Blue = enriched centre but not significant target. Edges: grey = &#8216;in-complex-with&#8217;, purple = &#8216;catalysis-precedes&#8217;, &#8216;used-to-produce&#8217; orange = &#8216;controls-state-change-of&#8217;, &#8216;controls-phosphorylation-of&#8217; brown = &#8216;controls-expression-of&#8217;, &#8216;cntrls-production-of&#8217;, consumption-cntrlled-by&#8217;.</p>\\n            </caption>\\n            <graphic xlink:href=\"pone.0213221.g005\"/>\\n          </fig>\\n          <p>Loss of function mutations in <italic>POGZ</italic> are known to be associated with severe neurodevelopmental delay, resulting in a majority of cells being unable to form metaphase plates, exiting mitosis prematurely and causing the formation of polyploidy cells, which can lead to cell death or genome instability in subsequent division cycles [<xref rid=\"pone.0213221.ref068\" ref-type=\"bibr\">68</xref>]. <italic>POGZ</italic> mutations that disrupt the DNA-binding activity of POGZ are also associated with Autism spectrum disorder (ASD) [<xref rid=\"pone.0213221.ref062\" ref-type=\"bibr\">62</xref>, <xref rid=\"pone.0213221.ref069\" ref-type=\"bibr\">69</xref>, <xref rid=\"pone.0213221.ref070\" ref-type=\"bibr\">70</xref>]. Loss of <italic>POGZ</italic> has also been found to affect the proliferation of mouse neural progenitor cells [<xref rid=\"pone.0213221.ref071\" ref-type=\"bibr\">71</xref>].</p>\\n          <p>Another better characterised gene associated with ASD, <italic>CHD8</italic>, interacts with <italic>POGZ</italic> [<xref rid=\"pone.0213221.ref072\" ref-type=\"bibr\">72</xref>] and is known to be involved with beta-catenin pathways [<xref rid=\"pone.0213221.ref073\" ref-type=\"bibr\">73</xref>], and mutations in pathways regulating beta-catenin have been shown to occur in ASD [<xref rid=\"pone.0213221.ref074\" ref-type=\"bibr\">74</xref>]. <italic>POGZ</italic> expression is also correlated with <italic>CTNND2</italic> (Catenin Delta 2) [<xref rid=\"pone.0213221.ref075\" ref-type=\"bibr\">75</xref>], providing circumstantial support for <italic>POGZ</italic>&#8217;s involvement in the beta-catenin pathways predicted here by the pathway enrichment analysis of the regulatory relationships inferred from the meta-analysis of matched datasets.</p>\\n          <p>Disruption of <italic>CHD8</italic> is also implicated in cancer [<xref rid=\"pone.0213221.ref076\" ref-type=\"bibr\">76</xref>], as is the disruption of the destruction complex of beta-catenin [<xref rid=\"pone.0213221.ref077\" ref-type=\"bibr\">77</xref>]. Thus the genomic disruption of <italic>POGZ</italic> in many of the cancer datasets used in our study and the concomitant changes in its expression, and the significant correlation of the expression changes of an unusually high number of targets, may indicate that <italic>POGZ</italic> has a functional role in cancer biology. The datasets in which <italic>POGZ</italic> showed significant aCGH/expression correlation corresponded to the following tissues and cancer pathologies: Breast (ER+, ERBB2 amplified, Inflammatory), Head and Neck Squamous Cell, Lung Adenocarcinoma, Lymphoma, Multiple Myeloma, Osteosarcoma, Ovarian, Pancreatic, Prostate and Urothelial.</p>\\n          <p><italic>RBBP5 (RB Binding Protein 5)</italic> has significant self-correlation in 16 datasets. It is known to be involved in signaling by Wnt, and in Reactome it is annotated with the pathway &#8216;Formation of the beta-catenin:TCF transactivating complex&#8217;, as is one of its two significant best targets, <italic>SETDB2</italic>. Its other significant best target is <italic>SLTM</italic>. If the less stringent condition for <italic>RBBP5</italic> to be the best regulator is applied then a further significant best target, <italic>CDCA5</italic>, is included in the pathway.</p>\\n          <p><italic>WWOX (WW Domain Containing Oxidoreductase)</italic> has significant self-correlation in 16 datasets. &#8216;Formation of the beta-catenin:TCF transactivating complex&#8217;, is an enriched pathway for <italic>WWOX</italic> due to its predicted significant best target <italic>LEF1</italic>. This prediction agrees with prior knowledge of <italic>WWOX</italic> in that it has a known regulatory relationship with <italic>LEF1</italic> involving the beta-catenin pathway. That is, <italic>WWOX</italic> interacts with <italic>DVL2</italic>, inhibiting the function of <italic>DVL2</italic> in controlling the transcriptional activity of <italic>LEF1</italic>, and also by interacting with a cofactor of the Wnt/beta-catenin pathway, BCL9-2, to enhance the activity of the beta-catenin-TCF/LEF transcription factor complexes [<xref rid=\"pone.0213221.ref078\" ref-type=\"bibr\">78</xref>, <xref rid=\"pone.0213221.ref079\" ref-type=\"bibr\">79</xref>]. <italic>WWOX</italic> is also known to act as a tumor suppressor [<xref rid=\"pone.0213221.ref080\" ref-type=\"bibr\">80</xref>].</p>\\n          <p>If the less stringent condition for <italic>WWOX</italic> to be the best regulator is applied then five further significant best targets are included in the pathway, in addition to <italic>LEF1</italic>, namely <italic>SUV39H1</italic>, <italic>TLE1</italic>, <italic>SIN3A</italic>, <italic>KDM4B</italic> and <italic>RCL1</italic>. None are annotated with this pathway but they are associated with the pathway by the enrichment analysis as either enriched centres or connected to enriched centres. Overexpression of <italic>SUV39H1</italic> is known to be associated with cell proliferation in cancer [<xref rid=\"pone.0213221.ref081\" ref-type=\"bibr\">81</xref>]. <italic>SIN3A</italic> is downregulated in a variety of cancers and is thought to influence a specific step of tumorgenesis in part via the beta-catenin pathway [<xref rid=\"pone.0213221.ref082\" ref-type=\"bibr\">82</xref>]. <italic>KDM4B</italic> overexpression contributes to the genesis of colorectal tumors via its role in beta-catenin mediated gene transcription [<xref rid=\"pone.0213221.ref083\" ref-type=\"bibr\">83</xref>].</p>\\n          <p><italic>CPEB4 (Cytoplasmic Polyadenylation Element Binding Protein 4)</italic> has significant self-correlation in 9 of the datasets and has &#8216;Formation of the beta-catenin:TCF transactivating complex&#8217; as an enriched pathway through its significant best target <italic>TCF7L2</italic>. In Reactome <italic>CPEB4</italic> is not connected to members of the pathway. Besides <italic>TCF7L2</italic> it has four other significant best targets, namely <italic>NQO2</italic>, <italic>CES4A</italic>, <italic>TET1</italic> and <italic>ZNF26</italic>. <italic>CES4A</italic> has no path to the pathway in Reactome, indicating that it may be a novel member of this pathway. If the less stringent condition is applied then the gene <italic>CROT</italic> is also a significant target of <italic>CPEB4</italic> in this pathway.</p>\\n          <p><italic>CPEB4</italic> has been shown to have a role in oncogenesis through translational activation of mRNAs that are normally silenced [<xref rid=\"pone.0213221.ref084\" ref-type=\"bibr\">84</xref>]. Silencing of <italic>CPEB4</italic> prevents cell invasion and migration in non-small cell lung cancer [<xref rid=\"pone.0213221.ref085\" ref-type=\"bibr\">85</xref>]. High <italic>CPEB4</italic> expression can serve as a prognostic factor in invasive ductal breast carcinoma [<xref rid=\"pone.0213221.ref086\" ref-type=\"bibr\">86</xref>]. The related gene <italic>CPEB1</italic> regulates beta-catenin mRNA translation [<xref rid=\"pone.0213221.ref087\" ref-type=\"bibr\">87</xref>].</p>\\n          <p><italic>MYC (MYC Proto-Oncogene)</italic> has significant self-correlation in 8 of the datasets and is known to be part of the pathway &#8216;Formation of the beta-catenin:TCF transactivating complex&#8217;. Similarly <italic>PYGO2 (Pygopus Family PHD Finger 2)</italic>, with significant self-correlation in 7 datasets, is also annotated with this pathway in Reactome.</p>\\n        </sec>\\n        <sec id=\"sec013\">\\n          <title>Pathway example 2: RUNX1 regulates genes involved in megakaryocyte differentiation and platelet function</title>\\n          <p>RUNX1 is a transcription factor, known to be essential for the maturation of megakaryocytes [<xref rid=\"pone.0213221.ref088\" ref-type=\"bibr\">88</xref>]. It is known as a tumor suppressor in leukemia but has recently been implicated to have a role in other cancer types [<xref rid=\"pone.0213221.ref089\" ref-type=\"bibr\">89</xref>, <xref rid=\"pone.0213221.ref090\" ref-type=\"bibr\">90</xref>]. A total of eleven regulators have their target lists enriched with this pathway in Metamatched, namely <italic>POGZ</italic> (20), <italic>ANKRD46</italic> (17), <italic>RBBP5</italic> (16), <italic>KMT2E</italic> (9), <italic>DAAM2</italic> (4), <italic>LYL1</italic> (3), <italic>ZNF446</italic> (3), <italic>HOXD9</italic> (2), <italic>NIPAL4</italic> (2), <italic>HIST2H2BE</italic> (2) and <italic>RAB3A</italic> (2).</p>\\n          <p><italic>POGZ (Pogo Transposable Element Derived With ZNF Domain)</italic>: There is no path in Reactome from <italic>POGZ</italic> to members of the pathway &#8216;RUNX1 regulates genes involved in megakaryocyte differentiation&#8217; however it has been shown that <italic>POGZ</italic> is highly expressed in mouse megakaryocyte erythroid progenitors [<xref rid=\"pone.0213221.ref071\" ref-type=\"bibr\">71</xref>].</p>\\n          <p>Five of the thirty three significant best targets of <italic>POGZ</italic> are associated with the pathway in the enrichment analysis. Of the five, <italic>KMT2A</italic> is annotated with this pathway in Reactome, <italic>EP400</italic> and <italic>YY1</italic> are at the centres of enriched local subnetworks, and <italic>SMC4</italic> and <italic>TRRAP</italic> are part of enriched local subnetworks. Of the remaining 28, 11 do not currently appear in Reactome, one occurs but has no path to any members of the pathway, and 14 do have paths to members of this pathway. If the less stringent condition for a regulator to be the best regulator is applied then a further four significant best targets are associated with the pathway, namely <italic>MORF4L1</italic>, <italic>MORF4L2</italic>, <italic>MTA1</italic> and <italic>YEATS2</italic>.</p>\\n          <p><italic>ANKRD46 (Ankyrin Repeat Domain 46)</italic> is also not known to be part of this pathway, but is associated in this analysis by gene <italic>KAT2B</italic> being a significant best target. Whereas, <italic>RBBP5 (RB Binding Protein 5, Histone Lysine Methyltransferase Complex Subunit)</italic> and <italic>KMT2E (Lysine Methyltransferase 2E)</italic> are both annotated with this pathway in Reactome.</p>\\n        </sec>\\n        <sec id=\"sec014\">\\n          <title>Pathway example 3: HDMs demethylate histones</title>\\n          <p>By removing methyl groups from histone proteins Histone demethylases (HDMs) contribute to epigenetic regulation by reversing histone methylation [<xref rid=\"pone.0213221.ref091\" ref-type=\"bibr\">91</xref>] and given their epigenetic role they are of interest as therapeutic targets in cancer [<xref rid=\"pone.0213221.ref092\" ref-type=\"bibr\">92</xref>].</p>\\n          <p>In Metamatched three regulators have this pathway enriched in their target lists: <italic>DERL1</italic> (21), <italic>MAN2A1</italic> (13) and <italic>POLD3</italic> (11). <xref ref-type=\"fig\" rid=\"pone.0213221.g006\">Fig 6</xref> shows a simplified pathway diagram derived by amalgamating the results of the enrichment analysis for these three regulators.</p>\\n          <fig id=\"pone.0213221.g006\" orientation=\"portrait\" position=\"float\">\\n            <object-id pub-id-type=\"doi\">10.1371/journal.pone.0213221.g006</object-id>\\n            <label>Fig 6</label>\\n            <caption>\\n              <title>DERL1, MAN2A1 and POLD3: HDMs demethylate histones.</title>\\n              <p>Simplified diagram of the pathway &#8216;HDMs demethylate histones&#8217; fusing the results of the enrichment analysis for regulators DERL1, MAN2A1 and POLD3. Key to nodes and edges as in <xref ref-type=\"fig\" rid=\"pone.0213221.g005\">Fig 5</xref> with the addition of: Nodes: Red = regulator, White = target, not significant.</p>\\n            </caption>\\n            <graphic xlink:href=\"pone.0213221.g006\"/>\\n          </fig>\\n          <p><italic>DERL1 (Derlin1)</italic> is a component of the endoplasmic reticulum-associated mechanism for the degradation of misfolded proteins. It demonstrates significant self correlation in 21 of the datasets and has 3 significant best targets, <italic>JMJD6</italic>, <italic>ZKSCAN7</italic> and <italic>CCPG1</italic>. Its main pathway from the enrichment analysis is &#8216;HDMs demethylate histones&#8217;. DERL1 is not known to be part of this pathway, but in Reactome it has a path to members of the pathway by way of forming a complex with RAD23B, which in turn is connected to SUMO1. Significant best target <italic>JMJD6</italic> is associated with the pathway. Of the two other significant best targets <italic>CCPG1</italic> does not currently appear in Reactome whilst <italic>ZKSCAN7</italic> does have a path to members of this pathway. If the stringency of the condition for a regulator to be a target&#8217;s best regulator is relaxed then <italic>POLD3</italic> is also included as a significant best target. <italic>POLD3</italic> (see below) is itself a potential regulator in the Metamatched analysis and interestingly its own target list is also enriched with the pathway &#8216;HDMs demethylate histones&#8217;.</p>\\n          <p><italic>POLD3 (DNA Polymerase Delta 3, Accessory Subunit)</italic> plays an important role in DNA replication and repair. Depletion of <italic>POLD3</italic> results in an increase in genome instability, by way of breaks, S-phase progression impairment and chromosome abnormalities [<xref rid=\"pone.0213221.ref093\" ref-type=\"bibr\">93</xref>]. It has self correlation in 11 datasets and has 7 significant best targets, one of which, <italic>PHF2</italic>, is associated with this pathway. Four of the others have some path to the pathway and two do not appear in Reactome. <italic>POLD3</italic> has a path to <italic>PHF2</italic> via <italic>POLR2A</italic>. If the less stringent condition is applied then five further significant best targets are associated with the pathway, <italic>DOT1L</italic>, <italic>RARG</italic>, <italic>SUPT5H</italic>, <italic>TAF1L</italic> and <italic>PDCD7</italic>.</p>\\n          <p><italic>MAN2A1 (Mannosidase Alpha Class 2A Member 1)</italic> has self correlation in 13 datasets and one significant best target, <italic>KDM4A</italic>. <italic>MAN2A1</italic> is not annotated with this pathway, but can be connected to members of the pathway in Reactome.</p>\\n        </sec>\\n      </sec>\\n    </sec>\\n    <sec sec-type=\"conclusions\" id=\"sec015\">\\n      <title>Discussion</title>\\n      <p>Previously we have used matched aCGH/expression datasets to predict statistically significant gene regulatory relationships [<xref rid=\"pone.0213221.ref003\" ref-type=\"bibr\">3</xref>], validated the method experimentally [<xref rid=\"pone.0213221.ref001\" ref-type=\"bibr\">1</xref>] and computationally [<xref rid=\"pone.0213221.ref002\" ref-type=\"bibr\">2</xref>]. In this context regulatory relationship refers to more than just direct casual relationships of transcription factors on targets, encompassing indirect casual relationships as well, through pathways containing intermediate regulatory steps.</p>\\n      <p>The data used in the analysis consists of more than three thousand cancer samples so in this paper we explore whether the results can provide insights into tumor biology. To this end we have carried out an exhaustive network-based pathway enrichment analysis. We concentrate on those genes that are unusual in manifesting copy number heterogeneity, and a concomitant change in expression, in many of the 45 datasets and a very wide variety of different cancer types.</p>\\n      <p>This consistent heterogeneity could indicate genes located in genomic regions which are prone to disruption in cancer cells, but this disruption occurs only sporadically amongst samples, suggesting little relevance to the actual cancer pathology. However it is known that genes are rarely altered in more than 10% of tumors for any type of cancer [<xref rid=\"pone.0213221.ref011\" ref-type=\"bibr\">11</xref>] and there is a complex interplay of alterations within pathways in cancer [<xref rid=\"pone.0213221.ref012\" ref-type=\"bibr\">12</xref>]. So disruption of more than one member of a pathway in an inconsistent manner across samples could result in that pathway being consistently disrupted in all of the samples. We plan to explore this aspect of the data further in future work since it has been recognised that phenotypic heterogeneity between tumors, in terms of the pathways disrupted, is much less than the observed genetic heterogeneity [<xref rid=\"pone.0213221.ref094\" ref-type=\"bibr\">94</xref>].</p>\\n      <p>An alternative possibility is that these genes occur in genomic regions which are disrupted consistently in the later stages of tumor development. In general the samples within an experiment will come from tumors at different stages of the disease, so the disruption to these particular genes may reflect changes that take place during the course of tumor development. In this case the disruption to regulators and their pathways might have a role in later phases of the disease, for example in the development of metastases. Along with tumor heterogeneity, metastases are a major challenge facing cancer therapy [<xref rid=\"pone.0213221.ref095\" ref-type=\"bibr\">95</xref>].</p>\\n      <p>In some cases the pathway enrichment analysis predicts known down-stream target genes of a regulator, and some examples of this feature in the Results section. In other cases however known down-stream targets are not predicted. Such missing predictions may be due to lack of predictive power of the analysis. Alternatively they may result from cellular mechanisms able to compensate for a regulator&#8217;s copy number disruption and concomitant change in expression. For example, they may represent regulator-target relationships that are highly non-linear so that large changes in a regulator&#8217;s expression has little effect on down-stream components of the pathway. Activation of an alternative pathway, or pathways, that can compensate for the disruption to a pathway is another possible method for nullifying the effects of changes in a regulator&#8217;s expression.</p>\\n      <p>If cellular mechanisms are responsible, then the analysis presented here may be highlighting those regulator-target relationships that lack redundancy or any buffering process in the cell. They are relationships where disruption to the regulator&#8217;s expression, due to changes in its copy number, cannot be compensated for by the cell and so may have a real functional effect. The genetic diversity of tumors is a major problem in cancer therapy and the aim of personalized cancer therapy is to identify mutations that are clinically relevant. This involves distinguishing &#8216;driver&#8217; mutations from neutral &#8216;passenger&#8217; mutations that tend to accumulate during tumorgenesis [<xref rid=\"pone.0213221.ref011\" ref-type=\"bibr\">11</xref>, <xref rid=\"pone.0213221.ref096\" ref-type=\"bibr\">96</xref>]. If this study is highlighting functionally important regulators, then some of these may be &#8216;driver&#8217; genes whose disruption is relevant to tumor biology.</p>\\n      <p>So despite the inconsistent disruption of the copy number across samples of the genes in this study, it is possible to hypothesize that these genes could be regulators that have a role in tumor biology. The pathway memberships predicted by the network analysis of the meta-analysis results do suggest a close involvement of some of these genes in known cancer pathways. This includes genes for which there is currently little or no information on their relevance to cancer, especially multiple types of cancer, but which have cancer related pathways enriched in the target lists predicted for them by the meta-analysis of matched experiments.</p>\\n      <p>The pathway enrichment analysis shows some interesting examples of direct validation, for example the relationship between <italic>WWOX</italic> and <italic>LEF1</italic> in the beta-catenin pathway, and circumstantial validation, for example the enrichment of the target list of <italic>POGZ</italic> with the megakaryocytes and beta-catenin pathways.</p>\\n      <p>In order to reduce false positives we use high confidence levels and a stringent condition as to whether a regulator is the best regulator for a target in our analysis. Inevitably the stringency may remove some true positives. An example can be seen in the results for the regulator <italic>WWOX</italic> where applying the less stringent condition reveals further significant best targets known to be involved with beta-catenin pathways. Consequently the Metamatched database also provides the significant targets of a regulator found using the less stringent condition for a regulator to be the best regulator of a target.</p>\\n      <p>The work highlights those genes disrupted in many of the datasets. One of the most interesting of these regulators is <italic>POGZ</italic>. It stands out in having self aCGH/expression correlation in a large number of datasets and cancer types, and also an unusually high number of predicted significant targets (<xref ref-type=\"fig\" rid=\"pone.0213221.g003\">Fig 3</xref>) and some novel enriched pathways. Whilst not connected in Reactome to these pathways, and not yet well characterised in the literature, prior knowledge of the role of the gene <italic>POGZ</italic> does provide some support for the enriched pathways predicted by the network analysis presented here.</p>\\n      <p>A major advantage of the analytical approach used, that is correlation of aCGH with expression, is that it avoids the risk of confounding that can occur when using the correlation of expression profiles alone. One problem of the analysis is the potential difficulty of distinguishing the targets of two regulators which are neighbours in the genome and are often co-disrupted. The more datasets in which a regulator demonstrates copy number disruption, the less likely this will occur. The relationships that can be investigated are also necessarily constrained by the probes that are available on the arrays used in the experiments.</p>\\n      <p>The aim of the predictions in the Metamatched database is to inform experiments and provide information for generating gene regulatory networks. Since our analysis builds on the causal influence of the regulator gene on its target, the predictions of pathway membership may help to infer the downstream effects of drugs on their targets.</p>\\n      <p>As discussed in more detail in our previous publication [<xref rid=\"pone.0213221.ref003\" ref-type=\"bibr\">3</xref>] it is possible that some of the predicted relationships in this study have arisen through a confounding factor as part of some as yet poorly understood or unknown genetic mechanisms. For example histone modification regulated by microRNAs promoting copy number variation [<xref rid=\"pone.0213221.ref097\" ref-type=\"bibr\">97</xref>, <xref rid=\"pone.0213221.ref098\" ref-type=\"bibr\">98</xref>] or hypoxia-dependent copy gain [<xref rid=\"pone.0213221.ref099\" ref-type=\"bibr\">99</xref>] are possible mechanisms by which confounding could occur. This means that as well as detecting direct interactions, and indirect ones through pathways, the analysis may be detecting subtler genomic effects, which cannot be isolated with current knowledge.</p>\\n      <p>In future work we plan to explore whether the inconsistent genomic disruption of multiple genes within a dataset leads to a more consistent phenotypic disruption of the samples in terms of pathways altered. It would be interesting to identify which subsets of regulators are required to be altered to consistently perturb a particular pathway within a dataset, where these genes are positioned in the pathway and what role they perform there. We also plan to update the METAMATCHED database in line with updates to PathwayCommons, GO and cocitation information, and to integrate the results with other oncogenomics databases. In addition there are alternative analysis methods which could be employed, for example, Pearson correlation, or maximal information-based nonparametric exploration statistics [<xref rid=\"pone.0213221.ref100\" ref-type=\"bibr\">100</xref>], a technique designed to cope with non-linearities in the data being analysed.</p>\\n    </sec>\\n    <sec sec-type=\"conclusions\" id=\"sec016\">\\n      <title>Conclusion</title>\\n      <p>We have added information from an exhaustive network-based pathway enrichment analysis to METAMATCHED, a database of statistically significant regulator-target predictions. In this paper we explore the relevance of these results to tumor biology. We have concentrated on genes exhibiting consistent heterogeneous copy number disruption and presented arguments why these genes could be of relevance to cancer pathways, which appear to be supported by the pathway enrichment results. The wealth of predicted regulatory relationships and pathway memberships contained in the Metamatched database provide pointers as to possible experiments that could clarify their role in cancer. We demonstrate how the predictions contained in the database can be useful in informing experiments and extending networks of regulatory relationships. We provide some interesting examples of this process, in particular for the gene <italic>POGZ</italic>.</p>\\n    </sec>\\n    <sec sec-type=\"supplementary-material\" id=\"sec017\">\\n      <title>Supporting information</title>\\n      <supplementary-material content-type=\"local-data\" id=\"pone.0213221.s001\">\\n        <label>S1 File</label>\\n        <caption>\\n          <title>Supplementary information for methods and results sections.</title>\\n          <p>(PDF)</p>\\n        </caption>\\n        <media xlink:href=\"pone.0213221.s001.pdf\">\\n          <caption>\\n            <p>Click here for additional data file.</p>\\n          </caption>\\n        </media>\\n      </supplementary-material>\\n      <supplementary-material content-type=\"local-data\" id=\"pone.0213221.s002\">\\n        <label>S2 File</label>\\n        <caption>\\n          <title>Summary results for 2172 regulators.</title>\\n          <p>A spreadsheet that summarises the Metamatched results for 2172 regulators that have at least one significant predicted target (adjusted <italic>p</italic>-value &lt; 0.1).</p>\\n          <p>(CSV)</p>\\n        </caption>\\n        <media xlink:href=\"pone.0213221.s002.csv\">\\n          <caption>\\n            <p>Click here for additional data file.</p>\\n          </caption>\\n        </media>\\n      </supplementary-material>\\n      <supplementary-material content-type=\"local-data\" id=\"pone.0213221.s003\">\\n        <label>S3 File</label>\\n        <caption>\\n          <title>Complete results for 2172 regulators.</title>\\n          <p>Results for 2172 genes, in R archive format. Unpacks as an R list object named &#8216;regulators.details&#8217; with a format described in <xref ref-type=\"supplementary-material\" rid=\"pone.0213221.s001\">S1 File</xref>.</p>\\n          <p>(RDATA)</p>\\n        </caption>\\n        <media xlink:href=\"pone.0213221.s003.Rdata\">\\n          <caption>\\n            <p>Click here for additional data file.</p>\\n          </caption>\\n        </media>\\n      </supplementary-material>\\n      <supplementary-material content-type=\"local-data\" id=\"pone.0213221.s004\">\\n        <label>S4 File</label>\\n        <caption>\\n          <title>Supplementary tables.</title>\\n          <p>(PDF)</p>\\n        </caption>\\n        <media xlink:href=\"pone.0213221.s004.pdf\">\\n          <caption>\\n            <p>Click here for additional data file.</p>\\n          </caption>\\n        </media>\\n      </supplementary-material>\\n      <supplementary-material content-type=\"local-data\" id=\"pone.0213221.s005\">\\n        <label>S5 File</label>\\n        <caption>\\n          <title>Supplementary results&#8212;Network analysis.</title>\\n          <p>(PDF)</p>\\n        </caption>\\n        <media xlink:href=\"pone.0213221.s005.pdf\">\\n          <caption>\\n            <p>Click here for additional data file.</p>\\n          </caption>\\n        </media>\\n      </supplementary-material>\\n    </sec>\\n  </body>\\n  <back>\\n    <ref-list>\\n      <title>References</title>\\n      <ref id=\"pone.0213221.ref001\">\\n        <label>1</label>\\n        <mixed-citation publication-type=\"journal\">\\n<name><surname>Goh</surname><given-names>XY</given-names></name>, <name><surname>Newton</surname><given-names>R</given-names></name>, <name><surname>Wernisch</surname><given-names>L</given-names></name>, <name><surname>Fitzgerald</surname><given-names>R</given-names></name>. <article-title>Testing the Utility of an Integrated Analysis of Copy Number and Transcriptomics Datasets for Inferring Gene Regulatory Relationships</article-title>. <source>PLoSONE</source>. <year>2013</year>;<volume>8</volume>:<fpage>e63780</fpage>\\n<pub-id pub-id-type=\"doi\">10.1371/journal.pone.0063780</pub-id></mixed-citation>\\n      </ref>\\n      <ref id=\"pone.0213221.ref002\">\\n        <label>2</label>\\n        <mixed-citation publication-type=\"journal\">\\n<name><surname>Newton</surname><given-names>R</given-names></name>, <name><surname>Wernisch</surname><given-names>L</given-names></name>. <article-title>A Meta-Analysis of Multiple Matched Copy Number and Transcriptomics Data Sets for Inferring Gene Regulatory Relationships</article-title>. <source>PLoS ONE</source>. <year>2014</year>;<volume>9</volume>(<issue>8</issue>):<fpage>e105522</fpage>\\n<pub-id pub-id-type=\"doi\">10.1371/journal.pone.0105522</pub-id>\\n<pub-id pub-id-type=\"pmid\">25148247</pub-id></mixed-citation>\\n      </ref>\\n      <ref id=\"pone.0213221.ref003\">\\n        <label>3</label>\\n        <mixed-citation publication-type=\"journal\">\\n<name><surname>Newton</surname><given-names>R</given-names></name>, <name><surname>Wernisch</surname><given-names>L</given-names></name>. <article-title>Investigating inter-chromosomal regulatory relationships through a comprehensive meta-analysis of matched copy number and transcriptomics data sets</article-title>. <source>BMC Genomics</source>. <year>2015</year>;<volume>16</volume>(<issue>1</issue>):<fpage>967</fpage>\\n<pub-id pub-id-type=\"doi\">10.1186/s12864-015-2100-5</pub-id>\\n<pub-id pub-id-type=\"pmid\">26581858</pub-id></mixed-citation>\\n      </ref>\\n      <ref id=\"pone.0213221.ref004\">\\n        <label>4</label>\\n        <mixed-citation publication-type=\"other\">Newton R, Wernisch L. METAMATCHED; 2018. Available from: <ext-link ext-link-type=\"uri\" xlink:href=\"http://sysbio.mrc-bsu.cam.ac.uk/METAMATCHED\">http://sysbio.mrc-bsu.cam.ac.uk/METAMATCHED</ext-link>.</mixed-citation>\\n      </ref>\\n      <ref id=\"pone.0213221.ref005\">\\n        <label>5</label>\\n        <mixed-citation publication-type=\"journal\">\\n<name><surname>Huang</surname><given-names>N</given-names></name>, <name><surname>Shah</surname><given-names>PK</given-names></name>, <name><surname>Li</surname><given-names>C</given-names></name>. <article-title>Lessons from a decade of integrating cancer copy number alterations with gene expression profiles</article-title>. <source>Briefings in Bioinformatics</source>. <year>2011</year>;<volume>13</volume>:<fpage>305</fpage>&#8211;<lpage>316</lpage>. <pub-id pub-id-type=\"doi\">10.1093/bib/bbr056</pub-id>\\n<pub-id pub-id-type=\"pmid\">21949216</pub-id></mixed-citation>\\n      </ref>\\n      <ref id=\"pone.0213221.ref006\">\\n        <label>6</label>\\n        <mixed-citation publication-type=\"journal\">\\n<name><surname>Lahti</surname><given-names>L</given-names></name>, <name><surname>Sch&#228;fer</surname><given-names>M</given-names></name>, <name><surname>Klein</surname><given-names>HU</given-names></name>, <name><surname>Bicciato</surname><given-names>S</given-names></name>, <name><surname>Dugas</surname><given-names>M</given-names></name>. <article-title>Cancer gene prioritization by integrative analysis of mRNA expression and DNA copy number data: a comparative review</article-title>. <source>Briefings in Bioinformatics</source>. <year>2012</year>\\n<pub-id pub-id-type=\"doi\">10.1093/bib/bbs005</pub-id>\\n<pub-id pub-id-type=\"pmid\">22441573</pub-id></mixed-citation>\\n      </ref>\\n      <ref id=\"pone.0213221.ref007\">\\n        <label>7</label>\\n        <mixed-citation publication-type=\"journal\">\\n<name><surname>Beroukhim</surname><given-names>R</given-names></name>, <name><surname>Mermel</surname><given-names>CH</given-names></name>, <name><surname>Porter</surname><given-names>D</given-names></name>, <name><surname>Wei</surname><given-names>G</given-names></name>, <name><surname>Raychaudhuri</surname><given-names>S</given-names></name>, <name><surname>Donovan</surname><given-names>J</given-names></name>, <etal>et al</etal>\\n<article-title>The landscape of somatic copy-number alteration across human cancers</article-title>. <source>Nature</source>. <year>2010</year>;<volume>463</volume>:<fpage>899</fpage>&#8211;<lpage>905</lpage>. <pub-id pub-id-type=\"doi\">10.1038/nature08822</pub-id>\\n<pub-id pub-id-type=\"pmid\">20164920</pub-id></mixed-citation>\\n      </ref>\\n      <ref id=\"pone.0213221.ref008\">\\n        <label>8</label>\\n        <mixed-citation publication-type=\"journal\">\\n<name><surname>Cerami</surname><given-names>EG</given-names></name>, <name><surname>Gross</surname><given-names>BE</given-names></name>, <name><surname>Demir</surname><given-names>E</given-names></name>, <name><surname>Rodchenkov</surname><given-names>I</given-names></name>, <name><surname>Babur</surname><given-names>O</given-names></name>, <name><surname>Anwar</surname><given-names>N</given-names></name>, <etal>et al</etal>\\n<article-title>Pathway Commons, a web resource for biological pathway data</article-title>. <source>Nucleic Acids Research</source>. <year>2011</year>;<volume>39</volume>(<issue>suppl_1</issue>):<fpage>D685</fpage>&#8211;<lpage>D690</lpage>. <pub-id pub-id-type=\"doi\">10.1093/nar/gkq1039</pub-id>\\n<pub-id pub-id-type=\"pmid\">21071392</pub-id></mixed-citation>\\n      </ref>\\n      <ref id=\"pone.0213221.ref009\">\\n        <label>9</label>\\n        <mixed-citation publication-type=\"journal\">\\n<name><surname>Gwinner</surname><given-names>F</given-names></name>, <name><surname>Boulday</surname><given-names>G</given-names></name>, <name><surname>Vandiedonck</surname><given-names>C</given-names></name>, <name><surname>Arnould</surname><given-names>M</given-names></name>, <name><surname>Cardoso</surname><given-names>C</given-names></name>, <name><surname>Nikolayeva</surname><given-names>I</given-names></name>, <etal>et al</etal>\\n<article-title>Network-based analysis of omics data: the LEAN method</article-title>. <source>Bioinformatics</source>. <year>2017</year>;<volume>33</volume>(<issue>5</issue>):<fpage>701</fpage>&#8211;<lpage>709</lpage>. <pub-id pub-id-type=\"doi\">10.1093/bioinformatics/btw676</pub-id>\\n<pub-id pub-id-type=\"pmid\">27797778</pub-id></mixed-citation>\\n      </ref>\\n      <ref id=\"pone.0213221.ref010\">\\n        <label>10</label>\\n        <mixed-citation publication-type=\"other\">R Core Team. R: A Language and Environment for Statistical Computing; 2018. Available from: <ext-link ext-link-type=\"uri\" xlink:href=\"http://www.R-project.org/\">http://www.R-project.org/</ext-link>.</mixed-citation>\\n      </ref>\\n      <ref id=\"pone.0213221.ref011\">\\n        <label>11</label>\\n        <mixed-citation publication-type=\"journal\">\\n<name><surname>Mroz</surname><given-names>EA</given-names></name>, <name><surname>Rocco</surname><given-names>JW</given-names></name>. <article-title>The challenges of tumor genetic diversity</article-title>. <source>Cancer</source>. <year>2017</year>;<volume>123</volume>(<issue>6</issue>):<fpage>917</fpage>&#8211;<lpage>927</lpage>. <pub-id pub-id-type=\"doi\">10.1002/cncr.30430</pub-id>\\n<pub-id pub-id-type=\"pmid\">27861749</pub-id></mixed-citation>\\n      </ref>\\n      <ref id=\"pone.0213221.ref012\">\\n        <label>12</label>\\n        <mixed-citation publication-type=\"journal\">\\n<name><surname>Sanchez-Vega</surname><given-names>F</given-names></name>, <name><surname>Mina</surname><given-names>M</given-names></name>, <name><surname>Armenia</surname><given-names>J</given-names></name>, <name><surname>Chatila</surname><given-names>W</given-names></name>, <name><surname>Luna</surname><given-names>A</given-names></name>, <name><surname>La</surname><given-names>K</given-names></name>, <etal>et al</etal>\\n<article-title>Oncogenic Signaling Pathways in The Cancer Genome Atlas</article-title>. <source>Cell</source>. <year>2018</year>;<volume>173</volume>(<issue>2</issue>):<fpage>321</fpage>&#8211;<lpage>337</lpage>. <pub-id pub-id-type=\"doi\">10.1016/j.cell.2018.03.035</pub-id>\\n<pub-id pub-id-type=\"pmid\">29625050</pub-id></mixed-citation>\\n      </ref>\\n      <ref id=\"pone.0213221.ref013\">\\n        <label>13</label>\\n        <mixed-citation publication-type=\"journal\">\\n<name><surname>Parris</surname><given-names>TZ</given-names></name>, <name><surname>Danielsson</surname><given-names>A</given-names></name>, <name><surname>Nemes</surname><given-names>S</given-names></name>, <name><surname>Kov&#225;cs</surname><given-names>A</given-names></name>, <name><surname>Delle</surname><given-names>U</given-names></name>, <name><surname>Fallenius</surname><given-names>G</given-names></name>, <etal>et al</etal>\\n<article-title>Clinical Implications of Gene Dosage and Gene Expression Patterns in Diploid Breast Carcinoma</article-title>. <source>Clinical Cancer Research</source>. <year>2010</year>;<volume>16</volume>:<fpage>3860</fpage>&#8211;<lpage>3874</lpage>. <pub-id pub-id-type=\"doi\">10.1158/1078-0432.CCR-10-0889</pub-id>\\n<pub-id pub-id-type=\"pmid\">20551037</pub-id></mixed-citation>\\n      </ref>\\n      <ref id=\"pone.0213221.ref014\">\\n        <label>14</label>\\n        <mixed-citation publication-type=\"journal\">\\n<name><surname>Crowder</surname><given-names>RJ</given-names></name>, <name><surname>Phommaly</surname><given-names>C</given-names></name>, <name><surname>Tao</surname><given-names>Y</given-names></name>, <name><surname>Hoog</surname><given-names>J</given-names></name>, <name><surname>Luo</surname><given-names>J</given-names></name>, <name><surname>Perou</surname><given-names>CM</given-names></name>, <etal>et al</etal>\\n<article-title>PIK3CA and PIK3CB Inhibition Produce Synthetic Lethality when Combined with Estrogen Deprivation in Estrogen Receptor&#8211;Positive Breast Cancer</article-title>. <source>Cancer Research</source>. <year>2009</year>;<volume>69</volume>:<fpage>3955</fpage>&#8211;<lpage>3962</lpage>. <pub-id pub-id-type=\"doi\">10.1158/0008-5472.CAN-08-4450</pub-id>\\n<pub-id pub-id-type=\"pmid\">19366795</pub-id></mixed-citation>\\n      </ref>\\n      <ref id=\"pone.0213221.ref015\">\\n        <label>15</label>\\n        <mixed-citation publication-type=\"journal\">\\n<name><surname>Sircoulomb</surname><given-names>F</given-names></name>, <name><surname>Bekhouche</surname><given-names>I</given-names></name>, <name><surname>Finetti</surname><given-names>P</given-names></name>, <name><surname>Ad&#233;la&#239;de</surname><given-names>J</given-names></name>, <name><surname>Hamida</surname><given-names>AB</given-names></name>, <name><surname>Bonansea</surname><given-names>J</given-names></name>, <etal>et al</etal>\\n<article-title>Genome profiling of ERBB2-amplified breast cancers</article-title>. <source>BMC Cancer</source>. <year>2010</year>;<volume>10</volume>:<fpage>539</fpage>\\n<pub-id pub-id-type=\"doi\">10.1186/1471-2407-10-539</pub-id>\\n<pub-id pub-id-type=\"pmid\">20932292</pub-id></mixed-citation>\\n      </ref>\\n      <ref id=\"pone.0213221.ref016\">\\n        <label>16</label>\\n        <mixed-citation publication-type=\"journal\">\\n<name><surname>Myllykangas</surname><given-names>S</given-names></name>, <name><surname>Junnila</surname><given-names>S</given-names></name>, <name><surname>Kokkola</surname><given-names>A</given-names></name>, <name><surname>Autio</surname><given-names>R</given-names></name>, <name><surname>Scheinin</surname><given-names>I</given-names></name>, <name><surname>Kiviluoto</surname><given-names>T</given-names></name>, <etal>et al</etal>\\n<article-title>Integrated gene copy number and expression microarray analysis of gastric cancer highlights potential target genes</article-title>. <source>Int J Cancer</source>. <year>2008</year>;<volume>123</volume>:<fpage>817</fpage>&#8211;<lpage>825</lpage>. <pub-id pub-id-type=\"doi\">10.1002/ijc.23574</pub-id>\\n<pub-id pub-id-type=\"pmid\">18506690</pub-id></mixed-citation>\\n      </ref>\\n      <ref id=\"pone.0213221.ref017\">\\n        <label>17</label>\\n        <mixed-citation publication-type=\"journal\">\\n<name><surname>Junnila</surname><given-names>S</given-names></name>, <name><surname>Kokkola</surname><given-names>A</given-names></name>, <name><surname>Karjalainen-Lindsberg</surname><given-names>ML</given-names></name>, <name><surname>Puolakkainen</surname><given-names>P</given-names></name>, <name><surname>Monni</surname><given-names>O</given-names></name>. <article-title>Genome-wide gene copy number and expression analysis of primary gastric tumors and gastric cancer cell lines</article-title>. <source>BMC Cancer</source>. <year>2010</year>;<volume>10</volume>:<fpage>73</fpage>\\n<pub-id pub-id-type=\"doi\">10.1186/1471-2407-10-73</pub-id>\\n<pub-id pub-id-type=\"pmid\">20187983</pub-id></mixed-citation>\\n      </ref>\\n      <ref id=\"pone.0213221.ref018\">\\n        <label>18</label>\\n        <mixed-citation publication-type=\"journal\">\\n<name><surname>Chitale</surname><given-names>D</given-names></name>, <name><surname>Gong</surname><given-names>Y</given-names></name>, <name><surname>Taylor</surname><given-names>BS</given-names></name>, <name><surname>Broderick</surname><given-names>S</given-names></name>, <name><surname>Brennan</surname><given-names>C</given-names></name>, <name><surname>Somwar</surname><given-names>R</given-names></name>, <etal>et al</etal>\\n<article-title>An integrated genomic analysis of lung cancer reveals loss of DUSP4 in EGFR-mutant tumors</article-title>. <source>Oncogene</source>. <year>2009</year>;<volume>6</volume>:<fpage>2773</fpage>&#8211;<lpage>2783</lpage>. <pub-id pub-id-type=\"doi\">10.1038/onc.2009.135</pub-id></mixed-citation>\\n      </ref>\\n      <ref id=\"pone.0213221.ref019\">\\n        <label>19</label>\\n        <mixed-citation publication-type=\"journal\">\\n<name><surname>Goh</surname><given-names>XY</given-names></name>, <name><surname>Rees</surname><given-names>JR</given-names></name>, <name><surname>Paterson</surname><given-names>AL</given-names></name>, <name><surname>Chin</surname><given-names>SF</given-names></name>, <name><surname>Marioni</surname><given-names>JC</given-names></name>, <name><surname>Save</surname><given-names>V</given-names></name>, <etal>et al</etal>\\n<article-title>Integrative analysis of array-comparative genomic hybridisation and matched gene expression profiling data reveals novel genes with prognostic significance in oesophageal adenocarcinoma</article-title>. <source>Gut</source>. <year>2011</year>;<volume>60</volume>:<fpage>1317</fpage>&#8211;<lpage>1326</lpage>. <pub-id pub-id-type=\"doi\">10.1136/gut.2010.234179</pub-id>\\n<pub-id pub-id-type=\"pmid\">21478220</pub-id></mixed-citation>\\n      </ref>\\n      <ref id=\"pone.0213221.ref020\">\\n        <label>20</label>\\n        <mixed-citation publication-type=\"journal\">\\n<name><surname>Zhou</surname><given-names>Y</given-names></name>, <name><surname>Zhang</surname><given-names>Q</given-names></name>, <name><surname>Stephens</surname><given-names>O</given-names></name>, <name><surname>Heuck</surname><given-names>CJ</given-names></name>, <name><surname>Tian</surname><given-names>E</given-names></name>, <name><surname>Sawyer</surname><given-names>JR</given-names></name>, <etal>et al</etal>\\n<article-title>Prediction of cytogenetic abnormalities with gene expression profiles</article-title>. <source>Blood</source>. <year>2012</year>;<volume>119</volume>:<fpage>e148</fpage>&#8211;<lpage>e150</lpage>. <pub-id pub-id-type=\"doi\">10.1182/blood-2011-10-388702</pub-id>\\n<pub-id pub-id-type=\"pmid\">22496154</pub-id></mixed-citation>\\n      </ref>\\n      <ref id=\"pone.0213221.ref021\">\\n        <label>21</label>\\n        <mixed-citation publication-type=\"journal\">\\n<name><surname>Shain</surname><given-names>AH</given-names></name>, <name><surname>Giacomini</surname><given-names>CP</given-names></name>, <name><surname>Matsukuma</surname><given-names>K</given-names></name>, <name><surname>Karikari</surname><given-names>CA</given-names></name>, <name><surname>Bashyam</surname><given-names>MD</given-names></name>, <name><surname>Hidalgo</surname><given-names>M</given-names></name>, <etal>et al</etal>\\n<article-title>Convergent structural alterations define SWItch/Sucrose NonFermentable (SWI/SNF) chromatin remodeler as a central tumor suppressive complex in pancreatic cancer</article-title>. <source>Proc Nat Acad Sci</source>. <year>2012</year>;<volume>109</volume>:<fpage>252</fpage>&#8211;<lpage>259</lpage>. <pub-id pub-id-type=\"doi\">10.1073/pnas.1114817109</pub-id></mixed-citation>\\n      </ref>\\n      <ref id=\"pone.0213221.ref022\">\\n        <label>22</label>\\n        <mixed-citation publication-type=\"journal\">\\n<name><surname>Vainio</surname><given-names>P</given-names></name>, <name><surname>Wolf</surname><given-names>M</given-names></name>, <name><surname>Edgren</surname><given-names>H</given-names></name>, <name><surname>He</surname><given-names>T</given-names></name>, <name><surname>Kohonen</surname><given-names>P</given-names></name>, <name><surname>Mpindi</surname><given-names>JP</given-names></name>, <etal>et al</etal>\\n<article-title>Integrative Genomic, Transcriptomic, and RNAi Analysis Indicates a Potential Oncogenic Role for FAM110B in Castration-Resistant Prostate Cancer</article-title>. <source>The Prostate</source>. <year>2012</year>;<volume>72</volume>:<fpage>789</fpage>&#8211;<lpage>802</lpage>. <pub-id pub-id-type=\"doi\">10.1002/pros.21487</pub-id>\\n<pub-id pub-id-type=\"pmid\">21919029</pub-id></mixed-citation>\\n      </ref>\\n      <ref id=\"pone.0213221.ref023\">\\n        <label>23</label>\\n        <mixed-citation publication-type=\"journal\">\\n<name><surname>Bott</surname><given-names>M</given-names></name>, <name><surname>Brevet</surname><given-names>M</given-names></name>, <name><surname>Taylor</surname><given-names>BS</given-names></name>, <name><surname>Shimizu</surname><given-names>S</given-names></name>, <name><surname>Ito</surname><given-names>T</given-names></name>, <name><surname>Wang</surname><given-names>L</given-names></name>, <etal>et al</etal>\\n<article-title>The nuclear deubiquitinase BAP1 is commonly inactivated by somatic mutations and 3p21.1 losses in malignant pleural mesothelioma</article-title>. <source>Nature Genetics</source>. <year>2011</year>;<volume>43</volume>:<fpage>668</fpage>&#8211;<lpage>674</lpage>. <pub-id pub-id-type=\"doi\">10.1038/ng.855</pub-id>\\n<pub-id pub-id-type=\"pmid\">21642991</pub-id></mixed-citation>\\n      </ref>\\n      <ref id=\"pone.0213221.ref024\">\\n        <label>24</label>\\n        <mixed-citation publication-type=\"journal\">\\n<name><surname>Bekhouche</surname><given-names>I</given-names></name>, <name><surname>Finetti</surname><given-names>P</given-names></name>, <name><surname>Adelaide</surname><given-names>J</given-names></name>, <name><surname>Ferrari</surname><given-names>A</given-names></name>, <name><surname>Tarpin</surname><given-names>C</given-names></name>, <name><surname>Charafe-Jauffret</surname><given-names>E</given-names></name>, <etal>et al</etal>\\n<article-title>High-Resolution Comparative Genomic Hybridization of Inflammatory Breast Cancer and Identification of Candidate Genes</article-title>. <source>PlosOne</source>. <year>2011</year>;<volume>6</volume>:<fpage>e16950</fpage>\\n<pub-id pub-id-type=\"doi\">10.1371/journal.pone.0016950</pub-id></mixed-citation>\\n      </ref>\\n      <ref id=\"pone.0213221.ref025\">\\n        <label>25</label>\\n        <mixed-citation publication-type=\"journal\">\\n<name><surname>Chapman</surname><given-names>MA</given-names></name>, <name><surname>Lawrence</surname><given-names>MS</given-names></name>, <name><surname>Keats</surname><given-names>JJ</given-names></name>, <name><surname>Cibulskis</surname><given-names>K</given-names></name>, <name><surname>Sougnez</surname><given-names>C</given-names></name>, <name><surname>Schinzel</surname><given-names>AC</given-names></name>, <etal>et al</etal>\\n<article-title>Initial genome sequencing and analysis of multiple myeloma</article-title>. <source>Nature</source>. <year>2011</year>;<volume>471</volume>:<fpage>467</fpage>&#8211;<lpage>472</lpage>. <pub-id pub-id-type=\"doi\">10.1038/nature09837</pub-id>\\n<pub-id pub-id-type=\"pmid\">21430775</pub-id></mixed-citation>\\n      </ref>\\n      <ref id=\"pone.0213221.ref026\">\\n        <label>26</label>\\n        <mixed-citation publication-type=\"journal\">\\n<name><surname>Ooi</surname><given-names>WF</given-names></name>, <name><surname>Re</surname><given-names>A</given-names></name>, <name><surname>Sidarovich</surname><given-names>V</given-names></name>, <name><surname>Canella</surname><given-names>V</given-names></name>, <name><surname>Arseni</surname><given-names>N</given-names></name>, <name><surname>Adami</surname><given-names>V</given-names></name>, <etal>et al</etal>\\n<article-title>Segmental Chromosome Aberrations Converge on Overexpression of Mitotic Spindle Regulatory Genes in High-Risk Neuroblastoma</article-title>. <source>Genes, Chromosomes and Cancer</source>. <year>2012</year>;<volume>51</volume>:<fpage>545</fpage>&#8211;<lpage>556</lpage>. <pub-id pub-id-type=\"doi\">10.1002/gcc.21940</pub-id>\\n<pub-id pub-id-type=\"pmid\">22337647</pub-id></mixed-citation>\\n      </ref>\\n      <ref id=\"pone.0213221.ref027\">\\n        <label>27</label>\\n        <mixed-citation publication-type=\"journal\">\\n<name><surname>Braggio</surname><given-names>E</given-names></name>, <name><surname>Keats</surname><given-names>JJ</given-names></name>, <name><surname>Leleu</surname><given-names>X</given-names></name>, <name><surname>Van Wier</surname><given-names>S</given-names></name>, <name><surname>Jimenez-Zepeda</surname><given-names>VH</given-names></name>, <name><surname>Valdez</surname><given-names>R</given-names></name>, <etal>et al</etal>\\n<article-title>Identification of Copy Number Abnormalities and Inactivating Mutations in Two Negative Regulators of Nuclear Factor-<italic>&#954;</italic>B Signaling Pathways in Waldenstr&#246;m&#8217;s Macroglobulinemia</article-title>. <source>Cancer Research</source>. <year>2009</year>;<volume>69</volume>:<fpage>3579</fpage>&#8211;<lpage>3588</lpage>. <pub-id pub-id-type=\"doi\">10.1158/0008-5472.CAN-08-3701</pub-id>\\n<pub-id pub-id-type=\"pmid\">19351844</pub-id></mixed-citation>\\n      </ref>\\n      <ref id=\"pone.0213221.ref028\">\\n        <label>28</label>\\n        <mixed-citation publication-type=\"journal\">\\n<name><surname>J&#246;nsson</surname><given-names>G</given-names></name>, <name><surname>Staaf</surname><given-names>J</given-names></name>, <name><surname>Vallon-Christersson</surname><given-names>J</given-names></name>, <name><surname>Ringn&#233;r</surname><given-names>M</given-names></name>, <name><surname>Holm</surname><given-names>K</given-names></name>, <name><surname>Hegardt</surname><given-names>C</given-names></name>, <etal>et al</etal>\\n<article-title>Genomic subtypes of breast cancer identified by array-comparative genomic hybridization display distinct molecular and clinical characteristics</article-title>. <source>Breast Cancer Research</source>. <year>2010</year>;<volume>12</volume>:<fpage>R42</fpage>\\n<pub-id pub-id-type=\"doi\">10.1186/bcr2596</pub-id>\\n<pub-id pub-id-type=\"pmid\">20576095</pub-id></mixed-citation>\\n      </ref>\\n      <ref id=\"pone.0213221.ref029\">\\n        <label>29</label>\\n        <mixed-citation publication-type=\"journal\">\\n<name><surname>Muranen</surname><given-names>TA</given-names></name>, <name><surname>Greco</surname><given-names>D</given-names></name>, <name><surname>Fagerholm</surname><given-names>R</given-names></name>, <name><surname>Kilpivaara</surname><given-names>O</given-names></name>, <name><surname>K&#228;mpj&#228;rvi</surname><given-names>K</given-names></name>, <name><surname>Aittom&#228;ki</surname><given-names>K</given-names></name>, <etal>et al</etal>\\n<article-title>Breast tumors from CHEK2 1100delC-mutation carriers: genomic landscape and clinical implications</article-title>. <source>Breast Cancer Research</source>. <year>2011</year>;<volume>13</volume>:<fpage>R90</fpage>\\n<pub-id pub-id-type=\"doi\">10.1186/bcr3015</pub-id>\\n<pub-id pub-id-type=\"pmid\">21542898</pub-id></mixed-citation>\\n      </ref>\\n      <ref id=\"pone.0213221.ref030\">\\n        <label>30</label>\\n        <mixed-citation publication-type=\"journal\">\\n<name><surname>Lindgren</surname><given-names>D</given-names></name>, <name><surname>Frigyesi</surname><given-names>A</given-names></name>, <name><surname>Gudjonsson</surname><given-names>S</given-names></name>, <name><surname>Sj&#246;dahl</surname><given-names>G</given-names></name>, <name><surname>Hallden</surname><given-names>C</given-names></name>, <name><surname>Chebil</surname><given-names>G</given-names></name>, <etal>et al</etal>\\n<article-title>Combined Gene Expression and Genomic Profiling Define Two Intrinsic Molecular Subtypes of Urothelial Carcinoma and Gene Signatures for Molecular Grading and Outcome</article-title>. <source>Cancer Research</source>. <year>2010</year>;<volume>70</volume>:<fpage>3463</fpage>&#8211;<lpage>3472</lpage>. <pub-id pub-id-type=\"doi\">10.1158/0008-5472.CAN-09-4213</pub-id>\\n<pub-id pub-id-type=\"pmid\">20406976</pub-id></mixed-citation>\\n      </ref>\\n      <ref id=\"pone.0213221.ref031\">\\n        <label>31</label>\\n        <mixed-citation publication-type=\"journal\">\\n<name><surname>Beck</surname><given-names>AH</given-names></name>, <name><surname>Lee</surname><given-names>CH</given-names></name>, <name><surname>Witten</surname><given-names>DM</given-names></name>, <name><surname>Gleason</surname><given-names>BC</given-names></name>, <name><surname>Edris</surname><given-names>B</given-names></name>, <name><surname>Espinosa</surname><given-names>I</given-names></name>, <etal>et al</etal>\\n<article-title>Discovery of molecular subtypes in leiomyosarcoma through integrative molecular profiling</article-title>. <source>Oncogene</source>. <year>2010</year>;<volume>29</volume>:<fpage>845</fpage>&#8211;<lpage>862</lpage>. <pub-id pub-id-type=\"doi\">10.1038/onc.2009.381</pub-id>\\n<pub-id pub-id-type=\"pmid\">19901961</pub-id></mixed-citation>\\n      </ref>\\n      <ref id=\"pone.0213221.ref032\">\\n        <label>32</label>\\n        <mixed-citation publication-type=\"journal\">\\n<name><surname>Toedt</surname><given-names>G</given-names></name>, <name><surname>Barbus</surname><given-names>S</given-names></name>, <name><surname>Wolter</surname><given-names>M</given-names></name>, <name><surname>Felsberg</surname><given-names>J</given-names></name>, <name><surname>Tews</surname><given-names>B</given-names></name>, <name><surname>Blond</surname><given-names>F</given-names></name>, <etal>et al</etal>\\n<article-title>Molecular signatures classify astrocytic gliomas by IDH1 mutation status</article-title>. <source>International Journal of Cancer</source>. <year>2011</year>;<volume>128</volume>:<fpage>1095</fpage>&#8211;<lpage>1103</lpage>. <pub-id pub-id-type=\"doi\">10.1002/ijc.25448</pub-id>\\n<pub-id pub-id-type=\"pmid\">20473936</pub-id></mixed-citation>\\n      </ref>\\n      <ref id=\"pone.0213221.ref033\">\\n        <label>33</label>\\n        <mixed-citation publication-type=\"journal\">\\n<name><surname>Ellis</surname><given-names>MJ</given-names></name>, <name><surname>Ding</surname><given-names>L</given-names></name>, <name><surname>Shen</surname><given-names>D</given-names></name>, <name><surname>Luo</surname><given-names>J</given-names></name>, <name><surname>Suman</surname><given-names>VJ</given-names></name>, <name><surname>Wallis</surname><given-names>JW</given-names></name>, <etal>et al</etal>\\n<article-title>Whole-genome analysis informs breast cancer response to aromatase inhibition</article-title>. <source>Nature</source>. <year>2012</year>;<volume>486</volume>:<fpage>353</fpage>&#8211;<lpage>360</lpage>. <pub-id pub-id-type=\"doi\">10.1038/nature11143</pub-id>\\n<pub-id pub-id-type=\"pmid\">22722193</pub-id></mixed-citation>\\n      </ref>\\n      <ref id=\"pone.0213221.ref034\">\\n        <label>34</label>\\n        <mixed-citation publication-type=\"journal\">\\n<name><surname>Grasso</surname><given-names>CS</given-names></name>, <name><surname>Wu</surname><given-names>YM</given-names></name>, <name><surname>Robinson</surname><given-names>DR</given-names></name>, <name><surname>Cao</surname><given-names>X</given-names></name>, <name><surname>Dhanasekaran</surname><given-names>SM</given-names></name>, <name><surname>Khan</surname><given-names>AP</given-names></name>, <etal>et al</etal>\\n<article-title>The mutational landscape of lethal castration-resistant prostate cancer</article-title>. <source>Nature</source>. <year>2012</year>;<volume>487</volume>:<fpage>239</fpage>&#8211;<lpage>243</lpage>. <pub-id pub-id-type=\"doi\">10.1038/nature11125</pub-id>\\n<pub-id pub-id-type=\"pmid\">22722839</pub-id></mixed-citation>\\n      </ref>\\n      <ref id=\"pone.0213221.ref035\">\\n        <label>35</label>\\n        <mixed-citation publication-type=\"journal\">\\n<name><surname>Lenz</surname><given-names>G</given-names></name>, <name><surname>Wright</surname><given-names>GW</given-names></name>, <name><surname>Emre</surname><given-names>NC</given-names></name>, <name><surname>Kohlhammer</surname><given-names>H</given-names></name>, <name><surname>Dave</surname><given-names>SS</given-names></name>, <name><surname>Davis</surname><given-names>RE</given-names></name>, <etal>et al</etal>\\n<article-title>Molecular subtypes of diffuse large B-cell lymphoma arise by distinct genetic pathways</article-title>. <source>Proc Natl Acad Sci U S A</source>. <year>2008</year>;<volume>105</volume>:<fpage>13520</fpage>&#8211;<lpage>13525</lpage>. <pub-id pub-id-type=\"doi\">10.1073/pnas.0804295105</pub-id>\\n<pub-id pub-id-type=\"pmid\">18765795</pub-id></mixed-citation>\\n      </ref>\\n      <ref id=\"pone.0213221.ref036\">\\n        <label>36</label>\\n        <mixed-citation publication-type=\"journal\">\\n<name><surname>Lindgren</surname><given-names>D</given-names></name>, <name><surname>Sj&#246;dahl</surname><given-names>G</given-names></name>, <name><surname>Lauss</surname><given-names>M</given-names></name>, <name><surname>Staaf</surname><given-names>J</given-names></name>, <name><surname>Chebil</surname><given-names>G</given-names></name>, <name><surname>L&#246;vgren</surname><given-names>K</given-names></name>, <etal>et al</etal>\\n<article-title>Integrated Genomic and Gene Expression Profiling Identifies Two Major Genomic Circuits in Urothelial Carcinoma</article-title>. <source>PlosOne</source>. <year>2012</year>;<volume>7</volume>:<fpage>e38863</fpage>\\n<pub-id pub-id-type=\"doi\">10.1371/journal.pone.0038863</pub-id></mixed-citation>\\n      </ref>\\n      <ref id=\"pone.0213221.ref037\">\\n        <label>37</label>\\n        <mixed-citation publication-type=\"journal\">\\n<name><surname>Micci</surname><given-names>F</given-names></name>, <name><surname>Panagopoulos</surname><given-names>I</given-names></name>, <name><surname>Haugom</surname><given-names>L</given-names></name>, <name><surname>Dahlback</surname><given-names>HS</given-names></name>, <name><surname>Pretorius</surname><given-names>ME</given-names></name>, <name><surname>Davidson</surname><given-names>B</given-names></name>, <etal>et al</etal>\\n<article-title>Genomic aberration patterns and expression profiles of squamous cell carcinomas of the vulva</article-title>. <source>Genes Chromosomes Cancer</source>. <year>2013</year>;<volume>52</volume>:<fpage>551</fpage>&#8211;<lpage>563</lpage>. <pub-id pub-id-type=\"doi\">10.1002/gcc.22053</pub-id>\\n<pub-id pub-id-type=\"pmid\">23404381</pub-id></mixed-citation>\\n      </ref>\\n      <ref id=\"pone.0213221.ref038\">\\n        <label>38</label>\\n        <mixed-citation publication-type=\"journal\">\\n<name><surname>Taylor</surname><given-names>BS</given-names></name>, <name><surname>Schultz</surname><given-names>N</given-names></name>, <name><surname>Hieronymus</surname><given-names>H</given-names></name>, <name><surname>Gopalan</surname><given-names>A</given-names></name>, <name><surname>Xiao</surname><given-names>Y</given-names></name>, <name><surname>Carver</surname><given-names>BS</given-names></name>, <etal>et al</etal>\\n<article-title>Integrative Genomic Profiling of Human Prostate Cancer</article-title>. <source>Cancer Cell</source>. <year>2010</year>;<volume>18</volume>:<fpage>11</fpage>&#8211;<lpage>22</lpage>. <pub-id pub-id-type=\"doi\">10.1016/j.ccr.2010.05.026</pub-id>\\n<pub-id pub-id-type=\"pmid\">20579941</pub-id></mixed-citation>\\n      </ref>\\n      <ref id=\"pone.0213221.ref039\">\\n        <label>39</label>\\n        <mixed-citation publication-type=\"journal\">\\n<name><surname>Coco</surname><given-names>S</given-names></name>, <name><surname>Theissen</surname><given-names>J</given-names></name>, <name><surname>Scaruffi</surname><given-names>P</given-names></name>, <name><surname>Stigliani</surname><given-names>S</given-names></name>, <name><surname>Moretti</surname><given-names>S</given-names></name>, <name><surname>Oberthuer</surname><given-names>A</given-names></name>, <etal>et al</etal>\\n<article-title>Age-dependent accumulation of genomic aberrations and deregulation of cell cycle and telomerase genes in metastatic neuroblastoma</article-title>. <source>International Journal of Cancer</source>. <year>2012</year>;<volume>131</volume>:<fpage>1591</fpage>&#8211;<lpage>1600</lpage>. <pub-id pub-id-type=\"doi\">10.1002/ijc.27432</pub-id>\\n<pub-id pub-id-type=\"pmid\">22234802</pub-id></mixed-citation>\\n      </ref>\\n      <ref id=\"pone.0213221.ref040\">\\n        <label>40</label>\\n        <mixed-citation publication-type=\"journal\">\\n<name><surname>Medina</surname><given-names>PP</given-names></name>, <name><surname>Castillo</surname><given-names>SD</given-names></name>, <name><surname>Blanco</surname><given-names>S</given-names></name>, <name><surname>Sanz-Garcia</surname><given-names>M</given-names></name>, <name><surname>Largo</surname><given-names>C</given-names></name>, <name><surname>Alvarez</surname><given-names>S</given-names></name>, <etal>et al</etal>\\n<article-title>The SRY-HMG box gene, SOX4, is a target of gene amplification at chromosome 6p in lung cancer</article-title>. <source>Human Molecular Genetics</source>. <year>2009</year>;<volume>18</volume>:<fpage>1343</fpage>&#8211;<lpage>1352</lpage>. <pub-id pub-id-type=\"doi\">10.1093/hmg/ddp034</pub-id>\\n<pub-id pub-id-type=\"pmid\">19153074</pub-id></mixed-citation>\\n      </ref>\\n      <ref id=\"pone.0213221.ref041\">\\n        <label>41</label>\\n        <mixed-citation publication-type=\"journal\">\\n<name><surname>Przybyl</surname><given-names>J</given-names></name>, <name><surname>Sciot</surname><given-names>R</given-names></name>, <name><surname>Wozniak</surname><given-names>A</given-names></name>, <name><surname>Sch&#246;ffski</surname><given-names>P</given-names></name>, <name><surname>Vanspauwen</surname><given-names>V</given-names></name>, <name><surname>Samson</surname><given-names>I</given-names></name>, <etal>et al</etal>\\n<article-title>Metastatic potential is determined early in synovial sarcoma development and reflected by tumor molecular features</article-title>. <source>The International Journal of Biochemistry &amp; Cell Biology</source>. <year>2014</year>;<volume>53</volume>(<issue>0</issue>):<fpage>505</fpage>&#8211;<lpage>513</lpage>. <pub-id pub-id-type=\"doi\">10.1016/j.biocel.2014.05.006</pub-id><pub-id pub-id-type=\"pmid\">24842110</pub-id></mixed-citation>\\n      </ref>\\n      <ref id=\"pone.0213221.ref042\">\\n        <label>42</label>\\n        <mixed-citation publication-type=\"journal\">\\n<name><surname>Huang</surname><given-names>RY</given-names></name>, <name><surname>Chen</surname><given-names>GB</given-names></name>, <name><surname>Matsumura</surname><given-names>N</given-names></name>, <name><surname>Lai</surname><given-names>HC</given-names></name>, <name><surname>Mori</surname><given-names>S</given-names></name>, <name><surname>Li</surname><given-names>J</given-names></name>, <etal>et al</etal>\\n<article-title>Histotype-specific copy-number alterations in ovarian cancer</article-title>. <source>BMC Medical Genomics</source>. <year>2012</year>;<volume>5</volume>(<issue>1</issue>):<fpage>47</fpage>\\n<pub-id pub-id-type=\"doi\">10.1186/1755-8794-5-47</pub-id>\\n<pub-id pub-id-type=\"pmid\">23078675</pub-id></mixed-citation>\\n      </ref>\\n      <ref id=\"pone.0213221.ref043\">\\n        <label>43</label>\\n        <mixed-citation publication-type=\"journal\">\\n<name><surname>Hook</surname><given-names>KE</given-names></name>, <name><surname>Garza</surname><given-names>SJ</given-names></name>, <name><surname>Lira</surname><given-names>ME</given-names></name>, <name><surname>Ching</surname><given-names>KA</given-names></name>, <name><surname>Lee</surname><given-names>NV</given-names></name>, <name><surname>Cao</surname><given-names>J</given-names></name>, <etal>et al</etal>\\n<article-title>An Integrated Genomic Approach to Identify Predictive Biomarkers of Response to the Aurora Kinase Inhibitor PF-03814735</article-title>. <source>Molecular Cancer Therapeutics</source>. <year>2012</year>;<volume>11</volume>(<issue>3</issue>):<fpage>710</fpage>&#8211;<lpage>719</lpage>. <pub-id pub-id-type=\"doi\">10.1158/1535-7163.MCT-11-0184</pub-id>\\n<pub-id pub-id-type=\"pmid\">22222631</pub-id></mixed-citation>\\n      </ref>\\n      <ref id=\"pone.0213221.ref044\">\\n        <label>44</label>\\n        <mixed-citation publication-type=\"journal\">\\n<name><surname>Monti</surname><given-names>S</given-names></name>, <name><surname>Chapuy</surname><given-names>B</given-names></name>, <name><surname>Takeyama</surname><given-names>K</given-names></name>, <name><surname>Rodig</surname><given-names>SJ</given-names></name>, <name><surname>Hao</surname><given-names>Y</given-names></name>, <name><surname>Yeda</surname><given-names>KT</given-names></name>, <etal>et al</etal>\\n<article-title>Integrative Analysis Reveals an Outcome-associated and Targetable Pattern of p53 and Cell Cycle Deregulation in Diffuse Large B-cell Lymphoma</article-title>. <source>Cancer cell</source>. <year>2012</year>;<volume>22</volume>:<fpage>359</fpage>&#8211;<lpage>372</lpage>. <pub-id pub-id-type=\"doi\">10.1016/j.ccr.2012.07.014</pub-id>\\n<pub-id pub-id-type=\"pmid\">22975378</pub-id></mixed-citation>\\n      </ref>\\n      <ref id=\"pone.0213221.ref045\">\\n        <label>45</label>\\n        <mixed-citation publication-type=\"journal\">\\n<name><surname>Ross-Adams</surname><given-names>H</given-names></name>, <name><surname>Lamb</surname><given-names>A</given-names></name>, <name><surname>Dunning</surname><given-names>M</given-names></name>, <name><surname>Halim</surname><given-names>S</given-names></name>, <name><surname>Lindberg</surname><given-names>J</given-names></name>, <name><surname>Massie</surname><given-names>CM</given-names></name>, <etal>et al</etal>\\n<article-title>Integration of copy number and transcriptomics provides risk stratification in prostate cancer: A discovery and validation cohort study</article-title>. <source>EBioMedicine</source>. <year>2015</year>;<volume>2</volume>:<fpage>1133</fpage>&#8211;<lpage>1144</lpage>. <pub-id pub-id-type=\"doi\">10.1016/j.ebiom.2015.07.017</pub-id>\\n<pub-id pub-id-type=\"pmid\">26501111</pub-id></mixed-citation>\\n      </ref>\\n      <ref id=\"pone.0213221.ref046\">\\n        <label>46</label>\\n        <mixed-citation publication-type=\"journal\">\\n<name><surname>Ramakrishna</surname><given-names>M</given-names></name>, <name><surname>Williams</surname><given-names>LH</given-names></name>, <name><surname>Boyle</surname><given-names>SE</given-names></name>, <name><surname>Bearfoot</surname><given-names>JL</given-names></name>, <name><surname>Sridhar</surname><given-names>A</given-names></name>, <name><surname>Speed</surname><given-names>TP</given-names></name>, <etal>et al</etal>\\n<article-title>Identification of Candidate Growth Promoting Genes in Ovarian Cancer through Integrated Copy Number and Expression Analysis</article-title>. <source>PLOS ONE</source>. <year>2010</year>;<volume>5</volume>(<issue>4</issue>):<fpage>1</fpage>&#8211;<lpage>12</lpage>. <pub-id pub-id-type=\"doi\">10.1371/journal.pone.0009983</pub-id></mixed-citation>\\n      </ref>\\n      <ref id=\"pone.0213221.ref047\">\\n        <label>47</label>\\n        <mixed-citation publication-type=\"journal\">\\n<name><surname>Guarneri</surname><given-names>V</given-names></name>, <name><surname>Dieci</surname><given-names>MV</given-names></name>, <name><surname>Frassoldati</surname><given-names>A</given-names></name>, <name><surname>Maiorana</surname><given-names>A</given-names></name>, <name><surname>Ficarra</surname><given-names>G</given-names></name>, <name><surname>Bettelli</surname><given-names>S</given-names></name>, <etal>et al</etal>\\n<article-title>Prospective Biomarker Analysis of the Randomized CHER-LOB Study Evaluating the Dual Anti-HER2 Treatment With Trastuzumab and Lapatinib Plus Chemotherapy as Neoadjuvant Therapy for HER2-Positive Breast Cancer</article-title>. <source>The Oncologist</source>. <year>2015</year>;<volume>20</volume>(<issue>9</issue>):<fpage>1001</fpage>&#8211;<lpage>1010</lpage>. <pub-id pub-id-type=\"doi\">10.1634/theoncologist.2015-0138</pub-id>\\n<pub-id pub-id-type=\"pmid\">26245675</pub-id></mixed-citation>\\n      </ref>\\n      <ref id=\"pone.0213221.ref048\">\\n        <label>48</label>\\n        <mixed-citation publication-type=\"journal\">\\n<name><surname>Wilkerson</surname><given-names>MD</given-names></name>, <name><surname>Yin</surname><given-names>X</given-names></name>, <name><surname>Walter</surname><given-names>V</given-names></name>, <name><surname>Zhao</surname><given-names>N</given-names></name>, <name><surname>Cabanski</surname><given-names>CR</given-names></name>, <name><surname>Hayward</surname><given-names>MC</given-names></name>, <etal>et al</etal>\\n<article-title>Differential Pathogenesis of Lung Adenocarcinoma Subtypes Involving Sequence Mutations, Copy Number, Chromosomal Instability, and Methylation</article-title>. <source>PLOS ONE</source>. <year>2012</year>;<volume>7</volume>(<issue>5</issue>):<fpage>1</fpage>&#8211;<lpage>13</lpage>. <pub-id pub-id-type=\"doi\">10.1371/journal.pone.0036530</pub-id></mixed-citation>\\n      </ref>\\n      <ref id=\"pone.0213221.ref049\">\\n        <label>49</label>\\n        <mixed-citation publication-type=\"journal\">\\n<name><surname>Donahue</surname><given-names>TR</given-names></name>, <name><surname>Tran</surname><given-names>LM</given-names></name>, <name><surname>Hill</surname><given-names>R</given-names></name>, <name><surname>Li</surname><given-names>Y</given-names></name>, <name><surname>Kovochich</surname><given-names>A</given-names></name>, <name><surname>Calvopina</surname><given-names>JH</given-names></name>, <etal>et al</etal>\\n<article-title>Integrative Survival-Based Molecular Profiling of Human Pancreatic Cancer</article-title>. <source>Clinical Cancer Research</source>. <year>2012</year>;<volume>18</volume>(<issue>5</issue>):<fpage>1352</fpage>&#8211;<lpage>1363</lpage>. <pub-id pub-id-type=\"doi\">10.1158/1078-0432.CCR-11-1539</pub-id>\\n<pub-id pub-id-type=\"pmid\">22261810</pub-id></mixed-citation>\\n      </ref>\\n      <ref id=\"pone.0213221.ref050\">\\n        <label>50</label>\\n        <mixed-citation publication-type=\"journal\">\\n<name><surname>Kuijjer</surname><given-names>ML</given-names></name>, <name><surname>Rydbeck</surname><given-names>H</given-names></name>, <name><surname>Kresse</surname><given-names>SH</given-names></name>, <name><surname>Buddingh</surname><given-names>EP</given-names></name>, <name><surname>Lid</surname><given-names>AB</given-names></name>, <name><surname>Roelofs</surname><given-names>H</given-names></name>, <etal>et al</etal>\\n<article-title>Identification of osteosarcoma driver genes by integrative analysis of copy number and gene expression data</article-title>. <source>Genes, Chromosomes and Cancer</source>. <year>2012</year>;<volume>51</volume>(<issue>7</issue>):<fpage>696</fpage>&#8211;<lpage>706</lpage>. <pub-id pub-id-type=\"doi\">10.1002/gcc.21956</pub-id>\\n<pub-id pub-id-type=\"pmid\">22454324</pub-id></mixed-citation>\\n      </ref>\\n      <ref id=\"pone.0213221.ref051\">\\n        <label>51</label>\\n        <mixed-citation publication-type=\"journal\">\\n<name><surname>Paugh</surname><given-names>BS</given-names></name>, <name><surname>Broniscer</surname><given-names>A</given-names></name>, <name><surname>Qu</surname><given-names>C</given-names></name>, <name><surname>Miller</surname><given-names>CP</given-names></name>, <name><surname>Zhang</surname><given-names>J</given-names></name>, <name><surname>Tatevossian</surname><given-names>RG</given-names></name>, <etal>et al</etal>\\n<article-title>Genome-Wide Analyses Identify Recurrent Amplifications of Receptor Tyrosine Kinases and Cell-Cycle Regulatory Genes in Diffuse Intrinsic Pontine Glioma</article-title>. <source>Journal of Clinical Oncology</source>. <year>2011</year>;<volume>29</volume>(<issue>30</issue>):<fpage>3999</fpage>&#8211;<lpage>4006</lpage>. <pub-id pub-id-type=\"doi\">10.1200/JCO.2011.35.5677</pub-id>\\n<pub-id pub-id-type=\"pmid\">21931021</pub-id></mixed-citation>\\n      </ref>\\n      <ref id=\"pone.0213221.ref052\">\\n        <label>52</label>\\n        <mixed-citation publication-type=\"journal\">\\n<name><surname>Weigelt</surname><given-names>B</given-names></name>, <name><surname>Ng</surname><given-names>C</given-names></name>, <name><surname>Shen</surname><given-names>R</given-names></name>, <name><surname>Popova</surname><given-names>T</given-names></name>, <name><surname>Schizas</surname><given-names>M</given-names></name>, <name><surname>Natrajan</surname><given-names>R</given-names></name>, <etal>et al</etal>\\n<article-title>Metastatic breast carcinomas display genomic and transcriptomic heterogeneity</article-title>. <source>Modern pathology</source>. <year>2015</year>;<volume>28</volume>(<issue>3</issue>):<fpage>340</fpage>&#8211;<lpage>351</lpage>. <pub-id pub-id-type=\"doi\">10.1038/modpathol.2014.142</pub-id>\\n<pub-id pub-id-type=\"pmid\">25412848</pub-id></mixed-citation>\\n      </ref>\\n      <ref id=\"pone.0213221.ref053\">\\n        <label>53</label>\\n        <mixed-citation publication-type=\"journal\">\\n<name><surname>Romero</surname><given-names>P</given-names></name>, <name><surname>Wagg</surname><given-names>J</given-names></name>, <name><surname>Green</surname><given-names>M</given-names></name>, <name><surname>Kaiser</surname><given-names>D</given-names></name>, <name><surname>Krummenacker</surname><given-names>M</given-names></name>, <name><surname>Karp</surname><given-names>P</given-names></name>. <article-title>Computational prediction of human metabolic pathways from the complete human genome</article-title>. <source>Genome Biology</source>. <year>2004</year>\\n<pub-id pub-id-type=\"doi\">10.1186/gb-2004-6-1-r2</pub-id>\\n<pub-id pub-id-type=\"pmid\">15642094</pub-id></mixed-citation>\\n      </ref>\\n      <ref id=\"pone.0213221.ref054\">\\n        <label>54</label>\\n        <mixed-citation publication-type=\"journal\">\\n<name><surname>Mi</surname><given-names>H</given-names></name>, <name><surname>Huang</surname><given-names>X</given-names></name>, <name><surname>Muruganujan</surname><given-names>A</given-names></name>, <name><surname>Tang</surname><given-names>H</given-names></name>, <name><surname>Mills</surname><given-names>C</given-names></name>, <name><surname>Kang</surname><given-names>D</given-names></name>, <etal>et al</etal>\\n<article-title>PANTHER version 11: expanded annotation data from Gene Ontology and Reactome pathways, and data analysis tool enhancements</article-title>. <source>Nucleic Acids Research</source>. <year>2017</year>;<volume>45</volume>(<issue>D1</issue>):<fpage>D183</fpage>&#8211;<lpage>D189</lpage>. <pub-id pub-id-type=\"doi\">10.1093/nar/gkw1138</pub-id>\\n<pub-id pub-id-type=\"pmid\">27899595</pub-id></mixed-citation>\\n      </ref>\\n      <ref id=\"pone.0213221.ref055\">\\n        <label>55</label>\\n        <mixed-citation publication-type=\"journal\">\\n<name><surname>Schaefer</surname><given-names>CF</given-names></name>, <name><surname>Anthony</surname><given-names>K</given-names></name>, <name><surname>Krupa</surname><given-names>S</given-names></name>, <name><surname>Buchoff</surname><given-names>J</given-names></name>, <name><surname>Day</surname><given-names>M</given-names></name>, <name><surname>Hannay</surname><given-names>T</given-names></name>, <etal>et al</etal>\\n<article-title>PID: the Pathway Interaction Database</article-title>. <source>Nucleic Acids Research</source>. <year>2009</year>;<volume>37</volume>(<issue>suppl_1</issue>):<fpage>D674</fpage>&#8211;<lpage>D679</lpage>. <pub-id pub-id-type=\"doi\">10.1093/nar/gkn653</pub-id>\\n<pub-id pub-id-type=\"pmid\">18832364</pub-id></mixed-citation>\\n      </ref>\\n      <ref id=\"pone.0213221.ref056\">\\n        <label>56</label>\\n        <mixed-citation publication-type=\"journal\">\\n<name><surname>Fabregat</surname><given-names>A</given-names></name>, <name><surname>Jupe</surname><given-names>S</given-names></name>, <name><surname>Matthews</surname><given-names>L</given-names></name>, <name><surname>Sidiropoulos</surname><given-names>K</given-names></name>, <name><surname>Gillespie</surname><given-names>M</given-names></name>, <name><surname>Garapati</surname><given-names>P</given-names></name>, <etal>et al</etal>\\n<article-title>The Reactome Pathway Knowledgebase</article-title>. <source>Nucleic Acids Research</source>. <year>2018</year>;<volume>46</volume>(<issue>D1</issue>):<fpage>D649</fpage>&#8211;<lpage>D655</lpage>. <pub-id pub-id-type=\"doi\">10.1093/nar/gkx1132</pub-id>\\n<pub-id pub-id-type=\"pmid\">29145629</pub-id></mixed-citation>\\n      </ref>\\n      <ref id=\"pone.0213221.ref057\">\\n        <label>57</label>\\n        <mixed-citation publication-type=\"other\">NIH. Pubmed, US National Library of Medicine, National Institutes of Health; 2018. Available from: <ext-link ext-link-type=\"uri\" xlink:href=\"http://www.ncbi.nlm.nih.gov/pubmed/\">http://www.ncbi.nlm.nih.gov/pubmed/</ext-link>.</mixed-citation>\\n      </ref>\\n      <ref id=\"pone.0213221.ref058\">\\n        <label>58</label>\\n        <mixed-citation publication-type=\"journal\">\\n<name><surname>Csardi</surname><given-names>G</given-names></name>, <name><surname>Nepusz</surname><given-names>T</given-names></name>. <article-title>The igraph software package for complex network research</article-title>. <source>InterJournal</source>. <year>2006</year>;Complex Systems:<volume>1695</volume>.</mixed-citation>\\n      </ref>\\n      <ref id=\"pone.0213221.ref059\">\\n        <label>59</label>\\n        <mixed-citation publication-type=\"journal\">\\n<name><surname>Li</surname><given-names>DM</given-names></name>, <name><surname>Sun</surname><given-names>H</given-names></name>. <article-title>TEP1, Encoded by a Candidate Tumor Suppressor Locus, Is a Novel Protein Tyrosine Phosphatase Regulated by Transforming Growth Factor <italic>&#946;</italic></article-title>. <source>Cancer Research</source>. <year>1997</year>;<volume>57</volume>(<issue>11</issue>):<fpage>2124</fpage>&#8211;<lpage>2129</lpage>. <pub-id pub-id-type=\"pmid\">9187108</pub-id></mixed-citation>\\n      </ref>\\n      <ref id=\"pone.0213221.ref060\">\\n        <label>60</label>\\n        <mixed-citation publication-type=\"journal\">\\n<name><surname>Myers</surname><given-names>MP</given-names></name>, <name><surname>Stolarov</surname><given-names>JP</given-names></name>, <name><surname>Eng</surname><given-names>C</given-names></name>, <name><surname>Li</surname><given-names>J</given-names></name>, <name><surname>Wang</surname><given-names>SI</given-names></name>, <name><surname>Wigler</surname><given-names>MH</given-names></name>, <etal>et al</etal>\\n<article-title>P-TEN, the tumor suppressor from human chromosome 10q23, is a dual-specificity phosphatase</article-title>. <source>Proceedings of the National Academy of Sciences</source>. <year>1997</year>;<volume>94</volume>(<issue>17</issue>):<fpage>9052</fpage>&#8211;<lpage>9057</lpage>. <pub-id pub-id-type=\"doi\">10.1073/pnas.94.17.9052</pub-id></mixed-citation>\\n      </ref>\\n      <ref id=\"pone.0213221.ref061\">\\n        <label>61</label>\\n        <mixed-citation publication-type=\"journal\">\\n<name><surname>Clevers</surname><given-names>H</given-names></name>. <article-title>Wnt/<italic>&#946;</italic>-Catenin Signaling in Development and Disease</article-title>. <source>Cell</source>. <year>2006</year>;<volume>127</volume>(<issue>3</issue>):<fpage>469</fpage>&#8211;<lpage>480</lpage>. <pub-id pub-id-type=\"doi\">10.1016/j.cell.2006.10.018</pub-id>. <pub-id pub-id-type=\"pmid\">17081971</pub-id></mixed-citation>\\n      </ref>\\n      <ref id=\"pone.0213221.ref062\">\\n        <label>62</label>\\n        <mixed-citation publication-type=\"journal\">\\n<name><surname>Matsumura</surname><given-names>K</given-names></name>, <name><surname>Nakazawa</surname><given-names>T</given-names></name>, <name><surname>Nagayasu</surname><given-names>K</given-names></name>, <name><surname>Gotoda-Nishimura</surname><given-names>N</given-names></name>, <name><surname>Kasai</surname><given-names>A</given-names></name>, <name><surname>Hayata-Takano</surname><given-names>A</given-names></name>, <etal>et al</etal>\\n<article-title>De novo POGZ mutations in sporadic autism disrupt the DNA-binding activity of POGZ</article-title>. <source>Journal of Molecular Psychiatry</source>. <year>2016</year>;<volume>4</volume>(<issue>1</issue>):<fpage>1</fpage>\\n<pub-id pub-id-type=\"doi\">10.1186/s40303-016-0016-x</pub-id>\\n<pub-id pub-id-type=\"pmid\">27103995</pub-id></mixed-citation>\\n      </ref>\\n      <ref id=\"pone.0213221.ref063\">\\n        <label>63</label>\\n        <mixed-citation publication-type=\"journal\">\\n<name><surname>Nozawa</surname><given-names>RS</given-names></name>, <name><surname>Nagao</surname><given-names>K</given-names></name>, <name><surname>Masuda</surname><given-names>HT</given-names></name>, <name><surname>Iwasaki</surname><given-names>O</given-names></name>, <name><surname>Hirota</surname><given-names>T</given-names></name>, <name><surname>Nozaki</surname><given-names>N</given-names></name>, <etal>et al</etal>\\n<article-title>Human POGZ modulates dissociation of HP1<italic>&#945;</italic> from mitotic chromosome arms through Aurora B activation</article-title>. <source>Nature Cell Biology</source>. <year>2010</year>;<volume>12</volume>:<fpage>719</fpage>\\n<pub-id pub-id-type=\"doi\">10.1038/ncb2075</pub-id>\\n<pub-id pub-id-type=\"pmid\">20562864</pub-id></mixed-citation>\\n      </ref>\\n      <ref id=\"pone.0213221.ref064\">\\n        <label>64</label>\\n        <mixed-citation publication-type=\"journal\">\\n<name><surname>Lempi&#228;inen</surname><given-names>J</given-names></name>, <name><surname>Niskanen</surname><given-names>E</given-names></name>, <name><surname>Vuoti</surname><given-names>KM</given-names></name>, <name><surname>Lampinen</surname><given-names>ER</given-names></name>, <name><surname>G&#246;&#246;s</surname><given-names>H</given-names></name>, <name><surname>Varjosalo</surname><given-names>M</given-names></name>, <etal>et al</etal>\\n<article-title>Agonist-specific Protein Interactomes of Glucocorticoid and Androgen Receptor as Revealed by Proximity Mapping</article-title>. <source>Molecular &amp; Cellular Proteomics</source>. <year>2017</year>;<volume>16</volume>:mcp.M117.067488.</mixed-citation>\\n      </ref>\\n      <ref id=\"pone.0213221.ref065\">\\n        <label>65</label>\\n        <mixed-citation publication-type=\"journal\">\\n<name><surname>Bartholomeeusen</surname><given-names>K</given-names></name>, <name><surname>Christ</surname><given-names>F</given-names></name>, <name><surname>Hendrix</surname><given-names>J</given-names></name>, <name><surname>Rain</surname><given-names>JC</given-names></name>, <name><surname>Emiliani</surname><given-names>S</given-names></name>, <name><surname>Benarous</surname><given-names>R</given-names></name>, <etal>et al</etal>\\n<article-title>Lens Epithelium-derived Growth Factor/p75 Interacts with the Transposase-derived DDE Domain of PogZ</article-title>. <source>Journal of Biological Chemistry</source>. <year>2009</year>;<volume>284</volume>(<issue>17</issue>):<fpage>11467</fpage>&#8211;<lpage>11477</lpage>. <pub-id pub-id-type=\"doi\">10.1074/jbc.M807781200</pub-id>\\n<pub-id pub-id-type=\"pmid\">19244240</pub-id></mixed-citation>\\n      </ref>\\n      <ref id=\"pone.0213221.ref066\">\\n        <label>66</label>\\n        <mixed-citation publication-type=\"journal\">\\n<name><surname>Tesina</surname><given-names>P</given-names></name>, <name><surname>&#268;erm&#225;kov&#225;</surname><given-names>K</given-names></name>, <name><surname>Ho&#345;ej&#353;&#237;</surname><given-names>M</given-names></name>, <name><surname>Proch&#225;zkov&#225;</surname><given-names>K</given-names></name>, <name><surname>F&#225;bry</surname><given-names>M</given-names></name>, <name><surname>Sharma</surname><given-names>S</given-names></name>, <etal>et al</etal>\\n<article-title>Multiple cellular proteins interact with LEDGF/p75 through a conserved unstructured consensus motif</article-title>. <source>Nature Communications</source>. <year>2015</year>;<volume>6</volume>:<fpage>7968</fpage>\\n<pub-id pub-id-type=\"doi\">10.1038/ncomms8968</pub-id>\\n<pub-id pub-id-type=\"pmid\">26245978</pub-id></mixed-citation>\\n      </ref>\\n      <ref id=\"pone.0213221.ref067\">\\n        <label>67</label>\\n        <mixed-citation publication-type=\"journal\">\\n<name><surname>Vermeulen</surname><given-names>M</given-names></name>, <name><surname>Eberl</surname><given-names>HC</given-names></name>, <name><surname>Matarese</surname><given-names>F</given-names></name>, <name><surname>Marks</surname><given-names>H</given-names></name>, <name><surname>Denissov</surname><given-names>S</given-names></name>, <name><surname>Butter</surname><given-names>F</given-names></name>, <etal>et al</etal>\\n<article-title>Quantitative Interaction Proteomics and Genome-wide Profiling of Epigenetic Histone Marks and Their Readers</article-title>. <source>Cell</source>. <year>2010</year>;<volume>142</volume>(<issue>6</issue>):<fpage>967</fpage>&#8211;<lpage>980</lpage>. <pub-id pub-id-type=\"doi\">10.1016/j.cell.2010.08.020</pub-id>\\n<pub-id pub-id-type=\"pmid\">20850016</pub-id></mixed-citation>\\n      </ref>\\n      <ref id=\"pone.0213221.ref068\">\\n        <label>68</label>\\n        <mixed-citation publication-type=\"journal\">\\n<name><surname>Ye</surname><given-names>Y</given-names></name>, <name><surname>Cho</surname><given-names>MT</given-names></name>, <name><surname>Retterer</surname><given-names>K</given-names></name>, <name><surname>Alexander</surname><given-names>N</given-names></name>, <name><surname>Ben-Omran</surname><given-names>T</given-names></name>, <name><surname>Al-Mureikhi</surname><given-names>M</given-names></name>, <etal>et al</etal>\\n<article-title>De novo POGZ mutations are associated with neurodevelopmental disorders and microcephaly</article-title>. <source>Cold Spring Harbor Molecular Case Studies</source>. <year>2015</year>;<volume>1</volume>(<issue>1</issue>):<fpage>a000455</fpage>\\n<pub-id pub-id-type=\"doi\">10.1101/mcs.a000455</pub-id>\\n<pub-id pub-id-type=\"pmid\">27148570</pub-id></mixed-citation>\\n      </ref>\\n      <ref id=\"pone.0213221.ref069\">\\n        <label>69</label>\\n        <mixed-citation publication-type=\"journal\">\\n<name><surname>Stessman</surname><given-names>HF</given-names></name>, <name><surname>Willemsen</surname><given-names>M</given-names></name>, <name><surname>Fenckova</surname><given-names>M</given-names></name>, <name><surname>Penn</surname><given-names>O</given-names></name>, <name><surname>Hoischen</surname><given-names>A</given-names></name>, <name><surname>Xiong</surname><given-names>B</given-names></name>, <etal>et al</etal>\\n<article-title>Disruption of POGZ Is Associated with Intellectual Disability and Autism Spectrum Disorders</article-title>. <source>The American Journal of Human Genetics</source>. <year>2016</year>;<volume>9</volume>(<issue>3</issue>):<fpage>541</fpage>&#8211;<lpage>552</lpage>. <pub-id pub-id-type=\"doi\">10.1016/j.ajhg.2016.02.004</pub-id></mixed-citation>\\n      </ref>\\n      <ref id=\"pone.0213221.ref070\">\\n        <label>70</label>\\n        <mixed-citation publication-type=\"journal\">\\n<name><surname>White</surname><given-names>J</given-names></name>, <name><surname>Beck</surname><given-names>CR</given-names></name>, <name><surname>Harel</surname><given-names>T</given-names></name>, <name><surname>Posey</surname><given-names>JE</given-names></name>, <name><surname>Jhangiani</surname><given-names>SN</given-names></name>, <name><surname>Tang</surname><given-names>S</given-names></name>, <etal>et al</etal>\\n<article-title>POGZ truncating alleles cause syndromic intellectual disability</article-title>. <source>Genome Medicine</source>. <year>2016</year>;<volume>8</volume>(<issue>1</issue>):<fpage>3</fpage>\\n<pub-id pub-id-type=\"doi\">10.1186/s13073-015-0253-0</pub-id>\\n<pub-id pub-id-type=\"pmid\">26739615</pub-id></mixed-citation>\\n      </ref>\\n      <ref id=\"pone.0213221.ref071\">\\n        <label>71</label>\\n        <mixed-citation publication-type=\"journal\">\\n<name><surname>Gudmundsdottir</surname><given-names>B</given-names></name>, <name><surname>Gudmundsson</surname><given-names>KO</given-names></name>, <name><surname>Klarmann</surname><given-names>KD</given-names></name>, <name><surname>Singh</surname><given-names>SK</given-names></name>, <name><surname>Sun</surname><given-names>L</given-names></name>, <name><surname>Singh</surname><given-names>S</given-names></name>, <etal>et al</etal>\\n<article-title>POGZ Is Required for Silencing Mouse Embryonic Beta-like Hemoglobin and Human Fetal Hemoglobin Expression</article-title>. <source>Cell Reports</source>. <year>2018</year>;<volume>23</volume>(<issue>11</issue>):<fpage>3236</fpage>&#8211;<lpage>3248</lpage>. <pub-id pub-id-type=\"doi\">10.1016/j.celrep.2018.05.043</pub-id>\\n<pub-id pub-id-type=\"pmid\">29898395</pub-id></mixed-citation>\\n      </ref>\\n      <ref id=\"pone.0213221.ref072\">\\n        <label>72</label>\\n        <mixed-citation publication-type=\"journal\">\\n<name><surname>Cotney</surname><given-names>J</given-names></name>, <name><surname>Muhle</surname><given-names>RA</given-names></name>, <name><surname>Sanders</surname><given-names>SJ</given-names></name>, <name><surname>Liu</surname><given-names>L</given-names></name>, <name><surname>Willsey</surname><given-names>AJ</given-names></name>, <name><surname>Niu</surname><given-names>W</given-names></name>, <etal>et al</etal>\\n<article-title>The autism-associated chromatin modifier CHD8 regulates other autism risk genes during human neurodevelopment</article-title>. <source>Nature Communications</source>. <year>2015</year>;<volume>6</volume> (<issue>6404</issue>). <pub-id pub-id-type=\"doi\">10.1038/ncomms7404</pub-id>\\n<pub-id pub-id-type=\"pmid\">25752243</pub-id></mixed-citation>\\n      </ref>\\n      <ref id=\"pone.0213221.ref073\">\\n        <label>73</label>\\n        <mixed-citation publication-type=\"journal\">\\n<name><surname>Thompson</surname><given-names>BA</given-names></name>, <name><surname>Tremblay</surname><given-names>V</given-names></name>, <name><surname>Lin</surname><given-names>G</given-names></name>, <name><surname>Bochar</surname><given-names>DA</given-names></name>. <article-title>CHD8 Is an ATP-Dependent Chromatin Remodeling Factor That Regulates <italic>&#946;</italic>-Catenin Target Genes</article-title>. <source>Molecular and Cellular Biology</source>. <year>2008</year>;<volume>28</volume>(<issue>12</issue>):<fpage>3894</fpage>&#8211;<lpage>3904</lpage>. <pub-id pub-id-type=\"doi\">10.1128/MCB.00322-08</pub-id>\\n<pub-id pub-id-type=\"pmid\">18378692</pub-id></mixed-citation>\\n      </ref>\\n      <ref id=\"pone.0213221.ref074\">\\n        <label>74</label>\\n        <mixed-citation publication-type=\"journal\">\\n<name><surname>O&#8217;Roak</surname><given-names>BJ</given-names></name>, <name><surname>Vives</surname><given-names>L</given-names></name>, <name><surname>Girirajan</surname><given-names>S</given-names></name>, <name><surname>Karakoc</surname><given-names>E</given-names></name>, <name><surname>Krumm</surname><given-names>N</given-names></name>, <name><surname>Coe</surname><given-names>BP</given-names></name>, <etal>et al</etal>\\n<article-title>Sporadic autism exomes reveal a highly interconnected protein network of de novo mutations</article-title>. <source>Nature</source>. <year>2012</year>;<volume>485</volume>(<issue>7397</issue>):<fpage>246</fpage>&#8211;<lpage>250</lpage>. <pub-id pub-id-type=\"doi\">10.1038/nature10989</pub-id>\\n<pub-id pub-id-type=\"pmid\">22495309</pub-id></mixed-citation>\\n      </ref>\\n      <ref id=\"pone.0213221.ref075\">\\n        <label>75</label>\\n        <mixed-citation publication-type=\"journal\">\\n<name><surname>Turner</surname><given-names>TN</given-names></name>, <name><surname>Sharma</surname><given-names>K</given-names></name>, <name><surname>Oh</surname><given-names>EC</given-names></name>, <name><surname>Liu</surname><given-names>YP</given-names></name>, <name><surname>Collins</surname><given-names>RL</given-names></name>, <name><surname>Sosa</surname><given-names>MX</given-names></name>, <etal>et al</etal>\\n<article-title>Loss of delta catenin function in severe autism</article-title>. <source>Nature</source>. <year>2015</year>;<volume>520</volume>(<issue>7545</issue>):<fpage>51</fpage>&#8211;<lpage>56</lpage>. <pub-id pub-id-type=\"doi\">10.1038/nature14186</pub-id>\\n<pub-id pub-id-type=\"pmid\">25807484</pub-id></mixed-citation>\\n      </ref>\\n      <ref id=\"pone.0213221.ref076\">\\n        <label>76</label>\\n        <mixed-citation publication-type=\"journal\">\\n<name><surname>Bernier</surname><given-names>R</given-names></name>, <name><surname>Golzio</surname><given-names>C</given-names></name>, <name><surname>Xiong</surname><given-names>B</given-names></name>, <name><surname>Stessman</surname><given-names>H</given-names></name>, <name><surname>Coe</surname><given-names>B</given-names></name>, <name><surname>Penn</surname><given-names>O</given-names></name>, <etal>et al</etal>\\n<article-title>Disruptive CHD8 Mutations Define a Subtype of Autism Early in Development</article-title>. <source>Cell</source>. <year>2014</year>;<volume>158</volume>(<issue>2</issue>):<fpage>263</fpage>&#8211;<lpage>276</lpage>. <pub-id pub-id-type=\"doi\">10.1016/j.cell.2014.06.017</pub-id>\\n<pub-id pub-id-type=\"pmid\">24998929</pub-id></mixed-citation>\\n      </ref>\\n      <ref id=\"pone.0213221.ref077\">\\n        <label>77</label>\\n        <mixed-citation publication-type=\"journal\">\\n<name><surname>Bourroul</surname><given-names>GM</given-names></name>, <name><surname>Fragoso</surname><given-names>HJ</given-names></name>, <name><surname>Gomes</surname><given-names>JWF</given-names></name>, <name><surname>Bourroul</surname><given-names>VSO</given-names></name>, <name><surname>Oshima</surname><given-names>CTF</given-names></name>, <name><surname>Gomes</surname><given-names>TS</given-names></name>, <etal>et al</etal>\\n<article-title>The destruction complex of beta-catenin in colorectal carcinoma and colonic adenoma</article-title>. <source>Einstein</source>. <year>2016</year>;<volume>14</volume>(<issue>2</issue>):<fpage>135</fpage>&#8211;<lpage>142</lpage>. <pub-id pub-id-type=\"doi\">10.1590/S1679-45082016AO3678</pub-id>\\n<pub-id pub-id-type=\"pmid\">27462886</pub-id></mixed-citation>\\n      </ref>\\n      <ref id=\"pone.0213221.ref078\">\\n        <label>78</label>\\n        <mixed-citation publication-type=\"journal\">\\n<name><surname>Bouteille</surname><given-names>N</given-names></name>, <name><surname>Driouch</surname><given-names>K</given-names></name>, <name><surname>Hage</surname><given-names>PE</given-names></name>, <name><surname>Sin</surname><given-names>S</given-names></name>, <name><surname>Formstecher</surname><given-names>E</given-names></name>, <name><surname>Camonis</surname><given-names>J</given-names></name>, <etal>et al</etal>\\n<article-title>Inhibition of the Wnt/<italic>&#946;</italic>-catenin pathway by the WWOX tumor suppressor protein</article-title>. <source>Oncogene</source>. <year>2009</year>;<volume>28</volume> (<issue>2569</issue>). <pub-id pub-id-type=\"doi\">10.1038/onc.2009.120</pub-id>\\n<pub-id pub-id-type=\"pmid\">19465938</pub-id></mixed-citation>\\n      </ref>\\n      <ref id=\"pone.0213221.ref079\">\\n        <label>79</label>\\n        <mixed-citation publication-type=\"journal\">\\n<name><surname>El-Hage</surname><given-names>P</given-names></name>, <name><surname>Petitalot</surname><given-names>A</given-names></name>, <name><surname>Monsoro-Burq</surname><given-names>AH</given-names></name>, <name><surname>Maczkowiak</surname><given-names>F</given-names></name>, <name><surname>Driouch</surname><given-names>K</given-names></name>, <name><surname>Formstecher</surname><given-names>E</given-names></name>, <etal>et al</etal>\\n<article-title>The Tumor-Suppressor WWOX and HDAC3 Inhibit the Transcriptional Activity of the <italic>&#946;</italic>-Catenin Coactivator BCL9-2 in Breast Cancer Cells</article-title>. <source>Molecular Cancer Research</source>. <year>2015</year>;<volume>13</volume>(<issue>5</issue>):<fpage>902</fpage>&#8211;<lpage>912</lpage>. <pub-id pub-id-type=\"doi\">10.1158/1541-7786.MCR-14-0180</pub-id>\\n<pub-id pub-id-type=\"pmid\">25678599</pub-id></mixed-citation>\\n      </ref>\\n      <ref id=\"pone.0213221.ref080\">\\n        <label>80</label>\\n        <mixed-citation publication-type=\"journal\">\\n<name><surname>Lo</surname><given-names>JY</given-names></name>, <name><surname>Chou</surname><given-names>YT</given-names></name>, <name><surname>Lai</surname><given-names>FJ</given-names></name>, <name><surname>Hsu</surname><given-names>LJ</given-names></name>. <article-title>Regulation of cell signaling and apoptosis by tumor suppressor WWOX</article-title>. <source>Experimental Biology and Medicine</source>. <year>2015</year>;<volume>240</volume>(<issue>3</issue>):<fpage>383</fpage>&#8211;<lpage>391</lpage>. <pub-id pub-id-type=\"doi\">10.1177/1535370214566747</pub-id>\\n<pub-id pub-id-type=\"pmid\">25595191</pub-id></mixed-citation>\\n      </ref>\\n      <ref id=\"pone.0213221.ref081\">\\n        <label>81</label>\\n        <mixed-citation publication-type=\"journal\">\\n<name><surname>Spyropoulou</surname><given-names>A</given-names></name>, <name><surname>Gargalionis</surname><given-names>A</given-names></name>, <name><surname>Dalagiorgou</surname><given-names>G</given-names></name>, <name><surname>Adamopoulos</surname><given-names>C</given-names></name>, <name><surname>Papavassiliou</surname><given-names>KA</given-names></name>, <name><surname>Lea</surname><given-names>RW</given-names></name>, <etal>et al</etal>\\n<article-title>Role of Histone Lysine Methyltransferases SUV39H1 and SETDB1 in Gliomagenesis: Modulation of Cell Proliferation, Migration, and Colony Formation</article-title>. <source>NeuroMolecular Medicine</source>. <year>2014</year>;<volume>16</volume>(<issue>1</issue>):<fpage>70</fpage>&#8211;<lpage>82</lpage>. <pub-id pub-id-type=\"doi\">10.1007/s12017-013-8254-x</pub-id>\\n<pub-id pub-id-type=\"pmid\">23943221</pub-id></mixed-citation>\\n      </ref>\\n      <ref id=\"pone.0213221.ref082\">\\n        <label>82</label>\\n        <mixed-citation publication-type=\"journal\">\\n<name><surname>Das</surname><given-names>T</given-names></name>, <name><surname>Sangodkar</surname><given-names>J</given-names></name>, <name><surname>Negre</surname><given-names>N</given-names></name>, <name><surname>Narla</surname><given-names>G</given-names></name>, <name><surname>Cagan</surname><given-names>R</given-names></name>. <article-title>Sin3a acts through a multi-gene module to regulate invasion in Drosophila and human tumors</article-title>. <source>Oncogene</source>. <year>2013</year>;<volume>32</volume>(<issue>26</issue>):<fpage>3184</fpage>&#8211;<lpage>3197</lpage>. <pub-id pub-id-type=\"doi\">10.1038/onc.2012.326</pub-id>\\n<pub-id pub-id-type=\"pmid\">22890320</pub-id></mixed-citation>\\n      </ref>\\n      <ref id=\"pone.0213221.ref083\">\\n        <label>83</label>\\n        <mixed-citation publication-type=\"journal\">\\n<name><surname>Berry</surname><given-names>W</given-names></name>, <name><surname>Kim</surname><given-names>T</given-names></name>, <name><surname>Janknecht</surname><given-names>R</given-names></name>. <article-title>Stimulation of <italic>&#946;</italic>-catenin and colon cancer cell growth by the KDM4B histone demethylase</article-title>. <source>International Journal of Oncology</source>. <year>2014</year>;<volume>44</volume>:<fpage>1341</fpage>&#8211;<lpage>1348</lpage>. <pub-id pub-id-type=\"doi\">10.3892/ijo.2014.2279</pub-id>\\n<pub-id pub-id-type=\"pmid\">24481461</pub-id></mixed-citation>\\n      </ref>\\n      <ref id=\"pone.0213221.ref084\">\\n        <label>84</label>\\n        <mixed-citation publication-type=\"journal\">\\n<name><surname>Ortiz-Zapater</surname><given-names>E</given-names></name>, <name><surname>Pineda</surname><given-names>D</given-names></name>, <name><surname>Mart&#237;nez-Bosch</surname><given-names>N</given-names></name>, <name><surname>Fern&#225;ndez-Miranda</surname><given-names>G</given-names></name>, <name><surname>Iglesias</surname><given-names>M</given-names></name>, <name><surname>Alameda</surname><given-names>F</given-names></name>, <etal>et al</etal>\\n<article-title>Key contribution of CPEB4-mediated translational control to cancer progression</article-title>. <source>Nature Medicine</source>. <year>2011</year>;<volume>18</volume>:<fpage>83</fpage>\\n<pub-id pub-id-type=\"doi\">10.1038/nm.2540</pub-id>\\n<pub-id pub-id-type=\"pmid\">22138752</pub-id></mixed-citation>\\n      </ref>\\n      <ref id=\"pone.0213221.ref085\">\\n        <label>85</label>\\n        <mixed-citation publication-type=\"journal\">\\n<name><surname>Jing</surname><given-names>H</given-names></name>, <name><surname>LiBin</surname><given-names>Z</given-names></name>, <name><surname>Qiang</surname><given-names>C</given-names></name>, <name><surname>Jie</surname><given-names>L</given-names></name>, <name><surname>ShaoBo</surname><given-names>W</given-names></name>, <name><surname>Ri</surname><given-names>L</given-names></name>, <etal>et al</etal>\\n<article-title>Knockdown of CPEB4 expression suppresses cell migration and invasion via Akt pathway in non-small cell lung cancer</article-title>. <source>Cell Biology International</source>. <year>2018</year>;<volume>42</volume>(<issue>11</issue>):<fpage>1484</fpage>&#8211;<lpage>1491</lpage>. <pub-id pub-id-type=\"doi\">10.1002/cbin.10930</pub-id><pub-id pub-id-type=\"pmid\">29286212</pub-id></mixed-citation>\\n      </ref>\\n      <ref id=\"pone.0213221.ref086\">\\n        <label>86</label>\\n        <mixed-citation publication-type=\"journal\">\\n<name><surname>Sun</surname><given-names>H</given-names></name>, <name><surname>Wen</surname><given-names>X</given-names></name>, <name><surname>Han</surname><given-names>T</given-names></name>, <name><surname>Liu</surname><given-names>Z</given-names></name>, <name><surname>Li</surname><given-names>S</given-names></name>, <name><surname>Wang</surname><given-names>J</given-names></name>, <etal>et al</etal>\\n<article-title>Expression of CPEB4 in invasive ductal breast carcinoma and its prognostic significance</article-title>. <source>OncoTargets and Therapy</source>. <year>2015</year>;<volume>8</volume>:<fpage>3499</fpage>&#8211;<lpage>3506</lpage>. <pub-id pub-id-type=\"doi\">10.2147/OTT.S87587</pub-id>\\n<pub-id pub-id-type=\"pmid\">26648741</pub-id></mixed-citation>\\n      </ref>\\n      <ref id=\"pone.0213221.ref087\">\\n        <label>87</label>\\n        <mixed-citation publication-type=\"journal\">\\n<name><surname>Jones</surname><given-names>KJ</given-names></name>, <name><surname>Korb</surname><given-names>E</given-names></name>, <name><surname>Kundel</surname><given-names>MA</given-names></name>, <name><surname>Kochanek</surname><given-names>AR</given-names></name>, <name><surname>Kabraji</surname><given-names>S</given-names></name>, <name><surname>McEvoy</surname><given-names>M</given-names></name>, <etal>et al</etal>\\n<article-title>CPEB1 Regulates <italic>&#946;</italic>-Catenin mRNA Translation and Cell Migration in Astrocytes</article-title>. <source>Glia</source>. <year>2008</year>;<volume>56</volume>(<issue>13</issue>):<fpage>1401</fpage>&#8211;<lpage>1413</lpage>. <pub-id pub-id-type=\"doi\">10.1002/glia.20707</pub-id>\\n<pub-id pub-id-type=\"pmid\">18618654</pub-id></mixed-citation>\\n      </ref>\\n      <ref id=\"pone.0213221.ref088\">\\n        <label>88</label>\\n        <mixed-citation publication-type=\"journal\">\\n<name><surname>Pencovich</surname><given-names>N</given-names></name>, <name><surname>Jaschek</surname><given-names>R</given-names></name>, <name><surname>Dicken</surname><given-names>J</given-names></name>, <name><surname>Amit</surname><given-names>A</given-names></name>, <name><surname>Lotem</surname><given-names>J</given-names></name>, <name><surname>Tanay</surname><given-names>A</given-names></name>, <etal>et al</etal>\\n<article-title>Cell-Autonomous Function of Runx1 Transcriptionally Regulates Mouse Megakaryocytic Maturation</article-title>. <source>PLOS ONE</source>. <year>2013</year>;<volume>8</volume>(<issue>5</issue>):<fpage>1</fpage>&#8211;<lpage>11</lpage>. <pub-id pub-id-type=\"doi\">10.1371/journal.pone.0064248</pub-id></mixed-citation>\\n      </ref>\\n      <ref id=\"pone.0213221.ref089\">\\n        <label>89</label>\\n        <mixed-citation publication-type=\"journal\">\\n<name><surname>Mercado-Matos</surname><given-names>J</given-names></name>, <name><surname>Matthew-Onabanjo</surname><given-names>A</given-names></name>, <name><surname>Shaw</surname><given-names>L</given-names></name>. <article-title>RUNX1 and breast cancer</article-title>. <source>Oncotarget</source>. <year>2017</year>;<volume>8</volume>(<issue>23</issue>):<fpage>36934</fpage>&#8211;<lpage>36935</lpage>. <pub-id pub-id-type=\"doi\">10.18632/oncotarget.17249</pub-id>\\n<pub-id pub-id-type=\"pmid\">28455962</pub-id></mixed-citation>\\n      </ref>\\n      <ref id=\"pone.0213221.ref090\">\\n        <label>90</label>\\n        <mixed-citation publication-type=\"journal\">\\n<name><surname>Riggio</surname><given-names>AI</given-names></name>, <name><surname>Blyth</surname><given-names>K</given-names></name>. <article-title>The enigmatic role of RUNX1 in female-related cancers&#8212;current knowledge &amp; future perspectives</article-title>. <source>The FEBS Journal</source>. <year>2017</year>;<volume>284</volume>(<issue>15</issue>):<fpage>2345</fpage>&#8211;<lpage>2362</lpage>. <pub-id pub-id-type=\"doi\">10.1111/febs.14059</pub-id>\\n<pub-id pub-id-type=\"pmid\">28304148</pub-id></mixed-citation>\\n      </ref>\\n      <ref id=\"pone.0213221.ref091\">\\n        <label>91</label>\\n        <mixed-citation publication-type=\"journal\">\\n<name><surname>Shi</surname><given-names>YG</given-names></name>, <name><surname>Tsukada</surname><given-names>Y</given-names></name>. <article-title>The Discovery of Histone Demethylases</article-title>. <source>Cold Spring Harb Perspect Biol</source>. <year>2013</year>;<volume>5</volume>(<issue>9</issue>):<fpage>a017947</fpage>\\n<pub-id pub-id-type=\"doi\">10.1101/cshperspect.a017947</pub-id>\\n<pub-id pub-id-type=\"pmid\">24003214</pub-id></mixed-citation>\\n      </ref>\\n      <ref id=\"pone.0213221.ref092\">\\n        <label>92</label>\\n        <mixed-citation publication-type=\"journal\">\\n<name><surname>D&#8217;Oto</surname><given-names>A</given-names></name>, <name><surname>Tian</surname><given-names>Q</given-names></name>, <name><surname>Davidoff</surname><given-names>A</given-names></name>, <name><surname>Yang</surname><given-names>J</given-names></name>. <article-title>Histone demethylases and their roles in cancer epigenetics</article-title>. <source>J Med Oncol Ther</source>. <year>2016</year>;<volume>1</volume>(<issue>2</issue>):<fpage>34</fpage>&#8211;<lpage>40</lpage>. <pub-id pub-id-type=\"pmid\">28149961</pub-id></mixed-citation>\\n      </ref>\\n      <ref id=\"pone.0213221.ref093\">\\n        <label>93</label>\\n        <mixed-citation publication-type=\"journal\">\\n<name><surname>Tumini</surname><given-names>E</given-names></name>, <name><surname>Barroso</surname><given-names>S</given-names></name>, <name><surname>Calero</surname><given-names>CP</given-names></name>, <name><surname>Aguilera</surname><given-names>A</given-names></name>. <article-title>Roles of human POLD1 and POLD3 in genome stability</article-title>. <source>Scientific Reports</source>. <year>2016</year>;<volume>6</volume>:<fpage>38873</fpage>\\n<pub-id pub-id-type=\"doi\">10.1038/srep38873</pub-id>\\n<pub-id pub-id-type=\"pmid\">27974823</pub-id></mixed-citation>\\n      </ref>\\n      <ref id=\"pone.0213221.ref094\">\\n        <label>94</label>\\n        <mixed-citation publication-type=\"journal\">\\n<name><surname>Burrell</surname><given-names>RA</given-names></name>, <name><surname>McGranahan</surname><given-names>N</given-names></name>, <name><surname>Bartek</surname><given-names>J</given-names></name>, <name><surname>Swanton</surname><given-names>C</given-names></name>. <article-title>The causes and consequences of genetic heterogeneity in cancer evolution</article-title>. <source>Nature</source>. <year>2013</year>;<volume>501</volume>:<fpage>338</fpage>\\n<pub-id pub-id-type=\"doi\">10.1038/nature12625</pub-id>\\n<pub-id pub-id-type=\"pmid\">24048066</pub-id></mixed-citation>\\n      </ref>\\n      <ref id=\"pone.0213221.ref095\">\\n        <label>95</label>\\n        <mixed-citation publication-type=\"journal\">\\n<name><surname>Fidler</surname><given-names>IJ</given-names></name>, <name><surname>Kripke</surname><given-names>ML</given-names></name>. <article-title>The challenge of targeting metastasis</article-title>. <source>Cancer and Metastasis Reviews</source>. <year>2015</year>;<volume>34</volume>(<issue>4</issue>):<fpage>635</fpage>&#8211;<lpage>641</lpage>. <pub-id pub-id-type=\"doi\">10.1007/s10555-015-9586-9</pub-id>\\n<pub-id pub-id-type=\"pmid\">26328524</pub-id></mixed-citation>\\n      </ref>\\n      <ref id=\"pone.0213221.ref096\">\\n        <label>96</label>\\n        <mixed-citation publication-type=\"journal\">\\n<name><surname>Chowell</surname><given-names>D</given-names></name>, <name><surname>Napier</surname><given-names>J</given-names></name>, <name><surname>Gupta</surname><given-names>R</given-names></name>, <name><surname>Anderson</surname><given-names>KS</given-names></name>, <name><surname>Maley</surname><given-names>CC</given-names></name>, <name><surname>Sayres</surname><given-names>MAW</given-names></name>. <article-title>Modeling the Subclonal Evolution of Cancer Cell Populations</article-title>. <source>Cancer Research</source>. <year>2018</year>;<volume>78</volume>(<issue>3</issue>):<fpage>830</fpage>&#8211;<lpage>839</lpage>. <pub-id pub-id-type=\"doi\">10.1158/0008-5472.CAN-17-1229</pub-id>\\n<pub-id pub-id-type=\"pmid\">29187407</pub-id></mixed-citation>\\n      </ref>\\n      <ref id=\"pone.0213221.ref097\">\\n        <label>97</label>\\n        <mixed-citation publication-type=\"journal\">\\n<name><surname>Black</surname><given-names>JC</given-names></name>, <name><surname>Manning</surname><given-names>AL</given-names></name>, <name><surname>Van Rechem</surname><given-names>C</given-names></name>, <name><surname>Kim</surname><given-names>J</given-names></name>, <name><surname>Ladd</surname><given-names>B</given-names></name>, <name><surname>Cho</surname><given-names>J</given-names></name>, <etal>et al</etal>\\n<article-title>KDM4A Lysine Demethylase Induces Site-Specific Copy Gain and Rereplication of Regions Amplified in Tumors</article-title>. <source>Cell</source>. <year>2013</year>;<volume>154</volume>(<issue>3</issue>):<fpage>541</fpage>&#8211;<lpage>555</lpage>. <pub-id pub-id-type=\"doi\">10.1016/j.cell.2013.06.051</pub-id>. <pub-id pub-id-type=\"pmid\">23871696</pub-id></mixed-citation>\\n      </ref>\\n      <ref id=\"pone.0213221.ref098\">\\n        <label>98</label>\\n        <mixed-citation publication-type=\"journal\">\\n<name><surname>Black</surname><given-names>JC</given-names></name>, <name><surname>Zhang</surname><given-names>H</given-names></name>, <name><surname>Kim</surname><given-names>J</given-names></name>, <name><surname>Getz</surname><given-names>G</given-names></name>, <name><surname>Whetstine</surname><given-names>JR</given-names></name>. <article-title>Regulation of Transient Site-specific Copy Gain by MicroRNA</article-title>. <source>Journal of Biological Chemistry</source>. <year>2016</year>;<volume>291</volume>(<issue>10</issue>):<fpage>4862</fpage>&#8211;<lpage>4871</lpage>. <pub-id pub-id-type=\"doi\">10.1074/jbc.M115.711648</pub-id>\\n<pub-id pub-id-type=\"pmid\">26755726</pub-id></mixed-citation>\\n      </ref>\\n      <ref id=\"pone.0213221.ref099\">\\n        <label>99</label>\\n        <mixed-citation publication-type=\"journal\">\\n<name><surname>Black</surname><given-names>JC</given-names></name>, <name><surname>Atabakhsh</surname><given-names>E</given-names></name>, <name><surname>Kim</surname><given-names>J</given-names></name>, <name><surname>Biette</surname><given-names>KM</given-names></name>, <name><surname>Van Rechem</surname><given-names>C</given-names></name>, <name><surname>Ladd</surname><given-names>B</given-names></name>, <etal>et al</etal>\\n<article-title>Hypoxia drives transient site-specific copy gain and drug-resistant gene expression</article-title>. <source>Genes &amp; Development</source>. <year>2015</year>;<volume>29</volume>(<issue>10</issue>):<fpage>1018</fpage>&#8211;<lpage>1031</lpage>. <pub-id pub-id-type=\"doi\">10.1101/gad.259796.115</pub-id><pub-id pub-id-type=\"pmid\">25995187</pub-id></mixed-citation>\\n      </ref>\\n      <ref id=\"pone.0213221.ref100\">\\n        <label>100</label>\\n        <mixed-citation publication-type=\"other\">Filosi M, Visintainer R, Albanese D. minerva: Maximal Information-Based Nonparametric Exploration R package for Variable Analysis; 2014. Available from: <ext-link ext-link-type=\"uri\" xlink:href=\"http://CRAN.R-project.org/package=minerva\">http://CRAN.R-project.org/package=minerva</ext-link>.</mixed-citation>\\n      </ref>\\n    </ref-list>\\n  </back>\\n</article>\\n</pmc-articleset>'\n"
     ]
    }
   ],
   "source": [
    "# view the layout of the tree objectobject\n",
    "print(etree.tostring(root))"
   ]
  },
  {
   "cell_type": "code",
   "execution_count": 31,
   "metadata": {
    "executionInfo": {
     "elapsed": 86,
     "status": "ok",
     "timestamp": 1627366903185,
     "user": {
      "displayName": "Anubrata Das",
      "photoUrl": "https://lh3.googleusercontent.com/a-/AOh14GiI2340pPpSj6e4aG_4urL4HRwW3MRXEf5aoo2_QA=s64",
      "userId": "08781375266004215524"
     },
     "user_tz": -330
    },
    "id": "oqnhd9ZEmvc6"
   },
   "outputs": [],
   "source": [
    "# using element tree\n",
    "title_from_element_tree=[element for element in root.iter() if element.tag=='article-title'][0].text"
   ]
  },
  {
   "cell_type": "code",
   "execution_count": 32,
   "metadata": {
    "colab": {
     "base_uri": "https://localhost:8080/",
     "height": 52
    },
    "executionInfo": {
     "elapsed": 87,
     "status": "ok",
     "timestamp": 1627366903188,
     "user": {
      "displayName": "Anubrata Das",
      "photoUrl": "https://lh3.googleusercontent.com/a-/AOh14GiI2340pPpSj6e4aG_4urL4HRwW3MRXEf5aoo2_QA=s64",
      "userId": "08781375266004215524"
     },
     "user_tz": -330
    },
    "id": "bPB7n40pmvc7",
    "outputId": "f4e17dad-5353-4e04-b5b4-1a457842e18c"
   },
   "outputs": [
    {
     "data": {
      "application/vnd.google.colaboratory.intrinsic+json": {
       "type": "string"
      },
      "text/plain": [
       "'A meta-analysis of multiple matched aCGH/expression cancer datasets reveals regulatory relationships and pathway enrichment of potential oncogenes'"
      ]
     },
     "execution_count": 32,
     "metadata": {
      "tags": []
     },
     "output_type": "execute_result"
    }
   ],
   "source": [
    "title=root.xpath('//article-title/text()')[0]\n",
    "title"
   ]
  },
  {
   "cell_type": "code",
   "execution_count": 33,
   "metadata": {
    "executionInfo": {
     "elapsed": 84,
     "status": "ok",
     "timestamp": 1627366903191,
     "user": {
      "displayName": "Anubrata Das",
      "photoUrl": "https://lh3.googleusercontent.com/a-/AOh14GiI2340pPpSj6e4aG_4urL4HRwW3MRXEf5aoo2_QA=s64",
      "userId": "08781375266004215524"
     },
     "user_tz": -330
    },
    "id": "2cZ3v4emmvc9"
   },
   "outputs": [],
   "source": [
    "# using element tree\n",
    "for element in root.iter():\n",
    "    if element.tag=='abstract':\n",
    "        abstract_tag=element       "
   ]
  },
  {
   "cell_type": "code",
   "execution_count": 34,
   "metadata": {
    "colab": {
     "base_uri": "https://localhost:8080/"
    },
    "executionInfo": {
     "elapsed": 84,
     "status": "ok",
     "timestamp": 1627366903193,
     "user": {
      "displayName": "Anubrata Das",
      "photoUrl": "https://lh3.googleusercontent.com/a-/AOh14GiI2340pPpSj6e4aG_4urL4HRwW3MRXEf5aoo2_QA=s64",
      "userId": "08781375266004215524"
     },
     "user_tz": -330
    },
    "id": "HF2d4AEcmvc-",
    "outputId": "dc1cc183-6e85-4498-804b-ffb11eec2046"
   },
   "outputs": [
    {
     "name": "stdout",
     "output_type": "stream",
     "text": [
      "The copy numbers of genes in cancer samples are often highly disrupted and form a natural amplification/deletion experiment encompassing multiple genes. Matched array comparative genomics and transcriptomics datasets from such samples can be used to predict inter-chromosomal gene regulatory relationships. Previously we published the database METAMATCHED, comprising the results from such an analysis of a large number of publically available cancer datasets. Here we investigate genes in the database which are unusual in that their copy number exhibits consistent heterogeneous disruption in a high proportion of the cancer datasets. We assess the potential relevance of these genes to the pathology of the cancer samples, in light of their predicted regulatory relationships and enriched biological pathways. A network-based method was used to identify enriched pathways from the genes’ inferred targets. The analysis predicts both known and new regulator-target interactions and pathway memberships. We examine examples in detail, in particular the gene \n"
     ]
    }
   ],
   "source": [
    "for sub_element in abstract_tag:\n",
    "    if sub_element.tag=='p':\n",
    "        print(sub_element.text) # the formatting for POGZ disrupts the text formatting"
   ]
  },
  {
   "cell_type": "code",
   "execution_count": 35,
   "metadata": {
    "colab": {
     "base_uri": "https://localhost:8080/",
     "height": 137
    },
    "executionInfo": {
     "elapsed": 82,
     "status": "ok",
     "timestamp": 1627366903195,
     "user": {
      "displayName": "Anubrata Das",
      "photoUrl": "https://lh3.googleusercontent.com/a-/AOh14GiI2340pPpSj6e4aG_4urL4HRwW3MRXEf5aoo2_QA=s64",
      "userId": "08781375266004215524"
     },
     "user_tz": -330
    },
    "id": "C--yROJ3mvc_",
    "outputId": "7bbe8998-9d7e-4a08-cd9b-97a58b7e8cc6"
   },
   "outputs": [
    {
     "data": {
      "application/vnd.google.colaboratory.intrinsic+json": {
       "type": "string"
      },
      "text/plain": [
       "'The copy numbers of genes in cancer samples are often highly disrupted and form a natural amplification/deletion experiment encompassing multiple genes. Matched array comparative genomics and transcriptomics datasets from such samples can be used to predict inter-chromosomal gene regulatory relationships. Previously we published the database METAMATCHED, comprising the results from such an analysis of a large number of publically available cancer datasets. Here we investigate genes in the database which are unusual in that their copy number exhibits consistent heterogeneous disruption in a high proportion of the cancer datasets. We assess the potential relevance of these genes to the pathology of the cancer samples, in light of their predicted regulatory relationships and enriched biological pathways. A network-based method was used to identify enriched pathways from the genes’ inferred targets. The analysis predicts both known and new regulator-target interactions and pathway memberships. We examine examples in detail, in particular the gene POGZ, which is disrupted in many of the cancer datasets and has an unusually large number of predicted targets, from which the network analysis predicts membership of cancer related pathways. The results suggest close involvement in known cancer pathways of genes exhibiting consistent heterogeneous copy number disruption. Further experimental work would clarify their relevance to tumor biology. The results of the analysis presented in the database METAMATCHED, and included here as an R archive file, constitute a large number of predicted regulatory relationships and pathway memberships which we anticipate will be useful in informing such experiments.'"
      ]
     },
     "execution_count": 35,
     "metadata": {
      "tags": []
     },
     "output_type": "execute_result"
    }
   ],
   "source": [
    "# using xpath\n",
    "abstract_list=root.xpath('//abstract//p//text()') # the formatting for POGZ disrupts the text formatting\n",
    "abstract=\"\".join(abstract_list)                   # the list obtained is combined as text  \n",
    "abstract"
   ]
  },
  {
   "cell_type": "code",
   "execution_count": 36,
   "metadata": {
    "colab": {
     "base_uri": "https://localhost:8080/",
     "height": 163
    },
    "executionInfo": {
     "elapsed": 95,
     "status": "error",
     "timestamp": 1627366903212,
     "user": {
      "displayName": "Anubrata Das",
      "photoUrl": "https://lh3.googleusercontent.com/a-/AOh14GiI2340pPpSj6e4aG_4urL4HRwW3MRXEf5aoo2_QA=s64",
      "userId": "08781375266004215524"
     },
     "user_tz": -330
    },
    "id": "A_lzcmETmvdB",
    "outputId": "1077cf30-45b0-48c0-f2cc-5b7c07a4c4ad"
   },
   "outputs": [
    {
     "ename": "NameError",
     "evalue": "ignored",
     "output_type": "error",
     "traceback": [
      "\u001b[0;31m---------------------------------------------------------------------------\u001b[0m",
      "\u001b[0;31mNameError\u001b[0m                                 Traceback (most recent call last)",
      "\u001b[0;32m<ipython-input-36-91046ba21311>\u001b[0m in \u001b[0;36m<module>\u001b[0;34m()\u001b[0m\n\u001b[0;32m----> 1\u001b[0;31m \u001b[0mconclusions\u001b[0m\u001b[0;34m\u001b[0m\u001b[0;34m\u001b[0m\u001b[0m\n\u001b[0m",
      "\u001b[0;31mNameError\u001b[0m: name 'conclusions' is not defined"
     ]
    }
   ],
   "source": [
    "conclusions"
   ]
  },
  {
   "cell_type": "code",
   "execution_count": null,
   "metadata": {
    "executionInfo": {
     "elapsed": 75,
     "status": "aborted",
     "timestamp": 1627366903198,
     "user": {
      "displayName": "Anubrata Das",
      "photoUrl": "https://lh3.googleusercontent.com/a-/AOh14GiI2340pPpSj6e4aG_4urL4HRwW3MRXEf5aoo2_QA=s64",
      "userId": "08781375266004215524"
     },
     "user_tz": -330
    },
    "id": "BlrJPbsymvdC"
   },
   "outputs": [],
   "source": [
    "for section in conclusions:\n",
    "    for element in section.iter():\n",
    "        if element.tag==\"Discussion\":\n",
    "            print(element.text)\n",
    "       "
   ]
  },
  {
   "cell_type": "code",
   "execution_count": null,
   "metadata": {
    "executionInfo": {
     "elapsed": 76,
     "status": "aborted",
     "timestamp": 1627366903200,
     "user": {
      "displayName": "Anubrata Das",
      "photoUrl": "https://lh3.googleusercontent.com/a-/AOh14GiI2340pPpSj6e4aG_4urL4HRwW3MRXEf5aoo2_QA=s64",
      "userId": "08781375266004215524"
     },
     "user_tz": -330
    },
    "id": "upyF2LIpmvdD"
   },
   "outputs": [],
   "source": [
    "for section in conclusions:\n",
    "    for element in section.iter(\"title\"):       \n",
    "            print(element.text)       "
   ]
  },
  {
   "cell_type": "code",
   "execution_count": null,
   "metadata": {
    "executionInfo": {
     "elapsed": 77,
     "status": "aborted",
     "timestamp": 1627366903202,
     "user": {
      "displayName": "Anubrata Das",
      "photoUrl": "https://lh3.googleusercontent.com/a-/AOh14GiI2340pPpSj6e4aG_4urL4HRwW3MRXEf5aoo2_QA=s64",
      "userId": "08781375266004215524"
     },
     "user_tz": -330
    },
    "id": "A0Xp2EUVmvdE"
   },
   "outputs": [],
   "source": [
    "discussion=\"\"\n",
    "for section in conclusions:\n",
    "    if section.findtext('title')==\"Discussion\":\n",
    "        for element in section.getchildren():\n",
    "            if element.tag=='p':\n",
    "                discussion=discussion+element.text"
   ]
  },
  {
   "cell_type": "code",
   "execution_count": null,
   "metadata": {
    "executionInfo": {
     "elapsed": 79,
     "status": "aborted",
     "timestamp": 1627366903205,
     "user": {
      "displayName": "Anubrata Das",
      "photoUrl": "https://lh3.googleusercontent.com/a-/AOh14GiI2340pPpSj6e4aG_4urL4HRwW3MRXEf5aoo2_QA=s64",
      "userId": "08781375266004215524"
     },
     "user_tz": -330
    },
    "id": "tWRJlUvrmvdE"
   },
   "outputs": [],
   "source": [
    "discussion"
   ]
  },
  {
   "cell_type": "code",
   "execution_count": 67,
   "metadata": {
    "executionInfo": {
     "elapsed": 491,
     "status": "ok",
     "timestamp": 1627373408052,
     "user": {
      "displayName": "Anubrata Das",
      "photoUrl": "https://lh3.googleusercontent.com/a-/AOh14GiI2340pPpSj6e4aG_4urL4HRwW3MRXEf5aoo2_QA=s64",
      "userId": "08781375266004215524"
     },
     "user_tz": -330
    },
    "id": "fbosF8TsmvdF"
   },
   "outputs": [],
   "source": [
    "with open('resMut.tsv','r') as fh:\n",
    "  data=fh.readlines()"
   ]
  },
  {
   "cell_type": "code",
   "execution_count": 69,
   "metadata": {
    "colab": {
     "base_uri": "https://localhost:8080/"
    },
    "executionInfo": {
     "elapsed": 517,
     "status": "ok",
     "timestamp": 1627373452925,
     "user": {
      "displayName": "Anubrata Das",
      "photoUrl": "https://lh3.googleusercontent.com/a-/AOh14GiI2340pPpSj6e4aG_4urL4HRwW3MRXEf5aoo2_QA=s64",
      "userId": "08781375266004215524"
     },
     "user_tz": -330
    },
    "id": "DnpEYa2CA0NR",
    "outputId": "994c9094-a378-4726-df78-8ede5fc6b820"
   },
   "outputs": [
    {
     "data": {
      "text/plain": [
       "['Sample Name\\tSample ID\\tGene Name\\tTranscript\\tCensus Gene\\tDrug Name\\tMUTATION_ID\\tGENOMIC_MUTATION_ID\\tLEGACY_MUTATION_ID\\tAA Mutation\\tCDS Mutation\\tPrimary Tissue\\tTissue Subtype 1\\tTissue Subtype 2\\tHistology\\tHistology Subtype 1\\tHistology Subtype 2\\tPubmed Id\\tCGP Study\\tSomatic Status\\tSample Type\\tZygosity\\tGenome Coordinates (GRCh38)\\tTier\\tHGVSP\\tHGVSC\\tHGVSG\\n',\n",
       " '3\\t1330179\\tKRAS_ENST00000556131\\tENST00000556131.1\\tNo\\tCetuximab\\t153544881\\tCOSV55497388\\tCOSM532\\tp.G13D\\tc.38G>A\\tlarge_intestine\\tcolon\\ttransverse\\tcarcinoma\\tadenocarcinoma\\tNS\\t20361188\\t\\tPreviously Reported\\tTumour Sample\\tUnknown\\t12:25245347..25245347\\t\\tENSP00000451856.1:p.Gly13Asp\\tENST00000556131.1:c.38G>A\\t12:g.25245347C>T\\n',\n",
       " 'RPC-9\\t1083085\\tEGFR_ENST00000455089\\tENST00000455089.5\\tNo\\tGefitinib\\t127653906\\tCOSV51765492\\tCOSM6240\\tp.T745M\\tc.2234C>T\\tlung\\tNS\\tNS\\tcarcinoma\\tadenocarcinoma\\tNS\\t17699786\\t\\tPreviously Reported\\tCultured\\tHeterozygous\\t7:55181378..55181378\\t\\tENSP00000415559.1:p.Thr745Met\\tENST00000455089.5:c.2234C>T\\t7:g.55181378C>T\\n',\n",
       " '903861\\t903861\\tABL1_ENST00000318560\\tENST00000318560.5\\tNo\\tImatinib\\t101978508\\tCOSV59325175\\tCOSM12576\\tp.Y253H\\tc.757T>C\\thaematopoietic_and_lymphoid_tissue\\tNS\\tNS\\thaematopoietic_neoplasm\\tacute_leukaemia_of_ambiguous_lineage\\tNS\\t11853795\\t\\tVariant of unknown origin\\tTumour Sample\\tHomozygous\\t9:130862970..130862970\\t\\tENSP00000323315.5:p.Tyr253His\\tENST00000318560.5:c.757T>C\\t9:g.130862970T>C\\n',\n",
       " '904078\\t904078\\tABL1\\tENST00000372348.6\\tYes\\tImatinib\\t112838802\\tCOSV59324360\\tCOSM12577\\tp.G269E\\tc.806G>A\\thaematopoietic_and_lymphoid_tissue\\tNS\\tNS\\thaematopoietic_neoplasm\\tblast_phase_chronic_myeloid_leukaemia\\tNS\\t11964322\\t\\tVariant of unknown origin\\tTumour Sample\\tUnknown\\t9:130862962..130862962\\t1\\tENSP00000361423.2:p.Gly269Glu\\tENST00000372348.6:c.806G>A\\t9:g.130862962G>A\\n']"
      ]
     },
     "execution_count": 69,
     "metadata": {
      "tags": []
     },
     "output_type": "execute_result"
    }
   ],
   "source": [
    "data[:5]"
   ]
  },
  {
   "cell_type": "code",
   "execution_count": 72,
   "metadata": {
    "executionInfo": {
     "elapsed": 520,
     "status": "ok",
     "timestamp": 1627375732775,
     "user": {
      "displayName": "Anubrata Das",
      "photoUrl": "https://lh3.googleusercontent.com/a-/AOh14GiI2340pPpSj6e4aG_4urL4HRwW3MRXEf5aoo2_QA=s64",
      "userId": "08781375266004215524"
     },
     "user_tz": -330
    },
    "id": "FP63eISEA1Yk"
   },
   "outputs": [],
   "source": [
    "resistance_genes=pd.read_csv('resMut.tsv',sep='\\t')"
   ]
  },
  {
   "cell_type": "code",
   "execution_count": 87,
   "metadata": {
    "colab": {
     "base_uri": "https://localhost:8080/",
     "height": 264
    },
    "executionInfo": {
     "elapsed": 642,
     "status": "ok",
     "timestamp": 1627376157623,
     "user": {
      "displayName": "Anubrata Das",
      "photoUrl": "https://lh3.googleusercontent.com/a-/AOh14GiI2340pPpSj6e4aG_4urL4HRwW3MRXEf5aoo2_QA=s64",
      "userId": "08781375266004215524"
     },
     "user_tz": -330
    },
    "id": "DKzLNRA-LSIC",
    "outputId": "004c5731-e610-4bad-85aa-469d91194675"
   },
   "outputs": [
    {
     "data": {
      "text/html": [
       "<div>\n",
       "<style scoped>\n",
       "    .dataframe tbody tr th:only-of-type {\n",
       "        vertical-align: middle;\n",
       "    }\n",
       "\n",
       "    .dataframe tbody tr th {\n",
       "        vertical-align: top;\n",
       "    }\n",
       "\n",
       "    .dataframe thead th {\n",
       "        text-align: right;\n",
       "    }\n",
       "</style>\n",
       "<table border=\"1\" class=\"dataframe\">\n",
       "  <thead>\n",
       "    <tr style=\"text-align: right;\">\n",
       "      <th></th>\n",
       "      <th>Sample Name</th>\n",
       "      <th>Sample ID</th>\n",
       "      <th>Gene Name</th>\n",
       "      <th>Transcript</th>\n",
       "      <th>Census Gene</th>\n",
       "      <th>Drug Name</th>\n",
       "      <th>MUTATION_ID</th>\n",
       "      <th>GENOMIC_MUTATION_ID</th>\n",
       "      <th>LEGACY_MUTATION_ID</th>\n",
       "      <th>AA Mutation</th>\n",
       "      <th>CDS Mutation</th>\n",
       "      <th>Primary Tissue</th>\n",
       "      <th>Tissue Subtype 1</th>\n",
       "      <th>Tissue Subtype 2</th>\n",
       "      <th>Histology</th>\n",
       "      <th>Histology Subtype 1</th>\n",
       "      <th>Histology Subtype 2</th>\n",
       "      <th>Pubmed Id</th>\n",
       "      <th>CGP Study</th>\n",
       "      <th>Somatic Status</th>\n",
       "      <th>Sample Type</th>\n",
       "      <th>Zygosity</th>\n",
       "      <th>Genome Coordinates (GRCh38)</th>\n",
       "      <th>Tier</th>\n",
       "      <th>HGVSP</th>\n",
       "      <th>HGVSC</th>\n",
       "      <th>HGVSG</th>\n",
       "    </tr>\n",
       "  </thead>\n",
       "  <tbody>\n",
       "    <tr>\n",
       "      <th>0</th>\n",
       "      <td>3</td>\n",
       "      <td>1330179</td>\n",
       "      <td>KRAS</td>\n",
       "      <td>ENST00000556131.1</td>\n",
       "      <td>No</td>\n",
       "      <td>Cetuximab</td>\n",
       "      <td>153544881</td>\n",
       "      <td>COSV55497388</td>\n",
       "      <td>COSM532</td>\n",
       "      <td>p.G13D</td>\n",
       "      <td>c.38G&gt;A</td>\n",
       "      <td>large_intestine</td>\n",
       "      <td>colon</td>\n",
       "      <td>transverse</td>\n",
       "      <td>carcinoma</td>\n",
       "      <td>adenocarcinoma</td>\n",
       "      <td>NS</td>\n",
       "      <td>20361188</td>\n",
       "      <td>NaN</td>\n",
       "      <td>Previously Reported</td>\n",
       "      <td>Tumour Sample</td>\n",
       "      <td>Unknown</td>\n",
       "      <td>12:25245347..25245347</td>\n",
       "      <td>NaN</td>\n",
       "      <td>ENSP00000451856.1:p.Gly13Asp</td>\n",
       "      <td>ENST00000556131.1:c.38G&gt;A</td>\n",
       "      <td>12:g.25245347C&gt;T</td>\n",
       "    </tr>\n",
       "    <tr>\n",
       "      <th>1</th>\n",
       "      <td>RPC-9</td>\n",
       "      <td>1083085</td>\n",
       "      <td>EGFR</td>\n",
       "      <td>ENST00000455089.5</td>\n",
       "      <td>No</td>\n",
       "      <td>Gefitinib</td>\n",
       "      <td>127653906</td>\n",
       "      <td>COSV51765492</td>\n",
       "      <td>COSM6240</td>\n",
       "      <td>p.T745M</td>\n",
       "      <td>c.2234C&gt;T</td>\n",
       "      <td>lung</td>\n",
       "      <td>NS</td>\n",
       "      <td>NS</td>\n",
       "      <td>carcinoma</td>\n",
       "      <td>adenocarcinoma</td>\n",
       "      <td>NS</td>\n",
       "      <td>17699786</td>\n",
       "      <td>NaN</td>\n",
       "      <td>Previously Reported</td>\n",
       "      <td>Cultured</td>\n",
       "      <td>Heterozygous</td>\n",
       "      <td>7:55181378..55181378</td>\n",
       "      <td>NaN</td>\n",
       "      <td>ENSP00000415559.1:p.Thr745Met</td>\n",
       "      <td>ENST00000455089.5:c.2234C&gt;T</td>\n",
       "      <td>7:g.55181378C&gt;T</td>\n",
       "    </tr>\n",
       "    <tr>\n",
       "      <th>2</th>\n",
       "      <td>903861</td>\n",
       "      <td>903861</td>\n",
       "      <td>ABL1</td>\n",
       "      <td>ENST00000318560.5</td>\n",
       "      <td>No</td>\n",
       "      <td>Imatinib</td>\n",
       "      <td>101978508</td>\n",
       "      <td>COSV59325175</td>\n",
       "      <td>COSM12576</td>\n",
       "      <td>p.Y253H</td>\n",
       "      <td>c.757T&gt;C</td>\n",
       "      <td>haematopoietic_and_lymphoid_tissue</td>\n",
       "      <td>NS</td>\n",
       "      <td>NS</td>\n",
       "      <td>haematopoietic_neoplasm</td>\n",
       "      <td>acute_leukaemia_of_ambiguous_lineage</td>\n",
       "      <td>NS</td>\n",
       "      <td>11853795</td>\n",
       "      <td>NaN</td>\n",
       "      <td>Variant of unknown origin</td>\n",
       "      <td>Tumour Sample</td>\n",
       "      <td>Homozygous</td>\n",
       "      <td>9:130862970..130862970</td>\n",
       "      <td>NaN</td>\n",
       "      <td>ENSP00000323315.5:p.Tyr253His</td>\n",
       "      <td>ENST00000318560.5:c.757T&gt;C</td>\n",
       "      <td>9:g.130862970T&gt;C</td>\n",
       "    </tr>\n",
       "  </tbody>\n",
       "</table>\n",
       "</div>"
      ],
      "text/plain": [
       "  Sample Name  Sample ID  ...                        HGVSC             HGVSG\n",
       "0           3    1330179  ...    ENST00000556131.1:c.38G>A  12:g.25245347C>T\n",
       "1       RPC-9    1083085  ...  ENST00000455089.5:c.2234C>T   7:g.55181378C>T\n",
       "2      903861     903861  ...   ENST00000318560.5:c.757T>C  9:g.130862970T>C\n",
       "\n",
       "[3 rows x 27 columns]"
      ]
     },
     "execution_count": 87,
     "metadata": {
      "tags": []
     },
     "output_type": "execute_result"
    }
   ],
   "source": [
    "resistance_genes.head(n=3)"
   ]
  },
  {
   "cell_type": "code",
   "execution_count": 81,
   "metadata": {
    "executionInfo": {
     "elapsed": 500,
     "status": "ok",
     "timestamp": 1627375994741,
     "user": {
      "displayName": "Anubrata Das",
      "photoUrl": "https://lh3.googleusercontent.com/a-/AOh14GiI2340pPpSj6e4aG_4urL4HRwW3MRXEf5aoo2_QA=s64",
      "userId": "08781375266004215524"
     },
     "user_tz": -330
    },
    "id": "r6l2RQt4J01m"
   },
   "outputs": [],
   "source": [
    "def trim_name(gene):\n",
    "  if '_' in gene:\n",
    "    gene=gene.split('_')[0]\n",
    "  else:\n",
    "    gene=gene  \n",
    "  return gene  "
   ]
  },
  {
   "cell_type": "code",
   "execution_count": 83,
   "metadata": {
    "executionInfo": {
     "elapsed": 497,
     "status": "ok",
     "timestamp": 1627376017094,
     "user": {
      "displayName": "Anubrata Das",
      "photoUrl": "https://lh3.googleusercontent.com/a-/AOh14GiI2340pPpSj6e4aG_4urL4HRwW3MRXEf5aoo2_QA=s64",
      "userId": "08781375266004215524"
     },
     "user_tz": -330
    },
    "id": "jrQG9W_NKb1y"
   },
   "outputs": [],
   "source": [
    "resistance_genes['Gene Name']=resistance_genes['Gene Name'].map(trim_name)"
   ]
  },
  {
   "cell_type": "code",
   "execution_count": 97,
   "metadata": {
    "colab": {
     "base_uri": "https://localhost:8080/",
     "height": 306
    },
    "executionInfo": {
     "elapsed": 492,
     "status": "ok",
     "timestamp": 1627376754335,
     "user": {
      "displayName": "Anubrata Das",
      "photoUrl": "https://lh3.googleusercontent.com/a-/AOh14GiI2340pPpSj6e4aG_4urL4HRwW3MRXEf5aoo2_QA=s64",
      "userId": "08781375266004215524"
     },
     "user_tz": -330
    },
    "id": "MISTbn2WKkfV",
    "outputId": "77905e1b-4a30-4030-e3b7-c1f9de6eb2c6"
   },
   "outputs": [
    {
     "data": {
      "text/html": [
       "<div>\n",
       "<style scoped>\n",
       "    .dataframe tbody tr th:only-of-type {\n",
       "        vertical-align: middle;\n",
       "    }\n",
       "\n",
       "    .dataframe tbody tr th {\n",
       "        vertical-align: top;\n",
       "    }\n",
       "\n",
       "    .dataframe thead th {\n",
       "        text-align: right;\n",
       "    }\n",
       "</style>\n",
       "<table border=\"1\" class=\"dataframe\">\n",
       "  <thead>\n",
       "    <tr style=\"text-align: right;\">\n",
       "      <th></th>\n",
       "      <th>Sample Name</th>\n",
       "      <th>Sample ID</th>\n",
       "      <th>Transcript</th>\n",
       "      <th>Census Gene</th>\n",
       "      <th>Drug Name</th>\n",
       "      <th>MUTATION_ID</th>\n",
       "      <th>GENOMIC_MUTATION_ID</th>\n",
       "      <th>LEGACY_MUTATION_ID</th>\n",
       "      <th>AA Mutation</th>\n",
       "      <th>CDS Mutation</th>\n",
       "      <th>Primary Tissue</th>\n",
       "      <th>Tissue Subtype 1</th>\n",
       "      <th>Tissue Subtype 2</th>\n",
       "      <th>Histology</th>\n",
       "      <th>Histology Subtype 1</th>\n",
       "      <th>Histology Subtype 2</th>\n",
       "      <th>Pubmed Id</th>\n",
       "      <th>CGP Study</th>\n",
       "      <th>Somatic Status</th>\n",
       "      <th>Sample Type</th>\n",
       "      <th>Zygosity</th>\n",
       "      <th>Genome Coordinates (GRCh38)</th>\n",
       "      <th>Tier</th>\n",
       "      <th>HGVSP</th>\n",
       "      <th>HGVSC</th>\n",
       "      <th>HGVSG</th>\n",
       "    </tr>\n",
       "    <tr>\n",
       "      <th>Gene Name</th>\n",
       "      <th></th>\n",
       "      <th></th>\n",
       "      <th></th>\n",
       "      <th></th>\n",
       "      <th></th>\n",
       "      <th></th>\n",
       "      <th></th>\n",
       "      <th></th>\n",
       "      <th></th>\n",
       "      <th></th>\n",
       "      <th></th>\n",
       "      <th></th>\n",
       "      <th></th>\n",
       "      <th></th>\n",
       "      <th></th>\n",
       "      <th></th>\n",
       "      <th></th>\n",
       "      <th></th>\n",
       "      <th></th>\n",
       "      <th></th>\n",
       "      <th></th>\n",
       "      <th></th>\n",
       "      <th></th>\n",
       "      <th></th>\n",
       "      <th></th>\n",
       "      <th></th>\n",
       "    </tr>\n",
       "  </thead>\n",
       "  <tbody>\n",
       "    <tr>\n",
       "      <th>ABL1</th>\n",
       "      <td>1468</td>\n",
       "      <td>1468</td>\n",
       "      <td>1468</td>\n",
       "      <td>1468</td>\n",
       "      <td>1468</td>\n",
       "      <td>1468</td>\n",
       "      <td>382</td>\n",
       "      <td>1468</td>\n",
       "      <td>1468</td>\n",
       "      <td>1468</td>\n",
       "      <td>1468</td>\n",
       "      <td>1468</td>\n",
       "      <td>1468</td>\n",
       "      <td>1468</td>\n",
       "      <td>1468</td>\n",
       "      <td>1468</td>\n",
       "      <td>1468</td>\n",
       "      <td>0</td>\n",
       "      <td>1468</td>\n",
       "      <td>1468</td>\n",
       "      <td>1468</td>\n",
       "      <td>382</td>\n",
       "      <td>191</td>\n",
       "      <td>1323</td>\n",
       "      <td>382</td>\n",
       "      <td>382</td>\n",
       "    </tr>\n",
       "    <tr>\n",
       "      <th>EGFR</th>\n",
       "      <td>1069</td>\n",
       "      <td>1069</td>\n",
       "      <td>1069</td>\n",
       "      <td>1069</td>\n",
       "      <td>1069</td>\n",
       "      <td>1069</td>\n",
       "      <td>632</td>\n",
       "      <td>1069</td>\n",
       "      <td>1069</td>\n",
       "      <td>1069</td>\n",
       "      <td>1069</td>\n",
       "      <td>1069</td>\n",
       "      <td>1069</td>\n",
       "      <td>1069</td>\n",
       "      <td>1069</td>\n",
       "      <td>1069</td>\n",
       "      <td>1069</td>\n",
       "      <td>0</td>\n",
       "      <td>1069</td>\n",
       "      <td>1069</td>\n",
       "      <td>1069</td>\n",
       "      <td>632</td>\n",
       "      <td>595</td>\n",
       "      <td>910</td>\n",
       "      <td>632</td>\n",
       "      <td>632</td>\n",
       "    </tr>\n",
       "    <tr>\n",
       "      <th>ESR1</th>\n",
       "      <td>299</td>\n",
       "      <td>299</td>\n",
       "      <td>299</td>\n",
       "      <td>299</td>\n",
       "      <td>299</td>\n",
       "      <td>299</td>\n",
       "      <td>259</td>\n",
       "      <td>299</td>\n",
       "      <td>299</td>\n",
       "      <td>299</td>\n",
       "      <td>299</td>\n",
       "      <td>299</td>\n",
       "      <td>299</td>\n",
       "      <td>299</td>\n",
       "      <td>299</td>\n",
       "      <td>299</td>\n",
       "      <td>299</td>\n",
       "      <td>0</td>\n",
       "      <td>299</td>\n",
       "      <td>299</td>\n",
       "      <td>299</td>\n",
       "      <td>259</td>\n",
       "      <td>77</td>\n",
       "      <td>224</td>\n",
       "      <td>259</td>\n",
       "      <td>259</td>\n",
       "    </tr>\n",
       "    <tr>\n",
       "      <th>KIT</th>\n",
       "      <td>290</td>\n",
       "      <td>290</td>\n",
       "      <td>290</td>\n",
       "      <td>290</td>\n",
       "      <td>290</td>\n",
       "      <td>290</td>\n",
       "      <td>54</td>\n",
       "      <td>290</td>\n",
       "      <td>290</td>\n",
       "      <td>290</td>\n",
       "      <td>290</td>\n",
       "      <td>290</td>\n",
       "      <td>290</td>\n",
       "      <td>290</td>\n",
       "      <td>290</td>\n",
       "      <td>290</td>\n",
       "      <td>290</td>\n",
       "      <td>0</td>\n",
       "      <td>290</td>\n",
       "      <td>290</td>\n",
       "      <td>290</td>\n",
       "      <td>54</td>\n",
       "      <td>290</td>\n",
       "      <td>274</td>\n",
       "      <td>54</td>\n",
       "      <td>54</td>\n",
       "    </tr>\n",
       "    <tr>\n",
       "      <th>BTK</th>\n",
       "      <td>276</td>\n",
       "      <td>276</td>\n",
       "      <td>276</td>\n",
       "      <td>276</td>\n",
       "      <td>276</td>\n",
       "      <td>276</td>\n",
       "      <td>264</td>\n",
       "      <td>276</td>\n",
       "      <td>276</td>\n",
       "      <td>276</td>\n",
       "      <td>276</td>\n",
       "      <td>276</td>\n",
       "      <td>276</td>\n",
       "      <td>276</td>\n",
       "      <td>276</td>\n",
       "      <td>276</td>\n",
       "      <td>276</td>\n",
       "      <td>0</td>\n",
       "      <td>276</td>\n",
       "      <td>276</td>\n",
       "      <td>276</td>\n",
       "      <td>264</td>\n",
       "      <td>66</td>\n",
       "      <td>212</td>\n",
       "      <td>264</td>\n",
       "      <td>264</td>\n",
       "    </tr>\n",
       "  </tbody>\n",
       "</table>\n",
       "</div>"
      ],
      "text/plain": [
       "           Sample Name  Sample ID  Transcript  ...  HGVSP  HGVSC  HGVSG\n",
       "Gene Name                                      ...                     \n",
       "ABL1              1468       1468        1468  ...   1323    382    382\n",
       "EGFR              1069       1069        1069  ...    910    632    632\n",
       "ESR1               299        299         299  ...    224    259    259\n",
       "KIT                290        290         290  ...    274     54     54\n",
       "BTK                276        276         276  ...    212    264    264\n",
       "\n",
       "[5 rows x 26 columns]"
      ]
     },
     "execution_count": 97,
     "metadata": {
      "tags": []
     },
     "output_type": "execute_result"
    }
   ],
   "source": [
    "resistance_genes.groupby(['Gene Name']).count().sort_values(by=['AA Mutation'],ascending=False).head(n=5)"
   ]
  },
  {
   "cell_type": "code",
   "execution_count": 107,
   "metadata": {
    "executionInfo": {
     "elapsed": 520,
     "status": "ok",
     "timestamp": 1627377321985,
     "user": {
      "displayName": "Anubrata Das",
      "photoUrl": "https://lh3.googleusercontent.com/a-/AOh14GiI2340pPpSj6e4aG_4urL4HRwW3MRXEf5aoo2_QA=s64",
      "userId": "08781375266004215524"
     },
     "user_tz": -330
    },
    "id": "GZPExL_xLBK8"
   },
   "outputs": [],
   "source": [
    "curated_genes=resistance_genes[resistance_genes['Gene Name'].isin(['ABL1','EGFR'])]"
   ]
  },
  {
   "cell_type": "code",
   "execution_count": 117,
   "metadata": {
    "executionInfo": {
     "elapsed": 478,
     "status": "ok",
     "timestamp": 1627378059686,
     "user": {
      "displayName": "Anubrata Das",
      "photoUrl": "https://lh3.googleusercontent.com/a-/AOh14GiI2340pPpSj6e4aG_4urL4HRwW3MRXEf5aoo2_QA=s64",
      "userId": "08781375266004215524"
     },
     "user_tz": -330
    },
    "id": "xK8-3opUOxuq"
   },
   "outputs": [],
   "source": [
    "curated_genes=curated_genes.loc[:,['Gene Name','AA Mutation']].sort_values(by='Gene Name')"
   ]
  },
  {
   "cell_type": "code",
   "execution_count": 118,
   "metadata": {
    "colab": {
     "base_uri": "https://localhost:8080/",
     "height": 419
    },
    "executionInfo": {
     "elapsed": 523,
     "status": "ok",
     "timestamp": 1627378070122,
     "user": {
      "displayName": "Anubrata Das",
      "photoUrl": "https://lh3.googleusercontent.com/a-/AOh14GiI2340pPpSj6e4aG_4urL4HRwW3MRXEf5aoo2_QA=s64",
      "userId": "08781375266004215524"
     },
     "user_tz": -330
    },
    "id": "lUjvQc3jPGON",
    "outputId": "9d312fd6-d0bc-4e13-9b56-8a35191f4354"
   },
   "outputs": [
    {
     "data": {
      "text/html": [
       "<div>\n",
       "<style scoped>\n",
       "    .dataframe tbody tr th:only-of-type {\n",
       "        vertical-align: middle;\n",
       "    }\n",
       "\n",
       "    .dataframe tbody tr th {\n",
       "        vertical-align: top;\n",
       "    }\n",
       "\n",
       "    .dataframe thead th {\n",
       "        text-align: right;\n",
       "    }\n",
       "</style>\n",
       "<table border=\"1\" class=\"dataframe\">\n",
       "  <thead>\n",
       "    <tr style=\"text-align: right;\">\n",
       "      <th></th>\n",
       "      <th>Gene Name</th>\n",
       "      <th>AA Mutation</th>\n",
       "    </tr>\n",
       "  </thead>\n",
       "  <tbody>\n",
       "    <tr>\n",
       "      <th>2187</th>\n",
       "      <td>ABL1</td>\n",
       "      <td>p.M244V</td>\n",
       "    </tr>\n",
       "    <tr>\n",
       "      <th>3640</th>\n",
       "      <td>ABL1</td>\n",
       "      <td>p.M351T</td>\n",
       "    </tr>\n",
       "    <tr>\n",
       "      <th>1933</th>\n",
       "      <td>ABL1</td>\n",
       "      <td>p.E478G</td>\n",
       "    </tr>\n",
       "    <tr>\n",
       "      <th>3646</th>\n",
       "      <td>ABL1</td>\n",
       "      <td>p.M388L</td>\n",
       "    </tr>\n",
       "    <tr>\n",
       "      <th>3647</th>\n",
       "      <td>ABL1</td>\n",
       "      <td>p.G250E</td>\n",
       "    </tr>\n",
       "    <tr>\n",
       "      <th>...</th>\n",
       "      <td>...</td>\n",
       "      <td>...</td>\n",
       "    </tr>\n",
       "    <tr>\n",
       "      <th>2088</th>\n",
       "      <td>EGFR</td>\n",
       "      <td>p.T790M</td>\n",
       "    </tr>\n",
       "    <tr>\n",
       "      <th>2079</th>\n",
       "      <td>EGFR</td>\n",
       "      <td>p.T790M</td>\n",
       "    </tr>\n",
       "    <tr>\n",
       "      <th>2071</th>\n",
       "      <td>EGFR</td>\n",
       "      <td>p.T745M</td>\n",
       "    </tr>\n",
       "    <tr>\n",
       "      <th>2108</th>\n",
       "      <td>EGFR</td>\n",
       "      <td>p.C752S</td>\n",
       "    </tr>\n",
       "    <tr>\n",
       "      <th>4435</th>\n",
       "      <td>EGFR</td>\n",
       "      <td>p.?</td>\n",
       "    </tr>\n",
       "  </tbody>\n",
       "</table>\n",
       "<p>2537 rows × 2 columns</p>\n",
       "</div>"
      ],
      "text/plain": [
       "     Gene Name AA Mutation\n",
       "2187      ABL1     p.M244V\n",
       "3640      ABL1     p.M351T\n",
       "1933      ABL1     p.E478G\n",
       "3646      ABL1     p.M388L\n",
       "3647      ABL1     p.G250E\n",
       "...        ...         ...\n",
       "2088      EGFR     p.T790M\n",
       "2079      EGFR     p.T790M\n",
       "2071      EGFR     p.T745M\n",
       "2108      EGFR     p.C752S\n",
       "4435      EGFR         p.?\n",
       "\n",
       "[2537 rows x 2 columns]"
      ]
     },
     "execution_count": 118,
     "metadata": {
      "tags": []
     },
     "output_type": "execute_result"
    }
   ],
   "source": [
    "curated_genes"
   ]
  },
  {
   "cell_type": "code",
   "execution_count": null,
   "metadata": {
    "id": "VAe0eACYSq2k"
   },
   "outputs": [],
   "source": []
  }
 ],
 "metadata": {
  "colab": {
   "name": "mutation_drug_resistance_genes.ipynb",
   "provenance": []
  },
  "language_info": {
   "codemirror_mode": {
    "name": "ipython",
    "version": 3
   },
   "file_extension": ".py",
   "mimetype": "text/x-python",
   "name": "python",
   "nbconvert_exporter": "python",
   "pygments_lexer": "ipython3",
   "version": "3.9.6"
  }
 },
 "nbformat": 4,
 "nbformat_minor": 1
}